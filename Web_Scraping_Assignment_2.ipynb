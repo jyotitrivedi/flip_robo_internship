{
 "cells": [
  {
   "cell_type": "code",
   "execution_count": 1,
   "metadata": {},
   "outputs": [
    {
     "name": "stdout",
     "output_type": "stream",
     "text": [
      "Collecting selenium\n",
      "  Downloading selenium-3.141.0-py2.py3-none-any.whl (904 kB)\n",
      "Requirement already satisfied: urllib3 in c:\\users\\jyoti\\anaconda3\\lib\\site-packages (from selenium) (1.25.11)\n",
      "Installing collected packages: selenium\n",
      "Successfully installed selenium-3.141.0\n"
     ]
    }
   ],
   "source": [
    "!pip install selenium"
   ]
  },
  {
   "cell_type": "code",
   "execution_count": 1,
   "metadata": {},
   "outputs": [],
   "source": [
    "import selenium\n",
    "import pandas as pd\n",
    "from selenium import webdriver\n",
    "import time"
   ]
  },
  {
   "cell_type": "code",
   "execution_count": 27,
   "metadata": {},
   "outputs": [],
   "source": [
    "driver = webdriver.Firefox()"
   ]
  },
  {
   "cell_type": "markdown",
   "metadata": {},
   "source": [
    "#### Q.1 Write a python program to scrape data for “Data Analyst” Job position in “Bangalore” location. You have to scrape the job-title, job-location, company_name, experience_required. You have to scrape first 10 jobs data."
   ]
  },
  {
   "cell_type": "code",
   "execution_count": 28,
   "metadata": {},
   "outputs": [],
   "source": [
    "url='https://www.naukri.com/'\n",
    "driver.get(url)"
   ]
  },
  {
   "cell_type": "code",
   "execution_count": 29,
   "metadata": {},
   "outputs": [
    {
     "data": {
      "text/plain": [
       "<selenium.webdriver.firefox.webelement.FirefoxWebElement (session=\"52f267a5-6589-49b9-981b-51c9d7af8c78\", element=\"69361e0c-feb5-4259-882a-b0a80be835c6\")>"
      ]
     },
     "execution_count": 29,
     "metadata": {},
     "output_type": "execute_result"
    }
   ],
   "source": [
    "job=driver.find_element_by_id('qsb-keyword-sugg')\n",
    "job"
   ]
  },
  {
   "cell_type": "code",
   "execution_count": 30,
   "metadata": {},
   "outputs": [],
   "source": [
    "job.send_keys('Data Analyst')"
   ]
  },
  {
   "cell_type": "code",
   "execution_count": 31,
   "metadata": {},
   "outputs": [
    {
     "data": {
      "text/plain": [
       "<selenium.webdriver.firefox.webelement.FirefoxWebElement (session=\"52f267a5-6589-49b9-981b-51c9d7af8c78\", element=\"19fc8b5e-3171-4989-81a8-075bf906f15c\")>"
      ]
     },
     "execution_count": 31,
     "metadata": {},
     "output_type": "execute_result"
    }
   ],
   "source": [
    "loc=driver.find_element_by_id('qsb-location-sugg')\n",
    "loc"
   ]
  },
  {
   "cell_type": "code",
   "execution_count": 32,
   "metadata": {},
   "outputs": [],
   "source": [
    "loc.send_keys('Bangalore')"
   ]
  },
  {
   "cell_type": "code",
   "execution_count": 33,
   "metadata": {},
   "outputs": [],
   "source": [
    "search=driver.find_element_by_xpath(\"//button[@class='btn']\")"
   ]
  },
  {
   "cell_type": "code",
   "execution_count": 34,
   "metadata": {},
   "outputs": [],
   "source": [
    "search.click()"
   ]
  },
  {
   "cell_type": "code",
   "execution_count": 37,
   "metadata": {},
   "outputs": [],
   "source": [
    "job_title=driver.find_elements_by_xpath(\"//a[@class='title fw500 ellipsis']\")"
   ]
  },
  {
   "cell_type": "code",
   "execution_count": 38,
   "metadata": {},
   "outputs": [
    {
     "data": {
      "text/plain": [
       "[<selenium.webdriver.firefox.webelement.FirefoxWebElement (session=\"52f267a5-6589-49b9-981b-51c9d7af8c78\", element=\"76f8ad26-0b7e-4af7-a15f-2d23df2cafbd\")>,\n",
       " <selenium.webdriver.firefox.webelement.FirefoxWebElement (session=\"52f267a5-6589-49b9-981b-51c9d7af8c78\", element=\"5b527944-ad10-4c91-898d-88995e417092\")>,\n",
       " <selenium.webdriver.firefox.webelement.FirefoxWebElement (session=\"52f267a5-6589-49b9-981b-51c9d7af8c78\", element=\"5bde546e-11c0-4f83-a47e-ca5d3d4f4722\")>,\n",
       " <selenium.webdriver.firefox.webelement.FirefoxWebElement (session=\"52f267a5-6589-49b9-981b-51c9d7af8c78\", element=\"1b78d530-3b63-48b7-8080-f689dbb390f6\")>,\n",
       " <selenium.webdriver.firefox.webelement.FirefoxWebElement (session=\"52f267a5-6589-49b9-981b-51c9d7af8c78\", element=\"2c1abddb-ffab-404c-af05-b1b0275ebaf2\")>,\n",
       " <selenium.webdriver.firefox.webelement.FirefoxWebElement (session=\"52f267a5-6589-49b9-981b-51c9d7af8c78\", element=\"f872f439-9fbf-48f8-89d7-7c9e2e075a31\")>,\n",
       " <selenium.webdriver.firefox.webelement.FirefoxWebElement (session=\"52f267a5-6589-49b9-981b-51c9d7af8c78\", element=\"ab3a8ca0-6846-42d2-a8c9-854a152d979d\")>,\n",
       " <selenium.webdriver.firefox.webelement.FirefoxWebElement (session=\"52f267a5-6589-49b9-981b-51c9d7af8c78\", element=\"56cd8b8b-6acd-4e06-b996-e1eb14757cc6\")>,\n",
       " <selenium.webdriver.firefox.webelement.FirefoxWebElement (session=\"52f267a5-6589-49b9-981b-51c9d7af8c78\", element=\"05e4e1d0-b346-4d7e-b131-c254ba64f82f\")>,\n",
       " <selenium.webdriver.firefox.webelement.FirefoxWebElement (session=\"52f267a5-6589-49b9-981b-51c9d7af8c78\", element=\"78d1b11d-f999-4b91-952a-786d3e15523e\")>,\n",
       " <selenium.webdriver.firefox.webelement.FirefoxWebElement (session=\"52f267a5-6589-49b9-981b-51c9d7af8c78\", element=\"cd8748e7-a2ad-4f09-bff1-b0de73cc67e1\")>,\n",
       " <selenium.webdriver.firefox.webelement.FirefoxWebElement (session=\"52f267a5-6589-49b9-981b-51c9d7af8c78\", element=\"e6cf47da-5548-46d2-8b54-d606b19932eb\")>,\n",
       " <selenium.webdriver.firefox.webelement.FirefoxWebElement (session=\"52f267a5-6589-49b9-981b-51c9d7af8c78\", element=\"b8dbd8b5-b0ce-4f73-9983-0715f97b9d27\")>,\n",
       " <selenium.webdriver.firefox.webelement.FirefoxWebElement (session=\"52f267a5-6589-49b9-981b-51c9d7af8c78\", element=\"12683713-7c70-44c1-a4a9-11d324b5014a\")>,\n",
       " <selenium.webdriver.firefox.webelement.FirefoxWebElement (session=\"52f267a5-6589-49b9-981b-51c9d7af8c78\", element=\"9b5e2953-5d70-4c76-9d25-44762c90bd58\")>,\n",
       " <selenium.webdriver.firefox.webelement.FirefoxWebElement (session=\"52f267a5-6589-49b9-981b-51c9d7af8c78\", element=\"e3e02e94-5828-4222-8f31-b3c44967eb4a\")>,\n",
       " <selenium.webdriver.firefox.webelement.FirefoxWebElement (session=\"52f267a5-6589-49b9-981b-51c9d7af8c78\", element=\"b1bac8f6-e8f7-41bf-a085-48eff1318777\")>,\n",
       " <selenium.webdriver.firefox.webelement.FirefoxWebElement (session=\"52f267a5-6589-49b9-981b-51c9d7af8c78\", element=\"a46dd544-24dc-4d4b-b1c9-2810daba9f49\")>,\n",
       " <selenium.webdriver.firefox.webelement.FirefoxWebElement (session=\"52f267a5-6589-49b9-981b-51c9d7af8c78\", element=\"fa17e792-bb74-4ccc-b920-84947bf32336\")>,\n",
       " <selenium.webdriver.firefox.webelement.FirefoxWebElement (session=\"52f267a5-6589-49b9-981b-51c9d7af8c78\", element=\"7676166e-2c17-4282-a1af-e365a71aab1e\")>]"
      ]
     },
     "execution_count": 38,
     "metadata": {},
     "output_type": "execute_result"
    }
   ],
   "source": [
    "job_title"
   ]
  },
  {
   "cell_type": "code",
   "execution_count": 41,
   "metadata": {},
   "outputs": [
    {
     "data": {
      "text/plain": [
       "['Data Scientist / Data Analyst -Business Analyst',\n",
       " 'Associate Systems and Data Analyst',\n",
       " 'Data analysts',\n",
       " 'Data analysts',\n",
       " 'Data Analyst',\n",
       " 'Data Analyst',\n",
       " 'Data Analyst - Category Demand Management (Revenue & Growth)',\n",
       " 'Job Opportunity For Talent Data Analyst - Cornerstone OnDemand',\n",
       " 'Consultant-Data Analyst -Bangalore',\n",
       " 'Data Analyst - Work from Home',\n",
       " 'Data Analyst (Contractual)',\n",
       " 'Data Analyst',\n",
       " 'Hiring Consultant Data Analyst Contractual',\n",
       " 'Lab Data Analyst - SAS Progamming',\n",
       " 'Associate - Data Analyst ( Growth)',\n",
       " 'Data Analyst - Revenue & Growth',\n",
       " 'Senior Data Analyst - Data Lineage',\n",
       " 'Big Data Analyst',\n",
       " 'Associate - Data Analyst - Category Solutions',\n",
       " 'Opportunity with TEKsystems | Data Analyst']"
      ]
     },
     "execution_count": 41,
     "metadata": {},
     "output_type": "execute_result"
    }
   ],
   "source": [
    "job_titles=[]\n",
    "for i in job_title:\n",
    "    job_titles.append(i.text)\n",
    "job_titles    "
   ]
  },
  {
   "cell_type": "code",
   "execution_count": 43,
   "metadata": {},
   "outputs": [
    {
     "data": {
      "text/plain": [
       "[<selenium.webdriver.firefox.webelement.FirefoxWebElement (session=\"52f267a5-6589-49b9-981b-51c9d7af8c78\", element=\"4fb939ae-29d4-4504-b2c8-3b382607ec4f\")>,\n",
       " <selenium.webdriver.firefox.webelement.FirefoxWebElement (session=\"52f267a5-6589-49b9-981b-51c9d7af8c78\", element=\"a3c45751-109b-4a41-a014-e50800eafbac\")>,\n",
       " <selenium.webdriver.firefox.webelement.FirefoxWebElement (session=\"52f267a5-6589-49b9-981b-51c9d7af8c78\", element=\"cae94b6d-e64f-44f0-b3e3-cdc5f13d7e9a\")>,\n",
       " <selenium.webdriver.firefox.webelement.FirefoxWebElement (session=\"52f267a5-6589-49b9-981b-51c9d7af8c78\", element=\"05dc0ce2-907f-48b9-ae77-f52bef24c384\")>,\n",
       " <selenium.webdriver.firefox.webelement.FirefoxWebElement (session=\"52f267a5-6589-49b9-981b-51c9d7af8c78\", element=\"d2e11365-e7ed-419b-aa56-88b1088fdfaa\")>,\n",
       " <selenium.webdriver.firefox.webelement.FirefoxWebElement (session=\"52f267a5-6589-49b9-981b-51c9d7af8c78\", element=\"0c8352ed-5c9b-4852-ab8b-2deeabea3398\")>,\n",
       " <selenium.webdriver.firefox.webelement.FirefoxWebElement (session=\"52f267a5-6589-49b9-981b-51c9d7af8c78\", element=\"a0c07925-6adb-4edc-86c2-4a3f91dde652\")>,\n",
       " <selenium.webdriver.firefox.webelement.FirefoxWebElement (session=\"52f267a5-6589-49b9-981b-51c9d7af8c78\", element=\"905020d2-94aa-469c-85ef-e3e731a762ad\")>,\n",
       " <selenium.webdriver.firefox.webelement.FirefoxWebElement (session=\"52f267a5-6589-49b9-981b-51c9d7af8c78\", element=\"18d2af52-2d87-42cd-a5df-01cd69291530\")>,\n",
       " <selenium.webdriver.firefox.webelement.FirefoxWebElement (session=\"52f267a5-6589-49b9-981b-51c9d7af8c78\", element=\"bc747656-fb00-4eee-8067-63b5c380d941\")>,\n",
       " <selenium.webdriver.firefox.webelement.FirefoxWebElement (session=\"52f267a5-6589-49b9-981b-51c9d7af8c78\", element=\"ea9a5886-1ca0-48bf-b522-fc9acd56bf66\")>,\n",
       " <selenium.webdriver.firefox.webelement.FirefoxWebElement (session=\"52f267a5-6589-49b9-981b-51c9d7af8c78\", element=\"f9b1ef37-b2c8-49ec-807c-7d7e5d10338a\")>,\n",
       " <selenium.webdriver.firefox.webelement.FirefoxWebElement (session=\"52f267a5-6589-49b9-981b-51c9d7af8c78\", element=\"3b537d7f-320d-42e5-a804-f86e78606d25\")>,\n",
       " <selenium.webdriver.firefox.webelement.FirefoxWebElement (session=\"52f267a5-6589-49b9-981b-51c9d7af8c78\", element=\"0e93948c-2c0d-492e-bd0c-d5c28c96a33c\")>,\n",
       " <selenium.webdriver.firefox.webelement.FirefoxWebElement (session=\"52f267a5-6589-49b9-981b-51c9d7af8c78\", element=\"ac52dfb7-3ae6-4207-969f-83362f8eab77\")>,\n",
       " <selenium.webdriver.firefox.webelement.FirefoxWebElement (session=\"52f267a5-6589-49b9-981b-51c9d7af8c78\", element=\"175135cf-3833-4abc-8641-7cff1a845f83\")>,\n",
       " <selenium.webdriver.firefox.webelement.FirefoxWebElement (session=\"52f267a5-6589-49b9-981b-51c9d7af8c78\", element=\"9473f544-015a-478d-a689-acff3ccd6030\")>,\n",
       " <selenium.webdriver.firefox.webelement.FirefoxWebElement (session=\"52f267a5-6589-49b9-981b-51c9d7af8c78\", element=\"68ea1bf7-49ff-4537-b781-825b7eb1b230\")>,\n",
       " <selenium.webdriver.firefox.webelement.FirefoxWebElement (session=\"52f267a5-6589-49b9-981b-51c9d7af8c78\", element=\"394f8d48-75a9-41ca-825a-c1e504255a3b\")>,\n",
       " <selenium.webdriver.firefox.webelement.FirefoxWebElement (session=\"52f267a5-6589-49b9-981b-51c9d7af8c78\", element=\"a9f0dac8-a71e-4222-aca5-0bc3eab2c25f\")>]"
      ]
     },
     "execution_count": 43,
     "metadata": {},
     "output_type": "execute_result"
    }
   ],
   "source": [
    "company=driver.find_elements_by_xpath(\"//a[@class='subTitle ellipsis fleft']\")\n",
    "company"
   ]
  },
  {
   "cell_type": "code",
   "execution_count": 44,
   "metadata": {},
   "outputs": [
    {
     "data": {
      "text/plain": [
       "['Inflexion Analytix Private Limited',\n",
       " 'Boeing',\n",
       " 'IBM India Pvt. Limited',\n",
       " 'IBM India Pvt. Limited',\n",
       " 'Myntra Designs Pvt. Ltd.',\n",
       " 'Myntra Designs Pvt. Ltd.',\n",
       " 'Myntra Designs Pvt. Ltd.',\n",
       " 'Cornerstone OnDemand Services India Pvt Ltd',\n",
       " 'Innovsource Services Private Limited',\n",
       " 'POWER STORES E COMMERCE PRIVATE LIMITED',\n",
       " 'Flipkart Internet Private Limited',\n",
       " 'IBM India Pvt. Limited',\n",
       " 'Flipkart Internet Private Limited',\n",
       " 'IQVIA RDS India Pvt Ltd',\n",
       " 'Myntra Designs Pvt. Ltd.',\n",
       " 'Myntra Designs Pvt. Ltd.',\n",
       " 'Opex Global Services',\n",
       " 'Aruba Networks',\n",
       " 'Myntra Designs Pvt. Ltd.',\n",
       " 'Allegis Services India Pvt. Ltd.']"
      ]
     },
     "execution_count": 44,
     "metadata": {},
     "output_type": "execute_result"
    }
   ],
   "source": [
    "company_name=[]\n",
    "for i in company:\n",
    "    company_name.append(i.text)\n",
    "company_name    "
   ]
  },
  {
   "cell_type": "code",
   "execution_count": 51,
   "metadata": {},
   "outputs": [
    {
     "data": {
      "text/plain": [
       "[<selenium.webdriver.firefox.webelement.FirefoxWebElement (session=\"52f267a5-6589-49b9-981b-51c9d7af8c78\", element=\"f65925f3-c46b-405e-98b5-c25c8978c300\")>,\n",
       " <selenium.webdriver.firefox.webelement.FirefoxWebElement (session=\"52f267a5-6589-49b9-981b-51c9d7af8c78\", element=\"a0ef44b2-661a-4b8a-ad8d-258a96df7945\")>,\n",
       " <selenium.webdriver.firefox.webelement.FirefoxWebElement (session=\"52f267a5-6589-49b9-981b-51c9d7af8c78\", element=\"1e0e6f48-f8ef-4e0c-b042-cf7cbfab21dd\")>,\n",
       " <selenium.webdriver.firefox.webelement.FirefoxWebElement (session=\"52f267a5-6589-49b9-981b-51c9d7af8c78\", element=\"15ed5c98-cdcc-4ed2-be30-3177cde99992\")>,\n",
       " <selenium.webdriver.firefox.webelement.FirefoxWebElement (session=\"52f267a5-6589-49b9-981b-51c9d7af8c78\", element=\"747f898d-608c-4a3f-a006-513548420e5e\")>,\n",
       " <selenium.webdriver.firefox.webelement.FirefoxWebElement (session=\"52f267a5-6589-49b9-981b-51c9d7af8c78\", element=\"48adfc5a-dcd5-4b2c-b019-34deb2610c3f\")>,\n",
       " <selenium.webdriver.firefox.webelement.FirefoxWebElement (session=\"52f267a5-6589-49b9-981b-51c9d7af8c78\", element=\"e8fbbe5e-6286-484b-a777-a928953686dc\")>,\n",
       " <selenium.webdriver.firefox.webelement.FirefoxWebElement (session=\"52f267a5-6589-49b9-981b-51c9d7af8c78\", element=\"3cea02a9-a95f-4209-bb9f-f5514dc8c04d\")>,\n",
       " <selenium.webdriver.firefox.webelement.FirefoxWebElement (session=\"52f267a5-6589-49b9-981b-51c9d7af8c78\", element=\"f6d70f62-65ac-4b8f-a9ea-327ec3c73024\")>,\n",
       " <selenium.webdriver.firefox.webelement.FirefoxWebElement (session=\"52f267a5-6589-49b9-981b-51c9d7af8c78\", element=\"b610266e-cef6-4c9c-9a15-7b1f1971594b\")>,\n",
       " <selenium.webdriver.firefox.webelement.FirefoxWebElement (session=\"52f267a5-6589-49b9-981b-51c9d7af8c78\", element=\"51c6c27a-5d4d-45ec-906c-f198d266b23e\")>,\n",
       " <selenium.webdriver.firefox.webelement.FirefoxWebElement (session=\"52f267a5-6589-49b9-981b-51c9d7af8c78\", element=\"3d23dfe5-982f-45aa-9a97-9e7f4568a5a0\")>,\n",
       " <selenium.webdriver.firefox.webelement.FirefoxWebElement (session=\"52f267a5-6589-49b9-981b-51c9d7af8c78\", element=\"e47d2b48-3533-40c6-8d61-e56a349d8139\")>,\n",
       " <selenium.webdriver.firefox.webelement.FirefoxWebElement (session=\"52f267a5-6589-49b9-981b-51c9d7af8c78\", element=\"b349b71d-4ec9-4402-ba14-c00b3bcc3834\")>,\n",
       " <selenium.webdriver.firefox.webelement.FirefoxWebElement (session=\"52f267a5-6589-49b9-981b-51c9d7af8c78\", element=\"92fb171f-61da-420e-ba29-3b508a21cf10\")>,\n",
       " <selenium.webdriver.firefox.webelement.FirefoxWebElement (session=\"52f267a5-6589-49b9-981b-51c9d7af8c78\", element=\"6aad7a30-1e0a-422b-9445-533f06c7df4a\")>,\n",
       " <selenium.webdriver.firefox.webelement.FirefoxWebElement (session=\"52f267a5-6589-49b9-981b-51c9d7af8c78\", element=\"ea47a76c-c39f-4502-aa6f-fee3a7379a4b\")>,\n",
       " <selenium.webdriver.firefox.webelement.FirefoxWebElement (session=\"52f267a5-6589-49b9-981b-51c9d7af8c78\", element=\"2740981f-41b0-4770-ae39-dfd931f3b39a\")>,\n",
       " <selenium.webdriver.firefox.webelement.FirefoxWebElement (session=\"52f267a5-6589-49b9-981b-51c9d7af8c78\", element=\"dafb4d9c-ba06-4e70-a494-b7a308d9dd17\")>,\n",
       " <selenium.webdriver.firefox.webelement.FirefoxWebElement (session=\"52f267a5-6589-49b9-981b-51c9d7af8c78\", element=\"dba81913-ba5a-4591-8a7b-973f6ea376c2\")>]"
      ]
     },
     "execution_count": 51,
     "metadata": {},
     "output_type": "execute_result"
    }
   ],
   "source": [
    "exp=driver.find_elements_by_xpath(\"//li[@class='fleft grey-text br2 placeHolderLi experience']//span\")\n",
    "exp"
   ]
  },
  {
   "cell_type": "code",
   "execution_count": 52,
   "metadata": {},
   "outputs": [
    {
     "data": {
      "text/plain": [
       "['0-3 Yrs',\n",
       " '0-4 Yrs',\n",
       " '5-6 Yrs',\n",
       " '3-5 Yrs',\n",
       " '3-5 Yrs',\n",
       " '3-8 Yrs',\n",
       " '1-4 Yrs',\n",
       " '3-5 Yrs',\n",
       " '2-7 Yrs',\n",
       " '2-5 Yrs',\n",
       " '1-4 Yrs',\n",
       " '5-10 Yrs',\n",
       " '2-6 Yrs',\n",
       " '1-6 Yrs',\n",
       " '2-3 Yrs',\n",
       " '2-3 Yrs',\n",
       " '5-10 Yrs',\n",
       " '4-8 Yrs',\n",
       " '3-5 Yrs',\n",
       " '8-13 Yrs']"
      ]
     },
     "execution_count": 52,
     "metadata": {},
     "output_type": "execute_result"
    }
   ],
   "source": [
    "experience=[]\n",
    "for i in exp:\n",
    "    experience.append(i.text)\n",
    "experience    "
   ]
  },
  {
   "cell_type": "code",
   "execution_count": 53,
   "metadata": {},
   "outputs": [
    {
     "data": {
      "text/plain": [
       "[<selenium.webdriver.firefox.webelement.FirefoxWebElement (session=\"52f267a5-6589-49b9-981b-51c9d7af8c78\", element=\"7909e3fe-c7ec-4ffb-a0fb-1fb4fcb8328a\")>,\n",
       " <selenium.webdriver.firefox.webelement.FirefoxWebElement (session=\"52f267a5-6589-49b9-981b-51c9d7af8c78\", element=\"c757999e-a8b3-407c-b9d8-dae629508098\")>,\n",
       " <selenium.webdriver.firefox.webelement.FirefoxWebElement (session=\"52f267a5-6589-49b9-981b-51c9d7af8c78\", element=\"c7b22304-2cc6-4191-b996-5c34d454b406\")>,\n",
       " <selenium.webdriver.firefox.webelement.FirefoxWebElement (session=\"52f267a5-6589-49b9-981b-51c9d7af8c78\", element=\"2a4c8445-e23f-44db-b820-ed9432fba64e\")>,\n",
       " <selenium.webdriver.firefox.webelement.FirefoxWebElement (session=\"52f267a5-6589-49b9-981b-51c9d7af8c78\", element=\"84084ac6-8773-42e3-80d8-98685ddd96ed\")>,\n",
       " <selenium.webdriver.firefox.webelement.FirefoxWebElement (session=\"52f267a5-6589-49b9-981b-51c9d7af8c78\", element=\"5135a1a7-6536-4437-9ac2-972bd987d121\")>,\n",
       " <selenium.webdriver.firefox.webelement.FirefoxWebElement (session=\"52f267a5-6589-49b9-981b-51c9d7af8c78\", element=\"978d01d8-c8be-479d-ad82-b78aa0a1ef43\")>,\n",
       " <selenium.webdriver.firefox.webelement.FirefoxWebElement (session=\"52f267a5-6589-49b9-981b-51c9d7af8c78\", element=\"27e32441-5e30-49dc-8768-bed4367368f8\")>,\n",
       " <selenium.webdriver.firefox.webelement.FirefoxWebElement (session=\"52f267a5-6589-49b9-981b-51c9d7af8c78\", element=\"8376048c-a106-467f-8b03-9eaa40fea9fe\")>,\n",
       " <selenium.webdriver.firefox.webelement.FirefoxWebElement (session=\"52f267a5-6589-49b9-981b-51c9d7af8c78\", element=\"80a3d6e0-c152-4e58-bf1f-41adde10875f\")>,\n",
       " <selenium.webdriver.firefox.webelement.FirefoxWebElement (session=\"52f267a5-6589-49b9-981b-51c9d7af8c78\", element=\"3c4e4bd8-f2f3-475e-b5c4-0d1f973cd39a\")>,\n",
       " <selenium.webdriver.firefox.webelement.FirefoxWebElement (session=\"52f267a5-6589-49b9-981b-51c9d7af8c78\", element=\"10dccf2d-19e2-4d8c-9ac9-3eb602ce7dab\")>,\n",
       " <selenium.webdriver.firefox.webelement.FirefoxWebElement (session=\"52f267a5-6589-49b9-981b-51c9d7af8c78\", element=\"d1bddb7b-9c9c-4451-8f13-83fd26697415\")>,\n",
       " <selenium.webdriver.firefox.webelement.FirefoxWebElement (session=\"52f267a5-6589-49b9-981b-51c9d7af8c78\", element=\"c46eb7b8-58f8-43f7-a7b2-b851ebad7402\")>,\n",
       " <selenium.webdriver.firefox.webelement.FirefoxWebElement (session=\"52f267a5-6589-49b9-981b-51c9d7af8c78\", element=\"2895645a-7792-49aa-a873-7239e2fe2f85\")>,\n",
       " <selenium.webdriver.firefox.webelement.FirefoxWebElement (session=\"52f267a5-6589-49b9-981b-51c9d7af8c78\", element=\"e346e862-4bdc-4197-a623-74b0878b447f\")>,\n",
       " <selenium.webdriver.firefox.webelement.FirefoxWebElement (session=\"52f267a5-6589-49b9-981b-51c9d7af8c78\", element=\"c034003b-3421-4e4c-91ed-e166160b7865\")>,\n",
       " <selenium.webdriver.firefox.webelement.FirefoxWebElement (session=\"52f267a5-6589-49b9-981b-51c9d7af8c78\", element=\"33eca4ea-92e6-44c7-beb1-2d761d989ea3\")>,\n",
       " <selenium.webdriver.firefox.webelement.FirefoxWebElement (session=\"52f267a5-6589-49b9-981b-51c9d7af8c78\", element=\"13ceda59-2dc6-4c8c-90bf-0f7707142c1b\")>,\n",
       " <selenium.webdriver.firefox.webelement.FirefoxWebElement (session=\"52f267a5-6589-49b9-981b-51c9d7af8c78\", element=\"d8fc8482-9754-4a70-9e1d-3a5ff29d9d4d\")>]"
      ]
     },
     "execution_count": 53,
     "metadata": {},
     "output_type": "execute_result"
    }
   ],
   "source": [
    "location=driver.find_elements_by_xpath(\"//li[@class='fleft grey-text br2 placeHolderLi location']//span\")\n",
    "location"
   ]
  },
  {
   "cell_type": "code",
   "execution_count": 54,
   "metadata": {},
   "outputs": [
    {
     "data": {
      "text/plain": [
       "['Mumbai, Hyderabad/Secunderabad, Pune, Gurgaon/Gurugram, Chennai, Bangalore/Bengaluru',\n",
       " 'Bangalore/Bengaluru',\n",
       " 'Bengaluru/Bangalore',\n",
       " 'Bangalore/Bengaluru',\n",
       " 'Bangalore/Bengaluru',\n",
       " 'Bangalore/Bengaluru',\n",
       " 'Bangalore/Bengaluru',\n",
       " 'Kolkata, Pune, Chennai, Bangalore/Bengaluru, Delhi / NCR, Mumbai (All Areas)',\n",
       " 'Bangalore/Bengaluru',\n",
       " 'Pune, Bangalore/Bengaluru, Mumbai (All Areas)',\n",
       " 'Bangalore/Bengaluru(Bellandur)',\n",
       " 'Bangalore/Bengaluru',\n",
       " 'Bangalore/Bengaluru',\n",
       " 'Bangalore/Bengaluru, Mumbai (All Areas)',\n",
       " 'Bangalore/Bengaluru',\n",
       " 'Bangalore/Bengaluru',\n",
       " 'Bangalore/Bengaluru',\n",
       " 'Bangalore/Bengaluru',\n",
       " 'Bengaluru',\n",
       " 'Bangalore/Bengaluru']"
      ]
     },
     "execution_count": 54,
     "metadata": {},
     "output_type": "execute_result"
    }
   ],
   "source": [
    "locations=[]\n",
    "for i in location:\n",
    "    locations.append(i.text)\n",
    "locations    "
   ]
  },
  {
   "cell_type": "code",
   "execution_count": 55,
   "metadata": {},
   "outputs": [
    {
     "data": {
      "text/html": [
       "<div>\n",
       "<style scoped>\n",
       "    .dataframe tbody tr th:only-of-type {\n",
       "        vertical-align: middle;\n",
       "    }\n",
       "\n",
       "    .dataframe tbody tr th {\n",
       "        vertical-align: top;\n",
       "    }\n",
       "\n",
       "    .dataframe thead th {\n",
       "        text-align: right;\n",
       "    }\n",
       "</style>\n",
       "<table border=\"1\" class=\"dataframe\">\n",
       "  <thead>\n",
       "    <tr style=\"text-align: right;\">\n",
       "      <th></th>\n",
       "      <th>Position</th>\n",
       "      <th>Company Name</th>\n",
       "      <th>Experience</th>\n",
       "      <th>Location</th>\n",
       "    </tr>\n",
       "  </thead>\n",
       "  <tbody>\n",
       "    <tr>\n",
       "      <th>0</th>\n",
       "      <td>Data Scientist / Data Analyst -Business Analyst</td>\n",
       "      <td>Inflexion Analytix Private Limited</td>\n",
       "      <td>0-3 Yrs</td>\n",
       "      <td>Mumbai, Hyderabad/Secunderabad, Pune, Gurgaon/...</td>\n",
       "    </tr>\n",
       "    <tr>\n",
       "      <th>1</th>\n",
       "      <td>Associate Systems and Data Analyst</td>\n",
       "      <td>Boeing</td>\n",
       "      <td>0-4 Yrs</td>\n",
       "      <td>Bangalore/Bengaluru</td>\n",
       "    </tr>\n",
       "    <tr>\n",
       "      <th>2</th>\n",
       "      <td>Data analysts</td>\n",
       "      <td>IBM India Pvt. Limited</td>\n",
       "      <td>5-6 Yrs</td>\n",
       "      <td>Bengaluru/Bangalore</td>\n",
       "    </tr>\n",
       "    <tr>\n",
       "      <th>3</th>\n",
       "      <td>Data analysts</td>\n",
       "      <td>IBM India Pvt. Limited</td>\n",
       "      <td>3-5 Yrs</td>\n",
       "      <td>Bangalore/Bengaluru</td>\n",
       "    </tr>\n",
       "    <tr>\n",
       "      <th>4</th>\n",
       "      <td>Data Analyst</td>\n",
       "      <td>Myntra Designs Pvt. Ltd.</td>\n",
       "      <td>3-5 Yrs</td>\n",
       "      <td>Bangalore/Bengaluru</td>\n",
       "    </tr>\n",
       "    <tr>\n",
       "      <th>5</th>\n",
       "      <td>Data Analyst</td>\n",
       "      <td>Myntra Designs Pvt. Ltd.</td>\n",
       "      <td>3-8 Yrs</td>\n",
       "      <td>Bangalore/Bengaluru</td>\n",
       "    </tr>\n",
       "    <tr>\n",
       "      <th>6</th>\n",
       "      <td>Data Analyst - Category Demand Management (Rev...</td>\n",
       "      <td>Myntra Designs Pvt. Ltd.</td>\n",
       "      <td>1-4 Yrs</td>\n",
       "      <td>Bangalore/Bengaluru</td>\n",
       "    </tr>\n",
       "    <tr>\n",
       "      <th>7</th>\n",
       "      <td>Job Opportunity For Talent Data Analyst - Corn...</td>\n",
       "      <td>Cornerstone OnDemand Services India Pvt Ltd</td>\n",
       "      <td>3-5 Yrs</td>\n",
       "      <td>Kolkata, Pune, Chennai, Bangalore/Bengaluru, D...</td>\n",
       "    </tr>\n",
       "    <tr>\n",
       "      <th>8</th>\n",
       "      <td>Consultant-Data Analyst -Bangalore</td>\n",
       "      <td>Innovsource Services Private Limited</td>\n",
       "      <td>2-7 Yrs</td>\n",
       "      <td>Bangalore/Bengaluru</td>\n",
       "    </tr>\n",
       "    <tr>\n",
       "      <th>9</th>\n",
       "      <td>Data Analyst - Work from Home</td>\n",
       "      <td>POWER STORES E COMMERCE PRIVATE LIMITED</td>\n",
       "      <td>2-5 Yrs</td>\n",
       "      <td>Pune, Bangalore/Bengaluru, Mumbai (All Areas)</td>\n",
       "    </tr>\n",
       "  </tbody>\n",
       "</table>\n",
       "</div>"
      ],
      "text/plain": [
       "                                            Position  \\\n",
       "0    Data Scientist / Data Analyst -Business Analyst   \n",
       "1                 Associate Systems and Data Analyst   \n",
       "2                                      Data analysts   \n",
       "3                                      Data analysts   \n",
       "4                                       Data Analyst   \n",
       "5                                       Data Analyst   \n",
       "6  Data Analyst - Category Demand Management (Rev...   \n",
       "7  Job Opportunity For Talent Data Analyst - Corn...   \n",
       "8                 Consultant-Data Analyst -Bangalore   \n",
       "9                      Data Analyst - Work from Home   \n",
       "\n",
       "                                  Company Name Experience  \\\n",
       "0           Inflexion Analytix Private Limited    0-3 Yrs   \n",
       "1                                       Boeing    0-4 Yrs   \n",
       "2                       IBM India Pvt. Limited    5-6 Yrs   \n",
       "3                       IBM India Pvt. Limited    3-5 Yrs   \n",
       "4                     Myntra Designs Pvt. Ltd.    3-5 Yrs   \n",
       "5                     Myntra Designs Pvt. Ltd.    3-8 Yrs   \n",
       "6                     Myntra Designs Pvt. Ltd.    1-4 Yrs   \n",
       "7  Cornerstone OnDemand Services India Pvt Ltd    3-5 Yrs   \n",
       "8         Innovsource Services Private Limited    2-7 Yrs   \n",
       "9      POWER STORES E COMMERCE PRIVATE LIMITED    2-5 Yrs   \n",
       "\n",
       "                                            Location  \n",
       "0  Mumbai, Hyderabad/Secunderabad, Pune, Gurgaon/...  \n",
       "1                                Bangalore/Bengaluru  \n",
       "2                                Bengaluru/Bangalore  \n",
       "3                                Bangalore/Bengaluru  \n",
       "4                                Bangalore/Bengaluru  \n",
       "5                                Bangalore/Bengaluru  \n",
       "6                                Bangalore/Bengaluru  \n",
       "7  Kolkata, Pune, Chennai, Bangalore/Bengaluru, D...  \n",
       "8                                Bangalore/Bengaluru  \n",
       "9      Pune, Bangalore/Bengaluru, Mumbai (All Areas)  "
      ]
     },
     "execution_count": 55,
     "metadata": {},
     "output_type": "execute_result"
    }
   ],
   "source": [
    "vacancy=pd.DataFrame()\n",
    "vacancy['Position']=job_titles[0:10]\n",
    "vacancy['Company Name']=company_name[0:10]\n",
    "vacancy['Experience']=experience[0:10]\n",
    "vacancy['Location']=locations[0:10]\n",
    "vacancy"
   ]
  },
  {
   "cell_type": "markdown",
   "metadata": {},
   "source": [
    "#### Q2: Write a python program to scrape data for “Data Scientist” Job position in “Bangalore” location. You have to scrape the job-title, job-location, company_name, full job-description. You have to scrape first 10 jobs data."
   ]
  },
  {
   "cell_type": "code",
   "execution_count": 2,
   "metadata": {},
   "outputs": [],
   "source": [
    "driver = webdriver.Firefox()\n",
    "url='https://www.naukri.com/'\n",
    "driver.get(url)"
   ]
  },
  {
   "cell_type": "code",
   "execution_count": 3,
   "metadata": {},
   "outputs": [],
   "source": [
    "job=driver.find_element_by_id('qsb-keyword-sugg')\n",
    "job.send_keys('Data Scientist')"
   ]
  },
  {
   "cell_type": "code",
   "execution_count": 4,
   "metadata": {},
   "outputs": [],
   "source": [
    "loc=driver.find_element_by_id('qsb-location-sugg')\n",
    "loc.send_keys('Bangalore')"
   ]
  },
  {
   "cell_type": "code",
   "execution_count": 5,
   "metadata": {},
   "outputs": [],
   "source": [
    "search=driver.find_element_by_xpath(\"//button[@class='btn']\")\n",
    "search.click()"
   ]
  },
  {
   "cell_type": "code",
   "execution_count": 6,
   "metadata": {},
   "outputs": [],
   "source": [
    "job_title=driver.find_elements_by_xpath(\"//a[@class='title fw500 ellipsis']\")"
   ]
  },
  {
   "cell_type": "code",
   "execution_count": 7,
   "metadata": {},
   "outputs": [
    {
     "data": {
      "text/plain": [
       "['Data Scientist / Data Analyst -Business Analyst',\n",
       " 'Senior / Lead Data Scientist',\n",
       " 'Data Scientist, Machine Learning',\n",
       " 'Senior Data Scientist',\n",
       " 'Data analytics / Data scientist intern (work from Home)',\n",
       " 'VP - Sr. Data Scientist For Morgan Stanley, Bangalore',\n",
       " 'data scientist',\n",
       " 'Data Scientist',\n",
       " 'Sr Data Scientist',\n",
       " 'Looking For Data Scientist For Infogain',\n",
       " 'Data Scientist - Python/MATLAB/Machine Learning Algorithms',\n",
       " 'Data Scientist - Machine Learning',\n",
       " 'Data Scientist - IBM Garage',\n",
       " 'Digital Enterprise Architect (Data Scientist)',\n",
       " 'Data Scientist',\n",
       " 'Data Scientist',\n",
       " 'Data Scientist',\n",
       " 'Senior Data Scientist',\n",
       " 'Senior Data Scientist',\n",
       " 'Data Scientist (Visualization)']"
      ]
     },
     "execution_count": 7,
     "metadata": {},
     "output_type": "execute_result"
    }
   ],
   "source": [
    "job_titles=[]\n",
    "for i in job_title:\n",
    "    job_titles.append(i.text)\n",
    "job_titles"
   ]
  },
  {
   "cell_type": "code",
   "execution_count": 8,
   "metadata": {},
   "outputs": [],
   "source": [
    "company=driver.find_elements_by_xpath(\"//a[@class='subTitle ellipsis fleft']\")"
   ]
  },
  {
   "cell_type": "code",
   "execution_count": 9,
   "metadata": {},
   "outputs": [
    {
     "data": {
      "text/plain": [
       "['Inflexion Analytix Private Limited',\n",
       " 'TVS CREDIT SERVICES LIMITED',\n",
       " 'Fractal Analytics',\n",
       " 'RedBus',\n",
       " 'TalkValley LLC',\n",
       " 'Morgan Stanley Advantage Services',\n",
       " 'Global Talent Pool',\n",
       " 'Fractal Analytics',\n",
       " 'intelligent industrial internet systems pvt ltd.',\n",
       " 'Infogain India (P) Ltd.',\n",
       " 'Wrackle Technologies Pvt Ltd',\n",
       " 'AugmatrixGo',\n",
       " 'IBM India Pvt. Limited',\n",
       " 'Mphasis Limited',\n",
       " 'IBM India Pvt. Limited',\n",
       " 'IBM India Pvt. Limited',\n",
       " 'Oracle India Pvt. Ltd.',\n",
       " 'Walmart Labs',\n",
       " 'ExecBoardinAsia',\n",
       " 'Aruba Networks']"
      ]
     },
     "execution_count": 9,
     "metadata": {},
     "output_type": "execute_result"
    }
   ],
   "source": [
    "company_name=[]\n",
    "for i in company:\n",
    "    company_name.append(i.text)\n",
    "company_name "
   ]
  },
  {
   "cell_type": "code",
   "execution_count": 10,
   "metadata": {},
   "outputs": [],
   "source": [
    "location=driver.find_elements_by_xpath(\"//li[@class='fleft grey-text br2 placeHolderLi location']//span\")"
   ]
  },
  {
   "cell_type": "code",
   "execution_count": 11,
   "metadata": {},
   "outputs": [
    {
     "data": {
      "text/plain": [
       "['Mumbai, Hyderabad/Secunderabad, Pune, Gurgaon/Gurugram, Chennai, Bangalore/Bengaluru',\n",
       " 'Pune, Chennai, Bangalore/Bengaluru',\n",
       " 'Gurgaon/Gurugram, Bangalore/Bengaluru, Mumbai (All Areas)',\n",
       " 'Bangalore/Bengaluru',\n",
       " 'Kolkata, Bangalore/Bengaluru, Delhi / NCR',\n",
       " 'Bangalore/Bengaluru',\n",
       " 'Bangalore/Bengaluru',\n",
       " 'Mumbai, Gurgaon/Gurugram, Bangalore/Bengaluru',\n",
       " 'Bangalore/Bengaluru, Mumbai (All Areas)',\n",
       " 'Noida(Sector-60 Noida), Bangalore/Bengaluru(Electronics City Phase 1), Mumbai (All Areas)(SEEPZ)',\n",
       " 'Bangalore/Bengaluru',\n",
       " 'Bangalore/Bengaluru',\n",
       " 'Bengaluru/Bangalore',\n",
       " 'Bangalore/Bengaluru',\n",
       " 'Bangalore/Bengaluru',\n",
       " 'Bangalore/Bengaluru',\n",
       " 'Noida, Bangalore/Bengaluru',\n",
       " 'Bangalore/Bengaluru',\n",
       " 'Bangalore/Bengaluru',\n",
       " 'Bangalore/Bengaluru']"
      ]
     },
     "execution_count": 11,
     "metadata": {},
     "output_type": "execute_result"
    }
   ],
   "source": [
    "locations=[]\n",
    "for i in location:\n",
    "    locations.append(i.text)\n",
    "locations "
   ]
  },
  {
   "cell_type": "code",
   "execution_count": 17,
   "metadata": {},
   "outputs": [],
   "source": [
    "from selenium.common.exceptions import NoSuchElementException\n",
    "JD=[]\n",
    "\n",
    "for i in job_title[0:10]:\n",
    "    i.click()\n",
    "    try:\n",
    "        element = driver.find_element_by_xpath(\"//div[@class='dang-inner-html']/p\")\n",
    "        time.sleep(5)\n",
    "        JD.append(element.text)\n",
    "    except NoSuchElementException:\n",
    "              pass\n",
    "    "
   ]
  },
  {
   "cell_type": "code",
   "execution_count": 18,
   "metadata": {},
   "outputs": [
    {
     "data": {
      "text/plain": [
       "[]"
      ]
     },
     "execution_count": 18,
     "metadata": {},
     "output_type": "execute_result"
    }
   ],
   "source": [
    "JD"
   ]
  },
  {
   "cell_type": "code",
   "execution_count": null,
   "metadata": {},
   "outputs": [],
   "source": []
  }
 ],
 "metadata": {
  "kernelspec": {
   "display_name": "Python 3",
   "language": "python",
   "name": "python3"
  },
  "language_info": {
   "codemirror_mode": {
    "name": "ipython",
    "version": 3
   },
   "file_extension": ".py",
   "mimetype": "text/x-python",
   "name": "python",
   "nbconvert_exporter": "python",
   "pygments_lexer": "ipython3",
   "version": "3.8.5"
  }
 },
 "nbformat": 4,
 "nbformat_minor": 4
}

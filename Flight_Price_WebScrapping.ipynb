{
 "cells": [
  {
   "cell_type": "code",
   "execution_count": 1,
   "metadata": {},
   "outputs": [],
   "source": [
    "import selenium\n",
    "import pandas as pd\n",
    "from selenium import webdriver\n",
    "import time\n",
    "from selenium.webdriver.common.keys import Keys\n",
    "from selenium.common.exceptions import NoSuchElementException,TimeoutException"
   ]
  },
  {
   "cell_type": "code",
   "execution_count": 82,
   "metadata": {},
   "outputs": [],
   "source": [
    "driver = webdriver.Firefox()"
   ]
  },
  {
   "cell_type": "code",
   "execution_count": 108,
   "metadata": {},
   "outputs": [],
   "source": [
    "Flight_Name=[]\n",
    "Departure_Time=[]\n",
    "Arrival_Time=[]\n",
    "Duration=[]\n",
    "Stops=[]\n",
    "FromPlace=[]\n",
    "ToPlace=[]\n",
    "Date=[]\n",
    "Fare=[]"
   ]
  },
  {
   "cell_type": "code",
   "execution_count": 109,
   "metadata": {},
   "outputs": [],
   "source": [
    "def callUrl(url):\n",
    "    driver.get(url)\n",
    "    time.sleep(15)  # Allow 2 seconds for the web page to open\n",
    "    scroll_pause_time = 1 # You can set your own pause time. My laptop is a bit slow so I use 1 sec\n",
    "    screen_height = driver.execute_script(\"return window.screen.height;\")   # get the screen height of the web\n",
    "    i = 1\n",
    "\n",
    "    while True:\n",
    "        # scroll one screen height each time\n",
    "        driver.execute_script(\"window.scrollTo(0, {screen_height}*{i});\".format(screen_height=screen_height, i=i))  \n",
    "        i += 1\n",
    "        time.sleep(scroll_pause_time)\n",
    "        # update scroll height each time after scrolled, as the scroll height can change after we scrolled the page\n",
    "        scroll_height = driver.execute_script(\"return document.body.scrollHeight;\")  \n",
    "        # Break the loop when the height we need to scroll to is larger than the total scroll height\n",
    "        if (screen_height) * i > scroll_height:\n",
    "            break\n",
    "\n",
    "    names=driver.find_elements_by_xpath(\"//div[@class='fs-13 airline-name no-pad col-8']/span\")\n",
    "    for i in names:\n",
    "        Flight_Name.append(i.text)\n",
    "    departure=driver.find_elements_by_xpath(\"//div[@autom='departureTimeLabel']/div\")\n",
    "    for i in departure:\n",
    "        Departure_Time.append(i.text)\n",
    "    arrival=driver.find_elements_by_xpath(\"//p[@autom='arrivalTimeLabel']\")\n",
    "    for i in arrival:\n",
    "        Arrival_Time.append(i.text)\n",
    "    duration=driver.find_elements_by_xpath(\"//p[@autom='durationLabel']\")\n",
    "    for i in duration:\n",
    "        Duration.append(i.text)\n",
    "    stops=driver.find_elements_by_xpath(\"//div[@class=' font-lightgrey fs-10 tipsy i-b fs-10']/span\")\n",
    "    for i in stops:\n",
    "        Stops.append(i.text)\n",
    "    fromPlace=driver.find_elements_by_xpath(\"//div[@class='i-b col-4 no-wrap text-right dtime col-3']/p\")\n",
    "    for i in fromPlace:\n",
    "        FromPlace.append(i.text)\n",
    "    toPlace=driver.find_elements_by_xpath(\"//div[@class='i-b pdd-0 text-left atime col-5']/p[2]\")\n",
    "    for i in toPlace:\n",
    "        ToPlace.append(i.text)\n",
    "        date=driver.find_element_by_xpath(\"//div[@class='day-li text-center cursor-pointer pr active font-primary-color']/p[1]\")\n",
    "        Date.append(date.text)\n",
    "    fare=driver.find_elements_by_xpath(\"//div[@class='i-b tipsy fare-summary-tooltip fs-18']\")\n",
    "    for i in fare:\n",
    "        Fare.append(i.text)\n"
   ]
  },
  {
   "cell_type": "code",
   "execution_count": 111,
   "metadata": {},
   "outputs": [],
   "source": [
    "callUrl(\"https://flight.yatra.com/air-search-ui/dom2/trigger?type=O&viewName=normal&flexi=0&noOfSegments=1&origin=DEL&originCountry=IN&destination=BOM&destinationCountry=IN&flight_depart_date=20%2F10%2F2021&ADT=1&CHD=0&INF=0&class=Economy&source=fresco-home&unqvaldesktop=1444740184788\")\n",
    "callUrl(\"https://flight.yatra.com/air-search-ui/dom2/trigger?ADT=1&CHD=0&INF=0&class=Economy&destination=BOM&destinationCountry=IN&flexi=0&flight_depart_date=04%2F11%2F2021&hb=0&noOfSegments=1&origin=DEL&originCountry=IN&type=O&unique=684750766492&version=1.1&viewName=normal\")\n",
    "callUrl(\"https://flight.yatra.com/air-search-ui/dom2/trigger?ADT=1&CHD=0&INF=0&class=Economy&destination=BOM&destinationCountry=IN&flexi=0&flight_depart_date=19%2F11%2F2021&hb=0&noOfSegments=1&origin=DEL&originCountry=IN&type=O&unique=1634710498016&viewName=normal\")\n",
    "callUrl(\"https://flight.yatra.com/air-search-ui/dom2/trigger?ADT=1&CHD=0&INF=0&class=Economy&destination=BOM&destinationCountry=IN&flexi=0&flight_depart_date=23%2F11%2F2021&hb=0&noOfSegments=1&origin=DEL&originCountry=IN&type=O&unique=1634710876840&viewName=normal\")\n",
    "callUrl(\"https://flight.yatra.com/air-search-ui/dom2/trigger?ADT=1&CHD=0&INF=0&class=Economy&destination=BLR&destinationCountry=IN&flexi=0&flight_depart_date=20%2F10%2F2021&hb=0&noOfSegments=1&origin=BOM&originCountry=IN&type=O&unique=190704439719&version=1.1&viewName=normal\")\n",
    "callUrl(\"https://flight.yatra.com/air-search-ui/dom2/trigger?ADT=1&CHD=0&INF=0&class=Economy&destination=BLR&destinationCountry=IN&flexi=0&flight_depart_date=09%2F11%2F2021&hb=0&noOfSegments=1&origin=BOM&originCountry=IN&type=O&unique=1634711732757&viewName=normal\")\n",
    "callUrl(\"https://flight.yatra.com/air-search-ui/dom2/trigger?ADT=1&CHD=0&INF=0&class=Economy&destination=BLR&destinationCountry=IN&flexi=0&flight_depart_date=20%2F11%2F2021&hb=0&noOfSegments=1&origin=BOM&originCountry=IN&type=O&unique=1634711931732&viewName=normal\")\n",
    "callUrl(\"https://flight.yatra.com/air-search-ui/dom2/trigger?ADT=1&CHD=0&INF=0&class=Economy&destination=BLR&destinationCountry=IN&flexi=0&flight_depart_date=25%2F12%2F2021&hb=0&noOfSegments=1&origin=BOM&originCountry=IN&type=O&unique=1634712593240&viewName=normal\")\n",
    "callUrl(\"https://flight.yatra.com/air-search-ui/dom2/trigger?ADT=1&CHD=0&INF=0&class=Economy&destination=JAI&destinationCountry=IN&flexi=0&flight_depart_date=30%2F10%2F2021&hb=0&noOfSegments=1&origin=BLR&originCountry=IN&type=O&unique=777604061035&version=1.1&viewName=normal\")\n",
    "callUrl(\"https://flight.yatra.com/air-search-ui/dom2/trigger?ADT=1&CHD=0&INF=0&class=Economy&destination=JAI&destinationCountry=IN&flexi=0&flight_depart_date=11%2F11%2F2021&hb=0&noOfSegments=1&origin=BLR&originCountry=IN&type=O&unique=1634713042912&viewName=normal\")\n",
    "callUrl(\"https://flight.yatra.com/air-search-ui/dom2/trigger?ADT=1&CHD=0&INF=0&class=Economy&destination=JAI&destinationCountry=IN&flexi=0&flight_depart_date=17%2F11%2F2021&hb=0&noOfSegments=1&origin=BLR&originCountry=IN&type=O&unique=1634713232234&viewName=normal\")\n",
    "callUrl(\"https://flight.yatra.com/air-search-ui/dom2/trigger?ADT=1&CHD=0&INF=0&class=Economy&destination=JAI&destinationCountry=IN&flexi=0&flight_depart_date=30%2F11%2F2021&hb=0&noOfSegments=1&origin=BLR&originCountry=IN&type=O&unique=1634713338131&viewName=normal\")\n",
    "callUrl(\"https://flight.yatra.com/air-search-ui/dom2/trigger?ADT=1&CHD=0&INF=0&class=Economy&destination=JAI&destinationCountry=IN&flexi=0&flight_depart_date=29%2F10%2F2021&hb=0&noOfSegments=1&origin=BOM&originCountry=IN&type=O&unique=80758021586&version=1.1&viewName=normal\")\n",
    "callUrl(\"https://flight.yatra.com/air-search-ui/dom2/trigger?ADT=1&CHD=0&INF=0&class=Economy&destination=JAI&destinationCountry=IN&flexi=0&flight_depart_date=19%2F11%2F2021&hb=0&noOfSegments=1&origin=BOM&originCountry=IN&type=O&unique=1634713897756&viewName=normal\")\n",
    "callUrl(\"https://flight.yatra.com/air-search-ui/dom2/trigger?ADT=1&CHD=0&INF=0&class=Economy&destination=JAI&destinationCountry=IN&flexi=0&flight_depart_date=02%2F12%2F2021&hb=0&noOfSegments=1&origin=BOM&originCountry=IN&type=O&unique=1634714118606&viewName=normal\")"
   ]
  },
  {
   "cell_type": "code",
   "execution_count": 178,
   "metadata": {},
   "outputs": [],
   "source": [
    "Flight=pd.DataFrame()"
   ]
  },
  {
   "cell_type": "code",
   "execution_count": 180,
   "metadata": {},
   "outputs": [],
   "source": [
    "Flight[\"Flight-Name\"] = Flight_Name\n",
    "Flight[\"Date\"] = Date\n",
    "Flight[\"Source\"] = FromPlace\n",
    "Flight[\"Destination\"] = ToPlace\n",
    "Flight[\"Departure Time\"] = Departure_Time\n",
    "Flight[\"Arrival Time\"] = Arrival_Time\n",
    "Flight[\"Duration\"] = Duration\n",
    "Flight[\"Stops\"] = Stops\n",
    "Flight[\"Fare\"] = Fare"
   ]
  },
  {
   "cell_type": "code",
   "execution_count": 181,
   "metadata": {},
   "outputs": [
    {
     "data": {
      "text/html": [
       "<div>\n",
       "<style scoped>\n",
       "    .dataframe tbody tr th:only-of-type {\n",
       "        vertical-align: middle;\n",
       "    }\n",
       "\n",
       "    .dataframe tbody tr th {\n",
       "        vertical-align: top;\n",
       "    }\n",
       "\n",
       "    .dataframe thead th {\n",
       "        text-align: right;\n",
       "    }\n",
       "</style>\n",
       "<table border=\"1\" class=\"dataframe\">\n",
       "  <thead>\n",
       "    <tr style=\"text-align: right;\">\n",
       "      <th></th>\n",
       "      <th>Flight-Name</th>\n",
       "      <th>Date</th>\n",
       "      <th>Source</th>\n",
       "      <th>Destination</th>\n",
       "      <th>Departure Time</th>\n",
       "      <th>Arrival Time</th>\n",
       "      <th>Duration</th>\n",
       "      <th>Stops</th>\n",
       "      <th>Fare</th>\n",
       "    </tr>\n",
       "  </thead>\n",
       "  <tbody>\n",
       "    <tr>\n",
       "      <th>0</th>\n",
       "      <td>Air Asia</td>\n",
       "      <td>Wed, 20 Oct</td>\n",
       "      <td>New Delhi</td>\n",
       "      <td>Mumbai</td>\n",
       "      <td>18:40</td>\n",
       "      <td>06:20\\n+ 1 day</td>\n",
       "      <td>11h 40m</td>\n",
       "      <td>1 Stop</td>\n",
       "      <td>5,953</td>\n",
       "    </tr>\n",
       "    <tr>\n",
       "      <th>1</th>\n",
       "      <td>Go First</td>\n",
       "      <td>Wed, 20 Oct</td>\n",
       "      <td>New Delhi</td>\n",
       "      <td>Mumbai</td>\n",
       "      <td>18:50</td>\n",
       "      <td>20:45</td>\n",
       "      <td>1h 55m</td>\n",
       "      <td>Non Stop</td>\n",
       "      <td>5,954</td>\n",
       "    </tr>\n",
       "    <tr>\n",
       "      <th>2</th>\n",
       "      <td>Go First</td>\n",
       "      <td>Wed, 20 Oct</td>\n",
       "      <td>New Delhi</td>\n",
       "      <td>Mumbai</td>\n",
       "      <td>20:30</td>\n",
       "      <td>22:35</td>\n",
       "      <td>2h 05m</td>\n",
       "      <td>Non Stop</td>\n",
       "      <td>5,954</td>\n",
       "    </tr>\n",
       "    <tr>\n",
       "      <th>3</th>\n",
       "      <td>Go First</td>\n",
       "      <td>Wed, 20 Oct</td>\n",
       "      <td>New Delhi</td>\n",
       "      <td>Mumbai</td>\n",
       "      <td>21:30</td>\n",
       "      <td>23:35</td>\n",
       "      <td>2h 05m</td>\n",
       "      <td>Non Stop</td>\n",
       "      <td>5,954</td>\n",
       "    </tr>\n",
       "    <tr>\n",
       "      <th>4</th>\n",
       "      <td>Go First</td>\n",
       "      <td>Wed, 20 Oct</td>\n",
       "      <td>New Delhi</td>\n",
       "      <td>Mumbai</td>\n",
       "      <td>22:45</td>\n",
       "      <td>01:00\\n+ 1 day</td>\n",
       "      <td>2h 15m</td>\n",
       "      <td>Non Stop</td>\n",
       "      <td>5,954</td>\n",
       "    </tr>\n",
       "  </tbody>\n",
       "</table>\n",
       "</div>"
      ],
      "text/plain": [
       "  Flight-Name         Date     Source Destination Departure Time  \\\n",
       "0    Air Asia  Wed, 20 Oct  New Delhi      Mumbai          18:40   \n",
       "1    Go First  Wed, 20 Oct  New Delhi      Mumbai          18:50   \n",
       "2    Go First  Wed, 20 Oct  New Delhi      Mumbai          20:30   \n",
       "3    Go First  Wed, 20 Oct  New Delhi      Mumbai          21:30   \n",
       "4    Go First  Wed, 20 Oct  New Delhi      Mumbai          22:45   \n",
       "\n",
       "     Arrival Time Duration     Stops   Fare  \n",
       "0  06:20\\n+ 1 day  11h 40m    1 Stop  5,953  \n",
       "1           20:45   1h 55m  Non Stop  5,954  \n",
       "2           22:35   2h 05m  Non Stop  5,954  \n",
       "3           23:35   2h 05m  Non Stop  5,954  \n",
       "4  01:00\\n+ 1 day   2h 15m  Non Stop  5,954  "
      ]
     },
     "execution_count": 181,
     "metadata": {},
     "output_type": "execute_result"
    }
   ],
   "source": [
    "Flight.head()"
   ]
  },
  {
   "cell_type": "code",
   "execution_count": 182,
   "metadata": {},
   "outputs": [],
   "source": [
    "Flight.to_csv(\"Flight.csv\")"
   ]
  },
  {
   "cell_type": "code",
   "execution_count": null,
   "metadata": {},
   "outputs": [],
   "source": []
  }
 ],
 "metadata": {
  "kernelspec": {
   "display_name": "Python 3",
   "language": "python",
   "name": "python3"
  },
  "language_info": {
   "codemirror_mode": {
    "name": "ipython",
    "version": 3
   },
   "file_extension": ".py",
   "mimetype": "text/x-python",
   "name": "python",
   "nbconvert_exporter": "python",
   "pygments_lexer": "ipython3",
   "version": "3.8.5"
  }
 },
 "nbformat": 4,
 "nbformat_minor": 4
}

{
 "cells": [
  {
   "cell_type": "code",
   "execution_count": 1,
   "metadata": {},
   "outputs": [],
   "source": [
    "import pandas as pd\n",
    "import numpy as np\n",
    "import seaborn as sns\n",
    "import matplotlib.pyplot as plt\n",
    "import warnings\n",
    "warnings.filterwarnings('ignore')"
   ]
  },
  {
   "cell_type": "code",
   "execution_count": 122,
   "metadata": {},
   "outputs": [],
   "source": [
    "df=pd.read_csv('Car.csv')"
   ]
  },
  {
   "cell_type": "code",
   "execution_count": 5,
   "metadata": {},
   "outputs": [
    {
     "data": {
      "text/html": [
       "<div>\n",
       "<style scoped>\n",
       "    .dataframe tbody tr th:only-of-type {\n",
       "        vertical-align: middle;\n",
       "    }\n",
       "\n",
       "    .dataframe tbody tr th {\n",
       "        vertical-align: top;\n",
       "    }\n",
       "\n",
       "    .dataframe thead th {\n",
       "        text-align: right;\n",
       "    }\n",
       "</style>\n",
       "<table border=\"1\" class=\"dataframe\">\n",
       "  <thead>\n",
       "    <tr style=\"text-align: right;\">\n",
       "      <th></th>\n",
       "      <th>Unnamed: 0</th>\n",
       "      <th>Car_Name</th>\n",
       "      <th>Variant</th>\n",
       "      <th>Kilometer</th>\n",
       "      <th>Owner</th>\n",
       "      <th>Fuel_Type</th>\n",
       "      <th>Price</th>\n",
       "    </tr>\n",
       "  </thead>\n",
       "  <tbody>\n",
       "    <tr>\n",
       "      <th>0</th>\n",
       "      <td>0</td>\n",
       "      <td>2013 Maruti Alto 800</td>\n",
       "      <td>LXI Manual</td>\n",
       "      <td>14,466 km</td>\n",
       "      <td>1st Owner</td>\n",
       "      <td>Petrol</td>\n",
       "      <td>₹2,32,099</td>\n",
       "    </tr>\n",
       "    <tr>\n",
       "      <th>1</th>\n",
       "      <td>1</td>\n",
       "      <td>2020 Maruti New Wagon-R</td>\n",
       "      <td>LXI CNG 1.0 L Manual</td>\n",
       "      <td>6,207 km</td>\n",
       "      <td>1st Owner</td>\n",
       "      <td>Petrol + CNG</td>\n",
       "      <td>₹5,65,599</td>\n",
       "    </tr>\n",
       "    <tr>\n",
       "      <th>2</th>\n",
       "      <td>2</td>\n",
       "      <td>2020 Maruti Alto</td>\n",
       "      <td>LXI Manual</td>\n",
       "      <td>2,901 km</td>\n",
       "      <td>1st Owner</td>\n",
       "      <td>Petrol</td>\n",
       "      <td>₹3,73,099</td>\n",
       "    </tr>\n",
       "    <tr>\n",
       "      <th>3</th>\n",
       "      <td>3</td>\n",
       "      <td>2018 Maruti Baleno</td>\n",
       "      <td>DELTA 1.2 K12 Manual</td>\n",
       "      <td>6,905 km</td>\n",
       "      <td>1st Owner</td>\n",
       "      <td>Petrol</td>\n",
       "      <td>₹5,63,599</td>\n",
       "    </tr>\n",
       "    <tr>\n",
       "      <th>4</th>\n",
       "      <td>4</td>\n",
       "      <td>2015 Maruti Alto 800</td>\n",
       "      <td>LXI Manual</td>\n",
       "      <td>17,637 km</td>\n",
       "      <td>1st Owner</td>\n",
       "      <td>Petrol</td>\n",
       "      <td>₹2,69,899</td>\n",
       "    </tr>\n",
       "  </tbody>\n",
       "</table>\n",
       "</div>"
      ],
      "text/plain": [
       "   Unnamed: 0                 Car_Name               Variant  Kilometer  \\\n",
       "0           0     2013 Maruti Alto 800            LXI Manual  14,466 km   \n",
       "1           1  2020 Maruti New Wagon-R  LXI CNG 1.0 L Manual   6,207 km   \n",
       "2           2         2020 Maruti Alto            LXI Manual   2,901 km   \n",
       "3           3       2018 Maruti Baleno  DELTA 1.2 K12 Manual   6,905 km   \n",
       "4           4     2015 Maruti Alto 800            LXI Manual  17,637 km   \n",
       "\n",
       "       Owner     Fuel_Type      Price  \n",
       "0  1st Owner        Petrol  ₹2,32,099  \n",
       "1  1st Owner  Petrol + CNG  ₹5,65,599  \n",
       "2  1st Owner        Petrol  ₹3,73,099  \n",
       "3  1st Owner        Petrol  ₹5,63,599  \n",
       "4  1st Owner        Petrol  ₹2,69,899  "
      ]
     },
     "execution_count": 5,
     "metadata": {},
     "output_type": "execute_result"
    }
   ],
   "source": [
    "df.head()"
   ]
  },
  {
   "cell_type": "markdown",
   "metadata": {},
   "source": [
    "## EDA"
   ]
  },
  {
   "cell_type": "code",
   "execution_count": 3,
   "metadata": {},
   "outputs": [
    {
     "data": {
      "text/plain": [
       "(5149, 7)"
      ]
     },
     "execution_count": 3,
     "metadata": {},
     "output_type": "execute_result"
    }
   ],
   "source": [
    "df.shape"
   ]
  },
  {
   "cell_type": "markdown",
   "metadata": {},
   "source": [
    "There are 5149 rows and 7 columnsin our dataset."
   ]
  },
  {
   "cell_type": "code",
   "execution_count": 6,
   "metadata": {},
   "outputs": [
    {
     "data": {
      "text/plain": [
       "Unnamed: 0     int64\n",
       "Car_Name      object\n",
       "Variant       object\n",
       "Kilometer     object\n",
       "Owner         object\n",
       "Fuel_Type     object\n",
       "Price         object\n",
       "dtype: object"
      ]
     },
     "execution_count": 6,
     "metadata": {},
     "output_type": "execute_result"
    }
   ],
   "source": [
    "df.dtypes"
   ]
  },
  {
   "cell_type": "markdown",
   "metadata": {},
   "source": [
    "All data are object type."
   ]
  },
  {
   "cell_type": "code",
   "execution_count": 7,
   "metadata": {},
   "outputs": [
    {
     "name": "stdout",
     "output_type": "stream",
     "text": [
      "Unnamed: 0 5149\n",
      "Car_Name 622\n",
      "Variant 863\n",
      "Kilometer 3991\n",
      "Owner 5\n",
      "Fuel_Type 5\n",
      "Price 3060\n"
     ]
    }
   ],
   "source": [
    "for i in df.columns:\n",
    "    print(i , df[i].nunique())"
   ]
  },
  {
   "cell_type": "code",
   "execution_count": 8,
   "metadata": {},
   "outputs": [
    {
     "data": {
      "text/plain": [
       "Unnamed: 0    0\n",
       "Car_Name      0\n",
       "Variant       0\n",
       "Kilometer     0\n",
       "Owner         0\n",
       "Fuel_Type     0\n",
       "Price         0\n",
       "dtype: int64"
      ]
     },
     "execution_count": 8,
     "metadata": {},
     "output_type": "execute_result"
    }
   ],
   "source": [
    "df.isnull().sum()"
   ]
  },
  {
   "cell_type": "markdown",
   "metadata": {},
   "source": [
    "There are no missing value"
   ]
  },
  {
   "cell_type": "code",
   "execution_count": 9,
   "metadata": {},
   "outputs": [
    {
     "data": {
      "text/plain": [
       "0"
      ]
     },
     "execution_count": 9,
     "metadata": {},
     "output_type": "execute_result"
    }
   ],
   "source": [
    "df.duplicated().sum()"
   ]
  },
  {
   "cell_type": "markdown",
   "metadata": {},
   "source": [
    "There are no duplicate values in our dataset."
   ]
  },
  {
   "cell_type": "code",
   "execution_count": 10,
   "metadata": {},
   "outputs": [
    {
     "data": {
      "text/plain": [
       "Petrol          3302\n",
       "Diesel          1633\n",
       "Petrol + CNG     206\n",
       "Petrol + LPG       6\n",
       "Electric           2\n",
       "Name: Fuel_Type, dtype: int64"
      ]
     },
     "execution_count": 10,
     "metadata": {},
     "output_type": "execute_result"
    }
   ],
   "source": [
    "df['Fuel_Type'].value_counts()"
   ]
  },
  {
   "cell_type": "code",
   "execution_count": 11,
   "metadata": {},
   "outputs": [
    {
     "data": {
      "text/plain": [
       "1st Owner    4107\n",
       "2nd Owner     896\n",
       "3rd Owner     135\n",
       "4th Owner       8\n",
       "5th Owner       3\n",
       "Name: Owner, dtype: int64"
      ]
     },
     "execution_count": 11,
     "metadata": {},
     "output_type": "execute_result"
    }
   ],
   "source": [
    "df['Owner'].value_counts()"
   ]
  },
  {
   "cell_type": "markdown",
   "metadata": {},
   "source": [
    "### Feature Engineering"
   ]
  },
  {
   "cell_type": "code",
   "execution_count": 12,
   "metadata": {},
   "outputs": [],
   "source": [
    "#Extracting year from car name\n",
    "df['Year'] = df['Car_Name'].str.split(' ').str[0]"
   ]
  },
  {
   "cell_type": "code",
   "execution_count": 16,
   "metadata": {},
   "outputs": [],
   "source": [
    "#Extracting Brand name from car name column\n",
    "df['Brand'] = df['Car_Name'].str.split(' ').str[1]"
   ]
  },
  {
   "cell_type": "code",
   "execution_count": 38,
   "metadata": {},
   "outputs": [],
   "source": [
    "#Extracting name of car\n",
    "df['CarName'] = df['Car_Name'].str.replace('2...',' ',regex=True)"
   ]
  },
  {
   "cell_type": "code",
   "execution_count": 40,
   "metadata": {},
   "outputs": [],
   "source": [
    "df.drop('Car_Name',axis=1,inplace=True)"
   ]
  },
  {
   "cell_type": "code",
   "execution_count": 43,
   "metadata": {},
   "outputs": [],
   "source": [
    "#Extracting type of variant of car. i.e Manual/Automatic\n",
    "df['Variant']=df['Variant'].str.split(' ').str[-1]"
   ]
  },
  {
   "cell_type": "code",
   "execution_count": 49,
   "metadata": {},
   "outputs": [],
   "source": [
    "#Removing Comma and km from Kilometer column and converting it to int type\n",
    "df['Kilometer'] = df['Kilometer'].str.split( ).str[0]\n",
    "df['Kilometer']=df['Kilometer'].str.replace(\",\",\"\").astype(int)"
   ]
  },
  {
   "cell_type": "code",
   "execution_count": 58,
   "metadata": {},
   "outputs": [],
   "source": [
    "#Removing Comma and Rupee from Price column and converting it to int type\n",
    "df['Price']=df['Price'].str.replace('₹',\"\")\n",
    "df['Price']=df['Price'].str.replace(',',\"\").astype(int)"
   ]
  },
  {
   "cell_type": "code",
   "execution_count": 61,
   "metadata": {},
   "outputs": [],
   "source": [
    "#Dropping unneccassary column\n",
    "df.drop('Unnamed: 0',axis=1,inplace=True)"
   ]
  },
  {
   "cell_type": "code",
   "execution_count": 81,
   "metadata": {
    "scrolled": true
   },
   "outputs": [
    {
     "data": {
      "text/plain": [
       "Manual       4218\n",
       "Automatic     789\n",
       "Not-Known     142\n",
       "Name: Variant, dtype: int64"
      ]
     },
     "execution_count": 81,
     "metadata": {},
     "output_type": "execute_result"
    }
   ],
   "source": [
    "df['Variant'].value_counts()"
   ]
  },
  {
   "cell_type": "code",
   "execution_count": 78,
   "metadata": {},
   "outputs": [],
   "source": [
    "df['Variant'].replace({'G':'Not-Known','HYBIRD':'Not-Known','J':'Not-Known','TONE':'Not-Known','REVOTRON':'Not-Known','EXI':'Not-Known','Kryotec':'Not-Known','CNG':'Not-Known','1.0':'Not-Known','III':'Not-Known','CRDI':'Not-Known','VTVT':'Not-Known','PETROL':'Not-Known','MT':'Not-Known','FWD':'Not-Known','SHVS':'Not-Known','CVT':'Not-Known','STR':'Not-Known','L':'Not-Known','STD':'Not-Known','1.2':'Not-Known','(SUNROOF)':'Not-Known','ABS':'Not-Known','Petrol':'Not-Known','RXZ':'Not-Known','HYBRID':'Not-Known','AGS':'Not-Known','SUNROOF':'Not-Known','REGALIA':'Not-Known','(O)':'Not-Known','VDI':'Not-Known','KAPPA':'Not-Known','ITI':'Not-Known','W5':'Not-Known','EXPLORE':'Not-Known','LINE':'Not-Known','CONVERTIBLE':'Not-Known','Door':'Not-Known','SPORTSLINE':'Not-Known','PLUS':'Not-Known','VXI':'Not-Known','1.1':'Not-Known','PREMIUM':'Not-Known','DIESEL':'Not-Known','XT+':'Not-Known','TI-VCT':'Not-Known','Edition':'Not-Known'},inplace=True)"
   ]
  },
  {
   "cell_type": "code",
   "execution_count": 79,
   "metadata": {},
   "outputs": [],
   "source": [
    "df['Variant'].replace({'AT':\"Automatic\",'AMT':'Automatic'},inplace=True)"
   ]
  },
  {
   "cell_type": "code",
   "execution_count": 80,
   "metadata": {},
   "outputs": [
    {
     "data": {
      "text/html": [
       "<div>\n",
       "<style scoped>\n",
       "    .dataframe tbody tr th:only-of-type {\n",
       "        vertical-align: middle;\n",
       "    }\n",
       "\n",
       "    .dataframe tbody tr th {\n",
       "        vertical-align: top;\n",
       "    }\n",
       "\n",
       "    .dataframe thead th {\n",
       "        text-align: right;\n",
       "    }\n",
       "</style>\n",
       "<table border=\"1\" class=\"dataframe\">\n",
       "  <thead>\n",
       "    <tr style=\"text-align: right;\">\n",
       "      <th></th>\n",
       "      <th>Variant</th>\n",
       "      <th>Kilometer</th>\n",
       "      <th>Owner</th>\n",
       "      <th>Fuel_Type</th>\n",
       "      <th>Price</th>\n",
       "      <th>Year</th>\n",
       "      <th>Brand</th>\n",
       "      <th>CarName</th>\n",
       "    </tr>\n",
       "  </thead>\n",
       "  <tbody>\n",
       "    <tr>\n",
       "      <th>0</th>\n",
       "      <td>Manual</td>\n",
       "      <td>14466</td>\n",
       "      <td>1st Owner</td>\n",
       "      <td>Petrol</td>\n",
       "      <td>232099</td>\n",
       "      <td>2013</td>\n",
       "      <td>Maruti</td>\n",
       "      <td>Maruti Alto 800</td>\n",
       "    </tr>\n",
       "    <tr>\n",
       "      <th>1</th>\n",
       "      <td>Manual</td>\n",
       "      <td>6207</td>\n",
       "      <td>1st Owner</td>\n",
       "      <td>Petrol + CNG</td>\n",
       "      <td>565599</td>\n",
       "      <td>2020</td>\n",
       "      <td>Maruti</td>\n",
       "      <td>Maruti New Wagon-R</td>\n",
       "    </tr>\n",
       "    <tr>\n",
       "      <th>2</th>\n",
       "      <td>Manual</td>\n",
       "      <td>2901</td>\n",
       "      <td>1st Owner</td>\n",
       "      <td>Petrol</td>\n",
       "      <td>373099</td>\n",
       "      <td>2020</td>\n",
       "      <td>Maruti</td>\n",
       "      <td>Maruti Alto</td>\n",
       "    </tr>\n",
       "    <tr>\n",
       "      <th>3</th>\n",
       "      <td>Manual</td>\n",
       "      <td>6905</td>\n",
       "      <td>1st Owner</td>\n",
       "      <td>Petrol</td>\n",
       "      <td>563599</td>\n",
       "      <td>2018</td>\n",
       "      <td>Maruti</td>\n",
       "      <td>Maruti Baleno</td>\n",
       "    </tr>\n",
       "    <tr>\n",
       "      <th>4</th>\n",
       "      <td>Manual</td>\n",
       "      <td>17637</td>\n",
       "      <td>1st Owner</td>\n",
       "      <td>Petrol</td>\n",
       "      <td>269899</td>\n",
       "      <td>2015</td>\n",
       "      <td>Maruti</td>\n",
       "      <td>Maruti Alto 800</td>\n",
       "    </tr>\n",
       "    <tr>\n",
       "      <th>...</th>\n",
       "      <td>...</td>\n",
       "      <td>...</td>\n",
       "      <td>...</td>\n",
       "      <td>...</td>\n",
       "      <td>...</td>\n",
       "      <td>...</td>\n",
       "      <td>...</td>\n",
       "      <td>...</td>\n",
       "    </tr>\n",
       "    <tr>\n",
       "      <th>5144</th>\n",
       "      <td>Manual</td>\n",
       "      <td>53668</td>\n",
       "      <td>1st Owner</td>\n",
       "      <td>Petrol</td>\n",
       "      <td>332499</td>\n",
       "      <td>2017</td>\n",
       "      <td>Maruti</td>\n",
       "      <td>Maruti Alto K10</td>\n",
       "    </tr>\n",
       "    <tr>\n",
       "      <th>5145</th>\n",
       "      <td>Manual</td>\n",
       "      <td>35464</td>\n",
       "      <td>1st Owner</td>\n",
       "      <td>Diesel</td>\n",
       "      <td>2938999</td>\n",
       "      <td>2018</td>\n",
       "      <td>Toyota</td>\n",
       "      <td>Toyota Fortuner</td>\n",
       "    </tr>\n",
       "    <tr>\n",
       "      <th>5146</th>\n",
       "      <td>Manual</td>\n",
       "      <td>35739</td>\n",
       "      <td>2nd Owner</td>\n",
       "      <td>Diesel</td>\n",
       "      <td>1146000</td>\n",
       "      <td>2018</td>\n",
       "      <td>Mahindra</td>\n",
       "      <td>Mahindra XUV500</td>\n",
       "    </tr>\n",
       "    <tr>\n",
       "      <th>5147</th>\n",
       "      <td>Automatic</td>\n",
       "      <td>72661</td>\n",
       "      <td>2nd Owner</td>\n",
       "      <td>Diesel</td>\n",
       "      <td>995000</td>\n",
       "      <td>2013</td>\n",
       "      <td>Mitsubishi</td>\n",
       "      <td>Mitsubishi Pajero Sport</td>\n",
       "    </tr>\n",
       "    <tr>\n",
       "      <th>5148</th>\n",
       "      <td>Manual</td>\n",
       "      <td>91349</td>\n",
       "      <td>1st Owner</td>\n",
       "      <td>Diesel</td>\n",
       "      <td>230000</td>\n",
       "      <td>2011</td>\n",
       "      <td>Fiat</td>\n",
       "      <td>Fiat Grand Punto</td>\n",
       "    </tr>\n",
       "  </tbody>\n",
       "</table>\n",
       "<p>5149 rows × 8 columns</p>\n",
       "</div>"
      ],
      "text/plain": [
       "        Variant  Kilometer      Owner     Fuel_Type    Price  Year  \\\n",
       "0        Manual      14466  1st Owner        Petrol   232099  2013   \n",
       "1        Manual       6207  1st Owner  Petrol + CNG   565599  2020   \n",
       "2        Manual       2901  1st Owner        Petrol   373099  2020   \n",
       "3        Manual       6905  1st Owner        Petrol   563599  2018   \n",
       "4        Manual      17637  1st Owner        Petrol   269899  2015   \n",
       "...         ...        ...        ...           ...      ...   ...   \n",
       "5144     Manual      53668  1st Owner        Petrol   332499  2017   \n",
       "5145     Manual      35464  1st Owner        Diesel  2938999  2018   \n",
       "5146     Manual      35739  2nd Owner        Diesel  1146000  2018   \n",
       "5147  Automatic      72661  2nd Owner        Diesel   995000  2013   \n",
       "5148     Manual      91349  1st Owner        Diesel   230000  2011   \n",
       "\n",
       "           Brand                    CarName  \n",
       "0         Maruti            Maruti Alto 800  \n",
       "1         Maruti         Maruti New Wagon-R  \n",
       "2         Maruti                Maruti Alto  \n",
       "3         Maruti              Maruti Baleno  \n",
       "4         Maruti            Maruti Alto 800  \n",
       "...          ...                        ...  \n",
       "5144      Maruti            Maruti Alto K10  \n",
       "5145      Toyota            Toyota Fortuner  \n",
       "5146    Mahindra            Mahindra XUV500  \n",
       "5147  Mitsubishi    Mitsubishi Pajero Sport  \n",
       "5148        Fiat           Fiat Grand Punto  \n",
       "\n",
       "[5149 rows x 8 columns]"
      ]
     },
     "execution_count": 80,
     "metadata": {},
     "output_type": "execute_result"
    }
   ],
   "source": [
    "df"
   ]
  },
  {
   "cell_type": "markdown",
   "metadata": {},
   "source": [
    "## VISUALIZATION"
   ]
  },
  {
   "cell_type": "code",
   "execution_count": 83,
   "metadata": {},
   "outputs": [
    {
     "data": {
      "text/plain": [
       "(array([ 0,  1,  2,  3,  4,  5,  6,  7,  8,  9, 10, 11, 12, 13, 14, 15, 16,\n",
       "        17, 18, 19, 20, 21, 22, 23, 24, 25]),\n",
       " [Text(0, 0, 'Maruti'),\n",
       "  Text(1, 0, 'Hyundai'),\n",
       "  Text(2, 0, 'Tata'),\n",
       "  Text(3, 0, 'Renault'),\n",
       "  Text(4, 0, 'Volkswagen'),\n",
       "  Text(5, 0, 'Ford'),\n",
       "  Text(6, 0, 'KIA'),\n",
       "  Text(7, 0, 'MG'),\n",
       "  Text(8, 0, 'Datsun'),\n",
       "  Text(9, 0, 'Toyota'),\n",
       "  Text(10, 0, 'Honda'),\n",
       "  Text(11, 0, 'Chevrolet'),\n",
       "  Text(12, 0, 'Skoda'),\n",
       "  Text(13, 0, 'Mahindra'),\n",
       "  Text(14, 0, 'Mercedes'),\n",
       "  Text(15, 0, 'Nissan'),\n",
       "  Text(16, 0, 'Audi'),\n",
       "  Text(17, 0, 'Mitsubishi'),\n",
       "  Text(18, 0, 'Jeep'),\n",
       "  Text(19, 0, 'BMW'),\n",
       "  Text(20, 0, 'Fiat'),\n",
       "  Text(21, 0, 'RENAULT'),\n",
       "  Text(22, 0, 'Volvo'),\n",
       "  Text(23, 0, 'Ssangyong'),\n",
       "  Text(24, 0, 'Jaguar'),\n",
       "  Text(25, 0, 'HYUNDAI')])"
      ]
     },
     "execution_count": 83,
     "metadata": {},
     "output_type": "execute_result"
    },
    {
     "data": {
      "image/png": "[encoded data removed]",
      "text/plain": [
       "<Figure size 720x360 with 1 Axes>"
      ]
     },
     "metadata": {
      "needs_background": "light"
     },
     "output_type": "display_data"
    }
   ],
   "source": [
    "plt.figure(figsize = (10, 5))\n",
    "plt.title('Count of car Brands')\n",
    "sns.countplot(x = 'Brand', data = df)\n",
    "plt.xlabel('Brand')\n",
    "plt.ylabel('Count of cars')\n",
    "plt.xticks(rotation=90)"
   ]
  },
  {
   "cell_type": "markdown",
   "metadata": {},
   "source": [
    "Majority of the people in India trusts Maruti, Hyundai and Honda. Very less people are buying cars from KIA, MG, Audi, JAguar, Mercedes and more expensive cars"
   ]
  },
  {
   "cell_type": "code",
   "execution_count": 87,
   "metadata": {},
   "outputs": [
    {
     "data": {
      "text/plain": [
       "Text(0, 0.5, 'Price of Car')"
      ]
     },
     "execution_count": 87,
     "metadata": {},
     "output_type": "execute_result"
    },
    {
     "data": {
      "image/png": "[encoded data removed]",
      "text/plain": [
       "<Figure size 720x360 with 1 Axes>"
      ]
     },
     "metadata": {
      "needs_background": "light"
     },
     "output_type": "display_data"
    }
   ],
   "source": [
    "plt.figure(figsize = (10, 5))\n",
    "plt.title('Price VS Airlines')\n",
    "sns.barplot(x='Owner',y='Price',data=df)\n",
    "plt.xticks(rotation = 90)\n",
    "plt.xlabel('Owner')\n",
    "plt.ylabel('Price of Car')"
   ]
  },
  {
   "cell_type": "markdown",
   "metadata": {},
   "source": [
    "It is evident that price of cars decrease with increase in the number of owners."
   ]
  },
  {
   "cell_type": "code",
   "execution_count": 88,
   "metadata": {},
   "outputs": [
    {
     "data": {
      "text/plain": [
       "Text(0, 0.5, 'Price of Car')"
      ]
     },
     "execution_count": 88,
     "metadata": {},
     "output_type": "execute_result"
    },
    {
     "data": {
      "image/png": "[encoded data removed]",
      "text/plain": [
       "<Figure size 720x360 with 1 Axes>"
      ]
     },
     "metadata": {
      "needs_background": "light"
     },
     "output_type": "display_data"
    }
   ],
   "source": [
    "plt.figure(figsize = (10, 5))\n",
    "plt.title('Price VS Airlines')\n",
    "sns.barplot(x='Fuel_Type',y='Price',data=df)\n",
    "plt.xticks(rotation = 90)\n",
    "plt.xlabel('Fuel_Type')\n",
    "plt.ylabel('Price of Car')"
   ]
  },
  {
   "cell_type": "markdown",
   "metadata": {},
   "source": [
    "Price of diesel car as compared to petrol and electric cars"
   ]
  },
  {
   "cell_type": "code",
   "execution_count": 89,
   "metadata": {},
   "outputs": [
    {
     "data": {
      "text/plain": [
       "Text(0, 0.5, 'Price of Car')"
      ]
     },
     "execution_count": 89,
     "metadata": {},
     "output_type": "execute_result"
    },
    {
     "data": {
      "image/png": "[encoded data removed]",
      "text/plain": [
       "<Figure size 720x360 with 1 Axes>"
      ]
     },
     "metadata": {
      "needs_background": "light"
     },
     "output_type": "display_data"
    }
   ],
   "source": [
    "plt.figure(figsize = (10, 5))\n",
    "plt.title('Price VS Airlines')\n",
    "sns.barplot(x='Year',y='Price',data=df)\n",
    "plt.xticks(rotation = 90)\n",
    "plt.xlabel('Year')\n",
    "plt.ylabel('Price of Car')"
   ]
  },
  {
   "cell_type": "markdown",
   "metadata": {},
   "source": [
    "As the car gets old, its sale price tends to decrease."
   ]
  },
  {
   "cell_type": "code",
   "execution_count": 92,
   "metadata": {
    "scrolled": false
   },
   "outputs": [
    {
     "data": {
      "text/plain": [
       "Text(0, 0.5, 'Price of Car')"
      ]
     },
     "execution_count": 92,
     "metadata": {},
     "output_type": "execute_result"
    },
    {
     "data": {
      "image/png": "[encoded data removed]",
      "text/plain": [
       "<Figure size 720x360 with 1 Axes>"
      ]
     },
     "metadata": {
      "needs_background": "light"
     },
     "output_type": "display_data"
    }
   ],
   "source": [
    "plt.figure(figsize = (10, 5))\n",
    "plt.title('Price VS Airlines')\n",
    "sns.barplot(x='Brand',y='Price',data=df)\n",
    "plt.xticks(rotation = 90)\n",
    "plt.xlabel('Brand')\n",
    "plt.ylabel('Price of Car')"
   ]
  },
  {
   "cell_type": "markdown",
   "metadata": {},
   "source": [
    "High end cars have more resale values. It is quite obious as there cost price is also high."
   ]
  },
  {
   "cell_type": "code",
   "execution_count": 91,
   "metadata": {},
   "outputs": [
    {
     "data": {
      "text/plain": [
       "<AxesSubplot:xlabel='Kilometer', ylabel='Price'>"
      ]
     },
     "execution_count": 91,
     "metadata": {},
     "output_type": "execute_result"
    },
    {
     "data": {
      "image/png": "[encoded data removed]",
      "text/plain": [
       "<Figure size 432x288 with 1 Axes>"
      ]
     },
     "metadata": {
      "needs_background": "light"
     },
     "output_type": "display_data"
    }
   ],
   "source": [
    "sns.scatterplot(x='Kilometer',y='Price',data=df)"
   ]
  },
  {
   "cell_type": "markdown",
   "metadata": {},
   "source": [
    "As the the number of kilometers covered by car increase, its price decreases."
   ]
  },
  {
   "cell_type": "code",
   "execution_count": null,
   "metadata": {},
   "outputs": [],
   "source": [
    "#Performing Label Encoding for categorical features\n",
    "from sklearn.preprocessing import LabelEncoder\n",
    "le=LabelEncoder()\n",
    "df['Brand']=le.fit_transform(df['Brand'])\n",
    "df['Variant']=le.fit_transform(df['Variant'])\n",
    "df['Owner']=le.fit_transform(df['Owner'])\n",
    "df['Year']=le.fit_transform(df['Year'])\n",
    "df['Fuel_Type']=le.fit_transform(df['Fuel_Type'])\n",
    "df['CarName']=le.fit_transform(df['CarName'])"
   ]
  },
  {
   "cell_type": "markdown",
   "metadata": {},
   "source": [
    "## Model Evaluation"
   ]
  },
  {
   "cell_type": "code",
   "execution_count": 96,
   "metadata": {},
   "outputs": [],
   "source": [
    "#Separating x and y for model evaluation\n",
    "x=df.drop('Price',axis=1)\n",
    "y=df[['Price']]"
   ]
  },
  {
   "cell_type": "code",
   "execution_count": 101,
   "metadata": {},
   "outputs": [],
   "source": [
    "from sklearn.linear_model import LinearRegression\n",
    "from sklearn.tree import DecisionTreeRegressor \n",
    "from sklearn.neighbors import KNeighborsRegressor \n",
    "from sklearn.ensemble import RandomForestRegressor\n",
    "from sklearn.svm import SVR\n",
    "from sklearn.model_selection import train_test_split\n",
    "from sklearn.metrics import mean_squared_error,mean_absolute_error,r2_score"
   ]
  },
  {
   "cell_type": "code",
   "execution_count": 98,
   "metadata": {},
   "outputs": [],
   "source": [
    "# training testing and splitting the dataset\n",
    "from sklearn.model_selection import train_test_split\n",
    "x_train, x_test, y_train, y_test = train_test_split(x, y, test_size = 0.3, random_state = 42)"
   ]
  },
  {
   "cell_type": "code",
   "execution_count": 104,
   "metadata": {},
   "outputs": [
    {
     "name": "stdout",
     "output_type": "stream",
     "text": [
      "DecisionTreeRegressor()\n",
      "0.9999981270871856\n",
      "error: \n",
      "Mean absolute error:  74466.8491909385\n",
      "Mean squared error:  32480233589.202587\n",
      "Root mean squared error:  180222.7332752519\n",
      "r2_score 0.7330615508300624\n",
      "\n",
      "\n",
      "\n",
      "KNeighborsRegressor()\n",
      "0.2926193036582414\n",
      "error: \n",
      "Mean absolute error:  244699.77449838186\n",
      "Mean squared error:  127335791085.25006\n",
      "Root mean squared error:  356841.40887129406\n",
      "r2_score -0.04650782460577463\n",
      "\n",
      "\n",
      "\n",
      "RandomForestRegressor()\n",
      "0.9762676193306551\n",
      "error: \n",
      "Mean absolute error:  62981.03507936508\n",
      "Mean squared error:  14582740899.71201\n",
      "Root mean squared error:  120759.0199517701\n",
      "r2_score 0.8801519013179082\n",
      "\n",
      "\n",
      "\n",
      "LinearRegression()\n",
      "0.39438883782822975\n",
      "error: \n",
      "Mean absolute error:  181793.3398559552\n",
      "Mean squared error:  83278776715.46074\n",
      "Root mean squared error:  288580.6242897481\n",
      "r2_score 0.3155742724527504\n",
      "\n",
      "\n",
      "\n"
     ]
    }
   ],
   "source": [
    "model=[DecisionTreeRegressor(), KNeighborsRegressor(),RandomForestRegressor(),LinearRegression()]\n",
    "\n",
    "for m in model:\n",
    "    m.fit(x_train,y_train)\n",
    "    m.score(x_train,y_train)\n",
    "    predm=m.predict(x_test)\n",
    "    print(m)\n",
    "    print(m.score(x_train,y_train))\n",
    "    print(\"error: \")\n",
    "    print(\"Mean absolute error: \",mean_absolute_error(y_test,predm))\n",
    "    print(\"Mean squared error: \",mean_squared_error(y_test,predm))\n",
    "    print(\"Root mean squared error: \",np.sqrt(mean_squared_error(y_test,predm)))\n",
    "    print(\"r2_score\",r2_score(y_test,predm))\n",
    "    print(\"\\n\\n\")"
   ]
  },
  {
   "cell_type": "code",
   "execution_count": 105,
   "metadata": {},
   "outputs": [
    {
     "name": "stdout",
     "output_type": "stream",
     "text": [
      "XGBRegressor(base_score=0.5, booster='gbtree', colsample_bylevel=1,\n",
      "             colsample_bynode=1, colsample_bytree=1, gamma=0, gpu_id=-1,\n",
      "             importance_type='gain', interaction_constraints='',\n",
      "             learning_rate=0.300000012, max_delta_step=0, max_depth=6,\n",
      "             min_child_weight=1, missing=nan, monotone_constraints='()',\n",
      "             n_estimators=100, n_jobs=4, num_parallel_tree=1, random_state=0,\n",
      "             reg_alpha=0, reg_lambda=1, scale_pos_weight=1, subsample=1,\n",
      "             tree_method='exact', validate_parameters=1, verbosity=None)\n",
      "0.9859319631034226\n",
      "error: \n",
      "Mean absolute error:  61634.84902912621\n",
      "Mean squared error:  12391761296.291014\n",
      "Root mean squared error:  111318.2882382361\n",
      "r2_score 0.8981584435397779\n",
      "\n",
      "\n",
      "\n"
     ]
    }
   ],
   "source": [
    "from xgboost import XGBRegressor\n",
    "m=XGBRegressor()\n",
    "m.fit(x_train,y_train)\n",
    "m.score(x_train,y_train)\n",
    "predm=m.predict(x_test)\n",
    "print(m)\n",
    "print(m.score(x_train,y_train))\n",
    "print(\"error: \")\n",
    "print(\"Mean absolute error: \",mean_absolute_error(y_test,predm))\n",
    "print(\"Mean squared error: \",mean_squared_error(y_test,predm))\n",
    "print(\"Root mean squared error: \",np.sqrt(mean_squared_error(y_test,predm)))\n",
    "print(\"r2_score\",r2_score(y_test,predm))\n",
    "print(\"\\n\\n\")"
   ]
  },
  {
   "cell_type": "markdown",
   "metadata": {},
   "source": [
    "### Cross Validation"
   ]
  },
  {
   "cell_type": "code",
   "execution_count": 108,
   "metadata": {},
   "outputs": [
    {
     "name": "stdout",
     "output_type": "stream",
     "text": [
      "Cross val score: 69.77590737685026\n"
     ]
    }
   ],
   "source": [
    "from sklearn.model_selection import cross_val_score\n",
    "dtscore=cross_val_score(DecisionTreeRegressor(),x,y,cv=5,scoring='r2')\n",
    "dtc=dtscore.mean()\n",
    "print('Cross val score:',dtc*100)"
   ]
  },
  {
   "cell_type": "code",
   "execution_count": 109,
   "metadata": {},
   "outputs": [
    {
     "name": "stdout",
     "output_type": "stream",
     "text": [
      "Cross val score: -10.033025075012256\n"
     ]
    }
   ],
   "source": [
    "knnscore=cross_val_score(KNeighborsRegressor(),x,y,cv=5,scoring='r2')\n",
    "knn=knnscore.mean()\n",
    "print('Cross val score:',knn*100)"
   ]
  },
  {
   "cell_type": "code",
   "execution_count": 110,
   "metadata": {},
   "outputs": [
    {
     "name": "stdout",
     "output_type": "stream",
     "text": [
      "Cross val score: 85.86384096676414\n"
     ]
    }
   ],
   "source": [
    "rfscore=cross_val_score(RandomForestRegressor(),x,y,cv=5,scoring='r2')\n",
    "rfc=rfscore.mean()\n",
    "print('Cross val score:',rfc*100)"
   ]
  },
  {
   "cell_type": "code",
   "execution_count": 112,
   "metadata": {},
   "outputs": [
    {
     "name": "stdout",
     "output_type": "stream",
     "text": [
      "Cross val score: 35.39362598775026\n"
     ]
    }
   ],
   "source": [
    "lrscore=cross_val_score(LinearRegression(),x,y,cv=5,scoring='r2')\n",
    "lrc=lrscore.mean()\n",
    "print('Cross val score:',lrc*100)"
   ]
  },
  {
   "cell_type": "code",
   "execution_count": 113,
   "metadata": {},
   "outputs": [
    {
     "name": "stdout",
     "output_type": "stream",
     "text": [
      "Cross val score: 87.5287084490602\n"
     ]
    }
   ],
   "source": [
    "xgscore=cross_val_score(m,x,y,cv=5,scoring='r2')\n",
    "xgc=xgscore.mean()\n",
    "print('Cross val score:',xgc*100)"
   ]
  },
  {
   "cell_type": "markdown",
   "metadata": {},
   "source": [
    "### Regularization"
   ]
  },
  {
   "cell_type": "code",
   "execution_count": 114,
   "metadata": {},
   "outputs": [
    {
     "name": "stdout",
     "output_type": "stream",
     "text": [
      "{'alpha': 1, 'random_state': 0}\n"
     ]
    }
   ],
   "source": [
    "from sklearn.model_selection import GridSearchCV\n",
    "from sklearn.linear_model import Lasso,Ridge\n",
    "parameters={'alpha':[.0001,.001,.01,.1,1,10],'random_state':list(range(0,10))}\n",
    "ls=Ridge()\n",
    "clf=GridSearchCV(ls,parameters)\n",
    "clf.fit(x_train,y_train)\n",
    "print(clf.best_params_)"
   ]
  },
  {
   "cell_type": "code",
   "execution_count": 115,
   "metadata": {},
   "outputs": [
    {
     "name": "stdout",
     "output_type": "stream",
     "text": [
      "r2_score: 0.33499771683948876\n",
      "error: \n",
      "Mean absolute error:  178595.62970207067\n",
      "Mean squared error:  91642025428.35483\n",
      "Root mean squared error:  302724.339008866\n"
     ]
    }
   ],
   "source": [
    "ls=Ridge(alpha=1,random_state=0)\n",
    "ls.fit(x_train,y_train)\n",
    "ls.score(x_train,y_train)\n",
    "predls=ls.predict(x_test)\n",
    "lss=r2_score(y_test,predls)\n",
    "print('r2_score:', lss)\n",
    "print(\"error: \")\n",
    "print(\"Mean absolute error: \",mean_absolute_error(y_test,predls))\n",
    "print(\"Mean squared error: \",mean_squared_error(y_test,predls))\n",
    "print(\"Root mean squared error: \",np.sqrt(mean_squared_error(y_test,predls)))"
   ]
  },
  {
   "cell_type": "markdown",
   "metadata": {},
   "source": [
    "Looking at the difference between accuracy and r2_score, xgboost and random forest are performing better than other algorithms. We will further perform hyperparameter tuning on them and find out the best parameters."
   ]
  },
  {
   "cell_type": "markdown",
   "metadata": {},
   "source": [
    "## HyperParameter Tuning"
   ]
  },
  {
   "cell_type": "code",
   "execution_count": 117,
   "metadata": {},
   "outputs": [
    {
     "name": "stdout",
     "output_type": "stream",
     "text": [
      "{'reg_lambda': 1.0, 'n_estimators': 500, 'min_child_weight': 3, 'max_depth': 5, 'learning_rate': 0.1, 'gamma': 0.1, 'colsample_bytree': 0.5}\n"
     ]
    }
   ],
   "source": [
    "from sklearn.model_selection import GridSearchCV,RandomizedSearchCV\n",
    "parameters = {'max_depth': [1, 2, 3, 4, 5], 'learning_rate': [0.01, 0.05, 0.1], 'n_estimators': [100, 200, 300, 400, 500], 'reg_lambda': [0.001, 0.1, 1.0, 10.0, 100.0],\"min_child_weight\" : [ 1, 3, 5, 7 ],\n",
    " \"gamma\"            : [ 0.0, 0.1, 0.2 , 0.3, 0.4 ],\n",
    " \"colsample_bytree\" : [ 0.3, 0.4, 0.5 , 0.7 ]}\n",
    "xg=XGBRegressor()\n",
    "clf=RandomizedSearchCV(xg,parameters)\n",
    "clf.fit(x_train,y_train)\n",
    "print(clf.best_params_)"
   ]
  },
  {
   "cell_type": "code",
   "execution_count": 118,
   "metadata": {},
   "outputs": [
    {
     "name": "stdout",
     "output_type": "stream",
     "text": [
      "R2 Score: 88.36492016340743\n",
      "error: \n",
      "Mean absolute error:  63543.60050819175\n",
      "Mean squared error:  16033964232.098597\n",
      "Root mean squared error:  126625.29064961153\n",
      "Cross val score: 88.65699726467376\n"
     ]
    }
   ],
   "source": [
    "xg=XGBRegressor(max_depth=5,learning_rate=0.1,n_estimators=500,min_child_weight=3,gamma=0.1,colsample_bytree=0.5,reg_lambda=1.0)\n",
    "xg.fit(x_train,y_train)\n",
    "xg.score(x_train,y_train)\n",
    "pred_xg=xg.predict(x_test)\n",
    "xgs=r2_score(y_test,pred_xg)\n",
    "print('R2 Score:',xgs*100)\n",
    "print(\"error: \")\n",
    "print(\"Mean absolute error: \",mean_absolute_error(y_test,pred_xg))\n",
    "print(\"Mean squared error: \",mean_squared_error(y_test,pred_xg))\n",
    "print(\"Root mean squared error: \",np.sqrt(mean_squared_error(y_test,pred_xg)))\n",
    "xgscore=cross_val_score(xg,x,y,cv=5,scoring='r2')\n",
    "xgc=xgscore.mean()\n",
    "print('Cross val score:',xgc*100)"
   ]
  },
  {
   "cell_type": "code",
   "execution_count": 119,
   "metadata": {},
   "outputs": [
    {
     "name": "stdout",
     "output_type": "stream",
     "text": [
      "{'n_estimators': 100, 'max_features': 'log2', 'max_depth': 8, 'criterion': 'mae'}\n"
     ]
    }
   ],
   "source": [
    "parameters={'criterion':['mse','mae'],'max_features':[\"auto\",\"sqrt\",\"log2\"],'n_estimators':[100,500],'max_depth': [4,5,6,7,8]}\n",
    "rf=RandomForestRegressor()\n",
    "clf=RandomizedSearchCV(rf,parameters)\n",
    "clf.fit(x_train,y_train)\n",
    "print(clf.best_params_)"
   ]
  },
  {
   "cell_type": "code",
   "execution_count": 120,
   "metadata": {},
   "outputs": [
    {
     "name": "stdout",
     "output_type": "stream",
     "text": [
      "R2 Score: 62.89719967266512\n",
      "error: \n",
      "Mean absolute error:  113193.82297087378\n",
      "Mean squared error:  51130287175.872696\n",
      "Root mean squared error:  226120.07247449903\n",
      "Cross val score: 69.23648758732138\n"
     ]
    }
   ],
   "source": [
    "rf=RandomForestRegressor(criterion=\"mae\",max_features=\"log2\",n_estimators=100,max_depth=8)\n",
    "rf.fit(x_train,y_train)\n",
    "rf.score(x_train,y_train)\n",
    "pred_decision=rf.predict(x_test)\n",
    "rfs=r2_score(y_test,pred_decision)\n",
    "print('R2 Score:',rfs*100)\n",
    "print(\"error: \")\n",
    "print(\"Mean absolute error: \",mean_absolute_error(y_test,pred_decision))\n",
    "print(\"Mean squared error: \",mean_squared_error(y_test,pred_decision))\n",
    "print(\"Root mean squared error: \",np.sqrt(mean_squared_error(y_test,pred_decision)))\n",
    "rfscore=cross_val_score(rf,x,y,cv=5,scoring='r2')\n",
    "rfc=rfscore.mean()\n",
    "print('Cross val score:',rfc*100)"
   ]
  },
  {
   "cell_type": "markdown",
   "metadata": {},
   "source": [
    "After hyperparameter tuning, XGBRegressor with default parameters is performing best as it has better r2_score and MSE nd mAE."
   ]
  },
  {
   "cell_type": "markdown",
   "metadata": {},
   "source": [
    "## Saving the Model"
   ]
  },
  {
   "cell_type": "code",
   "execution_count": 121,
   "metadata": {},
   "outputs": [
    {
     "data": {
      "text/plain": [
       "['CarPrice.obj']"
      ]
     },
     "execution_count": 121,
     "metadata": {},
     "output_type": "execute_result"
    }
   ],
   "source": [
    "import joblib\n",
    "joblib.dump(xg,'CarPrice.obj')"
   ]
  },
  {
   "cell_type": "code",
   "execution_count": null,
   "metadata": {},
   "outputs": [],
   "source": []
  }
 ],
 "metadata": {
  "kernelspec": {
   "display_name": "Python 3",
   "language": "python",
   "name": "python3"
  },
  "language_info": {
   "codemirror_mode": {
    "name": "ipython",
    "version": 3
   },
   "file_extension": ".py",
   "mimetype": "text/x-python",
   "name": "python",
   "nbconvert_exporter": "python",
   "pygments_lexer": "ipython3",
   "version": "3.8.5"
  }
 },
 "nbformat": 4,
 "nbformat_minor": 4
}

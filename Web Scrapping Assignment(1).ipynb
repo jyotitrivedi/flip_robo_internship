{
 "cells": [
  {
   "cell_type": "code",
   "execution_count": 1,
   "metadata": {},
   "outputs": [
    {
     "name": "stdout",
     "output_type": "stream",
     "text": [
      "Collecting bs4\n",
      "  Downloading bs4-0.0.1.tar.gz (1.1 kB)\n",
      "Requirement already satisfied: beautifulsoup4 in c:\\users\\jyoti\\anaconda3\\lib\\site-packages (from bs4) (4.9.3)\n",
      "Requirement already satisfied: soupsieve>1.2; python_version >= \"3.0\" in c:\\users\\jyoti\\anaconda3\\lib\\site-packages (from beautifulsoup4->bs4) (2.0.1)\n",
      "Building wheels for collected packages: bs4\n",
      "  Building wheel for bs4 (setup.py): started\n",
      "  Building wheel for bs4 (setup.py): finished with status 'done'\n",
      "  Created wheel for bs4: filename=bs4-0.0.1-py3-none-any.whl size=1277 sha256=41f0c5b606f8dfd206445e8ee7cdc6e73c7904b09a5d4d92c93da622f9f32449\n",
      "  Stored in directory: c:\\users\\jyoti\\appdata\\local\\pip\\cache\\wheels\\75\\78\\21\\68b124549c9bdc94f822c02fb9aa3578a669843f9767776bca\n",
      "Successfully built bs4\n",
      "Installing collected packages: bs4\n",
      "Successfully installed bs4-0.0.1\n",
      "Requirement already satisfied: requests in c:\\users\\jyoti\\anaconda3\\lib\\site-packages (2.24.0)\n",
      "Requirement already satisfied: certifi>=2017.4.17 in c:\\users\\jyoti\\anaconda3\\lib\\site-packages (from requests) (2020.6.20)\n",
      "Requirement already satisfied: urllib3!=1.25.0,!=1.25.1,<1.26,>=1.21.1 in c:\\users\\jyoti\\anaconda3\\lib\\site-packages (from requests) (1.25.11)\n",
      "Requirement already satisfied: chardet<4,>=3.0.2 in c:\\users\\jyoti\\anaconda3\\lib\\site-packages (from requests) (3.0.4)\n",
      "Requirement already satisfied: idna<3,>=2.5 in c:\\users\\jyoti\\anaconda3\\lib\\site-packages (from requests) (2.10)\n"
     ]
    }
   ],
   "source": [
    "!pip install bs4\n",
    "!pip install requests"
   ]
  },
  {
   "cell_type": "code",
   "execution_count": 1,
   "metadata": {},
   "outputs": [],
   "source": [
    "from bs4 import BeautifulSoup\n",
    "import requests\n",
    "import pandas as pd"
   ]
  },
  {
   "cell_type": "markdown",
   "metadata": {},
   "source": [
    "#### 1. Write a python program to display all the header tags from ‘en.wikipedia.org/wiki/Main_Page’."
   ]
  },
  {
   "cell_type": "code",
   "execution_count": 55,
   "metadata": {},
   "outputs": [
    {
     "data": {
      "text/plain": [
       "<Response [200]>"
      ]
     },
     "execution_count": 55,
     "metadata": {},
     "output_type": "execute_result"
    }
   ],
   "source": [
    "page=requests.get(\"https://en.wikipedia.org/wiki/Main_Page\")\n",
    "page"
   ]
  },
  {
   "cell_type": "code",
   "execution_count": 56,
   "metadata": {},
   "outputs": [],
   "source": [
    "soup=BeautifulSoup(page.content)\n"
   ]
  },
  {
   "cell_type": "code",
   "execution_count": 57,
   "metadata": {},
   "outputs": [],
   "source": [
    "header=soup.find_all('span',class_=\"mw-headline\")\n"
   ]
  },
  {
   "cell_type": "code",
   "execution_count": 58,
   "metadata": {},
   "outputs": [
    {
     "data": {
      "text/plain": [
       "[\"From today's featured article\",\n",
       " 'Did you know\\xa0...',\n",
       " 'In the news',\n",
       " 'On this day',\n",
       " \"Today's featured picture\",\n",
       " 'Other areas of Wikipedia',\n",
       " \"Wikipedia's sister projects\",\n",
       " 'Wikipedia languages']"
      ]
     },
     "execution_count": 58,
     "metadata": {},
     "output_type": "execute_result"
    }
   ],
   "source": [
    "headerList=[]\n",
    "for i in header:\n",
    "    headerList.append(i.text)\n",
    "headerList    "
   ]
  },
  {
   "cell_type": "markdown",
   "metadata": {},
   "source": [
    "#### 2. Write a python program to display IMDB’s Top rated 100 movies’ data (i.e. Name, IMDB rating, Year of release) and make data frame."
   ]
  },
  {
   "cell_type": "code",
   "execution_count": 64,
   "metadata": {},
   "outputs": [
    {
     "data": {
      "text/plain": [
       "<Response [200]>"
      ]
     },
     "execution_count": 64,
     "metadata": {},
     "output_type": "execute_result"
    }
   ],
   "source": [
    "page=requests.get(\"https://www.imdb.com/chart/top/?ref_=nv_mv_250\")\n",
    "page"
   ]
  },
  {
   "cell_type": "code",
   "execution_count": 65,
   "metadata": {},
   "outputs": [],
   "source": [
    "soup=BeautifulSoup(page.content)"
   ]
  },
  {
   "cell_type": "code",
   "execution_count": 66,
   "metadata": {},
   "outputs": [],
   "source": [
    "imdb_movies=soup.find_all('td',class_=\"titleColumn\")\n"
   ]
  },
  {
   "cell_type": "code",
   "execution_count": 67,
   "metadata": {},
   "outputs": [],
   "source": [
    "imdb_movie_name=[]\n",
    "for i in imdb_movies:\n",
    "    for j in i.find_all('a'):\n",
    "        imdb_movie_name.append(j.text.replace('\\n',''))\n",
    "  "
   ]
  },
  {
   "cell_type": "code",
   "execution_count": 68,
   "metadata": {
    "scrolled": false
   },
   "outputs": [],
   "source": [
    "imdb_movie_year=[]\n",
    "for i in imdb_movies:\n",
    "    for j in i.find_all('span'):\n",
    "        imdb_movie_year.append(j.text.replace('\\n',''))\n"
   ]
  },
  {
   "cell_type": "code",
   "execution_count": 69,
   "metadata": {},
   "outputs": [],
   "source": [
    "imdb_movies_ratings=soup.find_all('td',class_=\"ratingColumn imdbRating\")\n"
   ]
  },
  {
   "cell_type": "code",
   "execution_count": 70,
   "metadata": {},
   "outputs": [],
   "source": [
    "imdb_movie_rating=[]\n",
    "for i in imdb_movies_ratings:\n",
    "        imdb_movie_rating.append(i.text.replace('\\n',''))\n"
   ]
  },
  {
   "cell_type": "code",
   "execution_count": 71,
   "metadata": {},
   "outputs": [
    {
     "data": {
      "text/html": [
       "<div>\n",
       "<style scoped>\n",
       "    .dataframe tbody tr th:only-of-type {\n",
       "        vertical-align: middle;\n",
       "    }\n",
       "\n",
       "    .dataframe tbody tr th {\n",
       "        vertical-align: top;\n",
       "    }\n",
       "\n",
       "    .dataframe thead th {\n",
       "        text-align: right;\n",
       "    }\n",
       "</style>\n",
       "<table border=\"1\" class=\"dataframe\">\n",
       "  <thead>\n",
       "    <tr style=\"text-align: right;\">\n",
       "      <th></th>\n",
       "      <th>Movie Name</th>\n",
       "      <th>Release Year</th>\n",
       "      <th>Ratings</th>\n",
       "    </tr>\n",
       "  </thead>\n",
       "  <tbody>\n",
       "    <tr>\n",
       "      <th>0</th>\n",
       "      <td>The Shawshank Redemption</td>\n",
       "      <td>(1994)</td>\n",
       "      <td>9.2</td>\n",
       "    </tr>\n",
       "    <tr>\n",
       "      <th>1</th>\n",
       "      <td>The Godfather</td>\n",
       "      <td>(1972)</td>\n",
       "      <td>9.1</td>\n",
       "    </tr>\n",
       "    <tr>\n",
       "      <th>2</th>\n",
       "      <td>The Godfather: Part II</td>\n",
       "      <td>(1974)</td>\n",
       "      <td>9.0</td>\n",
       "    </tr>\n",
       "    <tr>\n",
       "      <th>3</th>\n",
       "      <td>The Dark Knight</td>\n",
       "      <td>(2008)</td>\n",
       "      <td>9.0</td>\n",
       "    </tr>\n",
       "    <tr>\n",
       "      <th>4</th>\n",
       "      <td>12 Angry Men</td>\n",
       "      <td>(1957)</td>\n",
       "      <td>8.9</td>\n",
       "    </tr>\n",
       "    <tr>\n",
       "      <th>...</th>\n",
       "      <td>...</td>\n",
       "      <td>...</td>\n",
       "      <td>...</td>\n",
       "    </tr>\n",
       "    <tr>\n",
       "      <th>95</th>\n",
       "      <td>Singin' in the Rain</td>\n",
       "      <td>(1952)</td>\n",
       "      <td>8.3</td>\n",
       "    </tr>\n",
       "    <tr>\n",
       "      <th>96</th>\n",
       "      <td>North by Northwest</td>\n",
       "      <td>(1959)</td>\n",
       "      <td>8.3</td>\n",
       "    </tr>\n",
       "    <tr>\n",
       "      <th>97</th>\n",
       "      <td>Eternal Sunshine of the Spotless Mind</td>\n",
       "      <td>(2004)</td>\n",
       "      <td>8.3</td>\n",
       "    </tr>\n",
       "    <tr>\n",
       "      <th>98</th>\n",
       "      <td>Idi i smotri</td>\n",
       "      <td>(1985)</td>\n",
       "      <td>8.3</td>\n",
       "    </tr>\n",
       "    <tr>\n",
       "      <th>99</th>\n",
       "      <td>Ladri di biciclette</td>\n",
       "      <td>(1948)</td>\n",
       "      <td>8.3</td>\n",
       "    </tr>\n",
       "  </tbody>\n",
       "</table>\n",
       "<p>100 rows × 3 columns</p>\n",
       "</div>"
      ],
      "text/plain": [
       "                               Movie Name Release Year Ratings\n",
       "0                The Shawshank Redemption       (1994)     9.2\n",
       "1                           The Godfather       (1972)     9.1\n",
       "2                  The Godfather: Part II       (1974)     9.0\n",
       "3                         The Dark Knight       (2008)     9.0\n",
       "4                            12 Angry Men       (1957)     8.9\n",
       "..                                    ...          ...     ...\n",
       "95                    Singin' in the Rain       (1952)     8.3\n",
       "96                     North by Northwest       (1959)     8.3\n",
       "97  Eternal Sunshine of the Spotless Mind       (2004)     8.3\n",
       "98                           Idi i smotri       (1985)     8.3\n",
       "99                    Ladri di biciclette       (1948)     8.3\n",
       "\n",
       "[100 rows x 3 columns]"
      ]
     },
     "execution_count": 71,
     "metadata": {},
     "output_type": "execute_result"
    }
   ],
   "source": [
    "import pandas as pd\n",
    "imdb=pd.DataFrame({})\n",
    "imdb['Movie Name']=imdb_movie_name[0:100]\n",
    "imdb['Release Year']=imdb_movie_year[0:100]\n",
    "imdb['Ratings']=imdb_movie_rating[0:100]\n",
    "imdb"
   ]
  },
  {
   "cell_type": "markdown",
   "metadata": {},
   "source": [
    "#### 3. Write a python program to display IMDB’s Top rated 100 Indian movies’ data (i.e. Name, IMDB rating, Year of release) and make data frame."
   ]
  },
  {
   "cell_type": "code",
   "execution_count": 72,
   "metadata": {},
   "outputs": [
    {
     "data": {
      "text/plain": [
       "<Response [200]>"
      ]
     },
     "execution_count": 72,
     "metadata": {},
     "output_type": "execute_result"
    }
   ],
   "source": [
    "page=requests.get(\"https://www.imdb.com/india/top-rated-indian-movies/?pf_rd_m=A2FGELUUNOQJNL&pf_rd_p=2e9dfa9b-3e4d-4d39-acd2-8af11f252a59&pf_rd_r=ASSD90VRYJGTMDPGZ8E1&pf_rd_s=right-5&pf_rd_t=15506&pf_rd_i=top&ref_=chttp_india_tr_rhs_1\")\n",
    "page"
   ]
  },
  {
   "cell_type": "code",
   "execution_count": 73,
   "metadata": {},
   "outputs": [],
   "source": [
    "soup=BeautifulSoup(page.content)"
   ]
  },
  {
   "cell_type": "code",
   "execution_count": 74,
   "metadata": {},
   "outputs": [],
   "source": [
    "imdb_indian=soup.find_all('td',class_=\"titleColumn\")\n"
   ]
  },
  {
   "cell_type": "code",
   "execution_count": 75,
   "metadata": {},
   "outputs": [],
   "source": [
    "imdb_indian_movie=[]\n",
    "for i in imdb_indian:\n",
    "    for j in i.find_all('a'):\n",
    "        imdb_indian_movie.append(j.text.replace('\\n',''))\n",
    "      "
   ]
  },
  {
   "cell_type": "code",
   "execution_count": 76,
   "metadata": {},
   "outputs": [],
   "source": [
    "imdb_releaseYear=[]\n",
    "for i in imdb_indian:\n",
    "    for j in i.find_all('span'):\n",
    "        imdb_releaseYear.append(j.text.replace('\\n',''))\n",
    "       "
   ]
  },
  {
   "cell_type": "code",
   "execution_count": 77,
   "metadata": {},
   "outputs": [],
   "source": [
    "imdb_movies_ratings=soup.find_all('td',class_=\"ratingColumn imdbRating\")\n"
   ]
  },
  {
   "cell_type": "code",
   "execution_count": 78,
   "metadata": {},
   "outputs": [],
   "source": [
    "imdb_movie_rating=[]\n",
    "for i in imdb_movies_ratings:\n",
    "        imdb_movie_rating.append(i.text.replace('\\n',''))\n"
   ]
  },
  {
   "cell_type": "code",
   "execution_count": 79,
   "metadata": {},
   "outputs": [
    {
     "data": {
      "text/html": [
       "<div>\n",
       "<style scoped>\n",
       "    .dataframe tbody tr th:only-of-type {\n",
       "        vertical-align: middle;\n",
       "    }\n",
       "\n",
       "    .dataframe tbody tr th {\n",
       "        vertical-align: top;\n",
       "    }\n",
       "\n",
       "    .dataframe thead th {\n",
       "        text-align: right;\n",
       "    }\n",
       "</style>\n",
       "<table border=\"1\" class=\"dataframe\">\n",
       "  <thead>\n",
       "    <tr style=\"text-align: right;\">\n",
       "      <th></th>\n",
       "      <th>Movie Name</th>\n",
       "      <th>Release Year</th>\n",
       "      <th>Rating</th>\n",
       "    </tr>\n",
       "  </thead>\n",
       "  <tbody>\n",
       "    <tr>\n",
       "      <th>0</th>\n",
       "      <td>Pather Panchali</td>\n",
       "      <td>(1955)</td>\n",
       "      <td>8.5</td>\n",
       "    </tr>\n",
       "    <tr>\n",
       "      <th>1</th>\n",
       "      <td>Nayakan</td>\n",
       "      <td>(1987)</td>\n",
       "      <td>8.5</td>\n",
       "    </tr>\n",
       "    <tr>\n",
       "      <th>2</th>\n",
       "      <td>Anbe Sivam</td>\n",
       "      <td>(2003)</td>\n",
       "      <td>8.5</td>\n",
       "    </tr>\n",
       "    <tr>\n",
       "      <th>3</th>\n",
       "      <td>Pariyerum Perumal</td>\n",
       "      <td>(2018)</td>\n",
       "      <td>8.5</td>\n",
       "    </tr>\n",
       "    <tr>\n",
       "      <th>4</th>\n",
       "      <td>Drishyam 2</td>\n",
       "      <td>(2021)</td>\n",
       "      <td>8.5</td>\n",
       "    </tr>\n",
       "    <tr>\n",
       "      <th>...</th>\n",
       "      <td>...</td>\n",
       "      <td>...</td>\n",
       "      <td>...</td>\n",
       "    </tr>\n",
       "    <tr>\n",
       "      <th>95</th>\n",
       "      <td>Chhichhore</td>\n",
       "      <td>(2019)</td>\n",
       "      <td>8.1</td>\n",
       "    </tr>\n",
       "    <tr>\n",
       "      <th>96</th>\n",
       "      <td>Uri: The Surgical Strike</td>\n",
       "      <td>(2018)</td>\n",
       "      <td>8.1</td>\n",
       "    </tr>\n",
       "    <tr>\n",
       "      <th>97</th>\n",
       "      <td>Virumandi</td>\n",
       "      <td>(2004)</td>\n",
       "      <td>8.1</td>\n",
       "    </tr>\n",
       "    <tr>\n",
       "      <th>98</th>\n",
       "      <td>PK</td>\n",
       "      <td>(2014)</td>\n",
       "      <td>8.1</td>\n",
       "    </tr>\n",
       "    <tr>\n",
       "      <th>99</th>\n",
       "      <td>Iqbal</td>\n",
       "      <td>(2005)</td>\n",
       "      <td>8.1</td>\n",
       "    </tr>\n",
       "  </tbody>\n",
       "</table>\n",
       "<p>100 rows × 3 columns</p>\n",
       "</div>"
      ],
      "text/plain": [
       "                  Movie Name Release Year Rating\n",
       "0            Pather Panchali       (1955)    8.5\n",
       "1                    Nayakan       (1987)    8.5\n",
       "2                 Anbe Sivam       (2003)    8.5\n",
       "3          Pariyerum Perumal       (2018)    8.5\n",
       "4                 Drishyam 2       (2021)    8.5\n",
       "..                       ...          ...    ...\n",
       "95                Chhichhore       (2019)    8.1\n",
       "96  Uri: The Surgical Strike       (2018)    8.1\n",
       "97                 Virumandi       (2004)    8.1\n",
       "98                        PK       (2014)    8.1\n",
       "99                     Iqbal       (2005)    8.1\n",
       "\n",
       "[100 rows x 3 columns]"
      ]
     },
     "execution_count": 79,
     "metadata": {},
     "output_type": "execute_result"
    }
   ],
   "source": [
    "Imdb_indian=pd.DataFrame({})\n",
    "Imdb_indian['Movie Name']=imdb_indian_movie[0:100]\n",
    "Imdb_indian['Release Year']=imdb_releaseYear[0:100]\n",
    "Imdb_indian['Rating']=imdb_movie_rating[0:100]\n",
    "\n",
    "Imdb_indian\n"
   ]
  },
  {
   "cell_type": "markdown",
   "metadata": {},
   "source": [
    "#### 4. Write a python program to scrap book name, author name, genre and book review of any 5 books from ‘www.bookpage.com’"
   ]
  },
  {
   "cell_type": "code",
   "execution_count": 80,
   "metadata": {},
   "outputs": [
    {
     "data": {
      "text/plain": [
       "<Response [200]>"
      ]
     },
     "execution_count": 80,
     "metadata": {},
     "output_type": "execute_result"
    }
   ],
   "source": [
    "page=requests.get(\"https://bookpage.com/reviews\")\n",
    "page"
   ]
  },
  {
   "cell_type": "code",
   "execution_count": 81,
   "metadata": {},
   "outputs": [],
   "source": [
    "soup=BeautifulSoup(page.content)"
   ]
  },
  {
   "cell_type": "code",
   "execution_count": 82,
   "metadata": {},
   "outputs": [],
   "source": [
    "book=soup.find_all('div',class_=\"flex-article-content\")\n"
   ]
  },
  {
   "cell_type": "code",
   "execution_count": 83,
   "metadata": {},
   "outputs": [
    {
     "data": {
      "text/html": [
       "<div>\n",
       "<style scoped>\n",
       "    .dataframe tbody tr th:only-of-type {\n",
       "        vertical-align: middle;\n",
       "    }\n",
       "\n",
       "    .dataframe tbody tr th {\n",
       "        vertical-align: top;\n",
       "    }\n",
       "\n",
       "    .dataframe thead th {\n",
       "        text-align: right;\n",
       "    }\n",
       "</style>\n",
       "<table border=\"1\" class=\"dataframe\">\n",
       "  <thead>\n",
       "    <tr style=\"text-align: right;\">\n",
       "      <th></th>\n",
       "      <th>0</th>\n",
       "      <th>1</th>\n",
       "      <th>2</th>\n",
       "    </tr>\n",
       "  </thead>\n",
       "  <tbody>\n",
       "    <tr>\n",
       "      <th>0</th>\n",
       "      <td>Heaven</td>\n",
       "      <td>Mieko Kawakami, Sam Bett, David Boyd</td>\n",
       "      <td>Fiction / Coming of Age</td>\n",
       "    </tr>\n",
       "    <tr>\n",
       "      <th>1</th>\n",
       "      <td>The Guncle</td>\n",
       "      <td>Steven Rowley</td>\n",
       "      <td>Fiction / Family Drama</td>\n",
       "    </tr>\n",
       "    <tr>\n",
       "      <th>2</th>\n",
       "      <td>The Coming Storm</td>\n",
       "      <td>Regina M. Hansen</td>\n",
       "      <td>YA / YA Fiction</td>\n",
       "    </tr>\n",
       "    <tr>\n",
       "      <th>3</th>\n",
       "      <td>★ Instructions for Dancing</td>\n",
       "      <td>Nicola Yoon</td>\n",
       "      <td>YA / YA Fiction</td>\n",
       "    </tr>\n",
       "    <tr>\n",
       "      <th>4</th>\n",
       "      <td>Super Fly</td>\n",
       "      <td>Jonathan Balcombe</td>\n",
       "      <td>Nonfiction / Science &amp; Nature / Animals</td>\n",
       "    </tr>\n",
       "  </tbody>\n",
       "</table>\n",
       "</div>"
      ],
      "text/plain": [
       "                            0                                     1  \\\n",
       "0                      Heaven  Mieko Kawakami, Sam Bett, David Boyd   \n",
       "1                  The Guncle                         Steven Rowley   \n",
       "2            The Coming Storm                      Regina M. Hansen   \n",
       "3  ★ Instructions for Dancing                           Nicola Yoon   \n",
       "4                   Super Fly                     Jonathan Balcombe   \n",
       "\n",
       "                                         2  \n",
       "0                  Fiction / Coming of Age  \n",
       "1                   Fiction / Family Drama  \n",
       "2                          YA / YA Fiction  \n",
       "3                          YA / YA Fiction  \n",
       "4  Nonfiction / Science & Nature / Animals  "
      ]
     },
     "execution_count": 83,
     "metadata": {},
     "output_type": "execute_result"
    }
   ],
   "source": [
    "import numpy as np\n",
    "book_detail=[]\n",
    "for i in book:\n",
    "    cols=i.find_all('a')\n",
    "    name=i.find_all('p')\n",
    "    genre=i.find_all('p',class_=\"genre-links hidden-phone\")\n",
    "    book_detail.append((cols[0].text.strip(),name[0].text.strip(),genre[0].text.replace('\\n','')))\n",
    "    \n",
    "book_array = np.asarray(book_detail)    \n",
    "df = pd.DataFrame(book_array[0:5])    \n",
    "df    \n",
    "    \n",
    "    \n",
    "  "
   ]
  },
  {
   "cell_type": "code",
   "execution_count": 84,
   "metadata": {},
   "outputs": [],
   "source": [
    "review_url=soup.find_all('div',class_=\"read-full\")\n"
   ]
  },
  {
   "cell_type": "code",
   "execution_count": 87,
   "metadata": {},
   "outputs": [],
   "source": [
    "url=[]\n",
    "for i in review_url:\n",
    "    for j in i.find_all('a'):\n",
    "        url.append(j['href'])\n",
    "       \n",
    "        "
   ]
  },
  {
   "cell_type": "code",
   "execution_count": 88,
   "metadata": {},
   "outputs": [],
   "source": [
    "book_review=[]\n",
    "for i in url[0:5]:\n",
    "    book=requests.get('https://www.bookpage.com'+i)\n",
    "    soup=BeautifulSoup(book.content)\n",
    "    review=soup.find_all('div',class_='article-body')\n",
    "    for j in review:\n",
    "        rev=j.find_all('p')\n",
    "        book_review.append(rev[1].text.replace('\\n',''))\n",
    "        "
   ]
  },
  {
   "cell_type": "code",
   "execution_count": 89,
   "metadata": {},
   "outputs": [],
   "source": [
    "df['Review']=book_review"
   ]
  },
  {
   "cell_type": "code",
   "execution_count": 90,
   "metadata": {},
   "outputs": [
    {
     "data": {
      "text/html": [
       "<div>\n",
       "<style scoped>\n",
       "    .dataframe tbody tr th:only-of-type {\n",
       "        vertical-align: middle;\n",
       "    }\n",
       "\n",
       "    .dataframe tbody tr th {\n",
       "        vertical-align: top;\n",
       "    }\n",
       "\n",
       "    .dataframe thead th {\n",
       "        text-align: right;\n",
       "    }\n",
       "</style>\n",
       "<table border=\"1\" class=\"dataframe\">\n",
       "  <thead>\n",
       "    <tr style=\"text-align: right;\">\n",
       "      <th></th>\n",
       "      <th>Book Name</th>\n",
       "      <th>Author</th>\n",
       "      <th>Genre</th>\n",
       "      <th>Review</th>\n",
       "    </tr>\n",
       "  </thead>\n",
       "  <tbody>\n",
       "    <tr>\n",
       "      <th>0</th>\n",
       "      <td>Heaven</td>\n",
       "      <td>Mieko Kawakami, Sam Bett, David Boyd</td>\n",
       "      <td>Fiction / Coming of Age</td>\n",
       "      <td>If you are an avid reader, you might have been...</td>\n",
       "    </tr>\n",
       "    <tr>\n",
       "      <th>1</th>\n",
       "      <td>The Guncle</td>\n",
       "      <td>Steven Rowley</td>\n",
       "      <td>Fiction / Family Drama</td>\n",
       "      <td>At the beginning of Steven Rowley’s third nove...</td>\n",
       "    </tr>\n",
       "    <tr>\n",
       "      <th>2</th>\n",
       "      <td>The Coming Storm</td>\n",
       "      <td>Regina M. Hansen</td>\n",
       "      <td>YA / YA Fiction</td>\n",
       "      <td>For more than a century, thanks to L.M. Montgo...</td>\n",
       "    </tr>\n",
       "    <tr>\n",
       "      <th>3</th>\n",
       "      <td>★ Instructions for Dancing</td>\n",
       "      <td>Nicola Yoon</td>\n",
       "      <td>YA / YA Fiction</td>\n",
       "      <td>Evie used to believe in love. She has bookshel...</td>\n",
       "    </tr>\n",
       "    <tr>\n",
       "      <th>4</th>\n",
       "      <td>Super Fly</td>\n",
       "      <td>Jonathan Balcombe</td>\n",
       "      <td>Nonfiction / Science &amp; Nature / Animals</td>\n",
       "      <td>Without flies, there would be no chocolate. Bi...</td>\n",
       "    </tr>\n",
       "  </tbody>\n",
       "</table>\n",
       "</div>"
      ],
      "text/plain": [
       "                    Book Name                                Author  \\\n",
       "0                      Heaven  Mieko Kawakami, Sam Bett, David Boyd   \n",
       "1                  The Guncle                         Steven Rowley   \n",
       "2            The Coming Storm                      Regina M. Hansen   \n",
       "3  ★ Instructions for Dancing                           Nicola Yoon   \n",
       "4                   Super Fly                     Jonathan Balcombe   \n",
       "\n",
       "                                     Genre  \\\n",
       "0                  Fiction / Coming of Age   \n",
       "1                   Fiction / Family Drama   \n",
       "2                          YA / YA Fiction   \n",
       "3                          YA / YA Fiction   \n",
       "4  Nonfiction / Science & Nature / Animals   \n",
       "\n",
       "                                              Review  \n",
       "0  If you are an avid reader, you might have been...  \n",
       "1  At the beginning of Steven Rowley’s third nove...  \n",
       "2  For more than a century, thanks to L.M. Montgo...  \n",
       "3  Evie used to believe in love. She has bookshel...  \n",
       "4  Without flies, there would be no chocolate. Bi...  "
      ]
     },
     "execution_count": 90,
     "metadata": {},
     "output_type": "execute_result"
    }
   ],
   "source": [
    "df.columns=['Book Name','Author','Genre','Review']\n",
    "df"
   ]
  },
  {
   "cell_type": "markdown",
   "metadata": {},
   "source": [
    "#### 5.1 Top 10 ODI teams in men’s cricket along with the records for matches, points and rating."
   ]
  },
  {
   "cell_type": "code",
   "execution_count": 122,
   "metadata": {},
   "outputs": [
    {
     "data": {
      "text/plain": [
       "<Response [200]>"
      ]
     },
     "execution_count": 122,
     "metadata": {},
     "output_type": "execute_result"
    }
   ],
   "source": [
    "page=requests.get(\"https://www.icc-cricket.com/rankings/mens/team-rankings/odi\")\n",
    "page"
   ]
  },
  {
   "cell_type": "code",
   "execution_count": 124,
   "metadata": {},
   "outputs": [],
   "source": [
    "soup=BeautifulSoup(page.content)"
   ]
  },
  {
   "cell_type": "code",
   "execution_count": 161,
   "metadata": {},
   "outputs": [],
   "source": [
    "top=soup.find('tr',class_='rankings-block__banner')\n"
   ]
  },
  {
   "cell_type": "code",
   "execution_count": 150,
   "metadata": {},
   "outputs": [],
   "source": [
    "team_ranking=[]\n",
    "for i in top:\n",
    "    name=i.find('span',class_='u-hide-phablet')\n",
    "    matches=i.find('td',class_='rankings-block__banner--matches')\n",
    "    points=i.find('td',class_='rankings-block__banner--points')\n",
    "    rating=i.find('td',class_='rankings-block__banner--rating u-text-right')\n",
    "    team_ranking.append((name.text.replace('\\n',''),matches.text.replace('\\n',''),points.text.replace('\\n',''),rating.text.strip()))\n"
   ]
  },
  {
   "cell_type": "code",
   "execution_count": 162,
   "metadata": {},
   "outputs": [],
   "source": [
    "odi=soup.find_all('tr',class_='table-body')\n"
   ]
  },
  {
   "cell_type": "code",
   "execution_count": 156,
   "metadata": {},
   "outputs": [],
   "source": [
    "for i in odi:\n",
    "    name=i.find('span',class_='u-hide-phablet')\n",
    "    matches=i.find('td',class_='table-body__cell u-center-text')\n",
    "    points=i.find('td',class_='table-body__cell u-center-text')\n",
    "    rating=i.find('td',class_='table-body__cell u-text-right rating')\n",
    "    team_ranking.append((name.text.replace('\\n',''),matches.text.replace('\\n',''),points.text.replace('\\n',''),rating.text.strip()))\n"
   ]
  },
  {
   "cell_type": "code",
   "execution_count": 160,
   "metadata": {},
   "outputs": [
    {
     "data": {
      "text/html": [
       "<div>\n",
       "<style scoped>\n",
       "    .dataframe tbody tr th:only-of-type {\n",
       "        vertical-align: middle;\n",
       "    }\n",
       "\n",
       "    .dataframe tbody tr th {\n",
       "        vertical-align: top;\n",
       "    }\n",
       "\n",
       "    .dataframe thead th {\n",
       "        text-align: right;\n",
       "    }\n",
       "</style>\n",
       "<table border=\"1\" class=\"dataframe\">\n",
       "  <thead>\n",
       "    <tr style=\"text-align: right;\">\n",
       "      <th></th>\n",
       "      <th>Team</th>\n",
       "      <th>Matches</th>\n",
       "      <th>Points</th>\n",
       "      <th>Rating</th>\n",
       "    </tr>\n",
       "  </thead>\n",
       "  <tbody>\n",
       "    <tr>\n",
       "      <th>0</th>\n",
       "      <td>New Zealand</td>\n",
       "      <td>17</td>\n",
       "      <td>2,054</td>\n",
       "      <td>121</td>\n",
       "    </tr>\n",
       "    <tr>\n",
       "      <th>1</th>\n",
       "      <td>Australia</td>\n",
       "      <td>25</td>\n",
       "      <td>25</td>\n",
       "      <td>118</td>\n",
       "    </tr>\n",
       "    <tr>\n",
       "      <th>2</th>\n",
       "      <td>India</td>\n",
       "      <td>29</td>\n",
       "      <td>29</td>\n",
       "      <td>115</td>\n",
       "    </tr>\n",
       "    <tr>\n",
       "      <th>3</th>\n",
       "      <td>England</td>\n",
       "      <td>27</td>\n",
       "      <td>27</td>\n",
       "      <td>115</td>\n",
       "    </tr>\n",
       "    <tr>\n",
       "      <th>4</th>\n",
       "      <td>South Africa</td>\n",
       "      <td>20</td>\n",
       "      <td>20</td>\n",
       "      <td>107</td>\n",
       "    </tr>\n",
       "    <tr>\n",
       "      <th>5</th>\n",
       "      <td>Pakistan</td>\n",
       "      <td>24</td>\n",
       "      <td>24</td>\n",
       "      <td>97</td>\n",
       "    </tr>\n",
       "    <tr>\n",
       "      <th>6</th>\n",
       "      <td>Bangladesh</td>\n",
       "      <td>25</td>\n",
       "      <td>25</td>\n",
       "      <td>91</td>\n",
       "    </tr>\n",
       "    <tr>\n",
       "      <th>7</th>\n",
       "      <td>West Indies</td>\n",
       "      <td>27</td>\n",
       "      <td>27</td>\n",
       "      <td>82</td>\n",
       "    </tr>\n",
       "    <tr>\n",
       "      <th>8</th>\n",
       "      <td>Sri Lanka</td>\n",
       "      <td>22</td>\n",
       "      <td>22</td>\n",
       "      <td>77</td>\n",
       "    </tr>\n",
       "    <tr>\n",
       "      <th>9</th>\n",
       "      <td>Afghanistan</td>\n",
       "      <td>17</td>\n",
       "      <td>17</td>\n",
       "      <td>62</td>\n",
       "    </tr>\n",
       "  </tbody>\n",
       "</table>\n",
       "</div>"
      ],
      "text/plain": [
       "           Team Matches Points Rating\n",
       "0   New Zealand      17  2,054    121\n",
       "1     Australia      25     25    118\n",
       "2         India      29     29    115\n",
       "3       England      27     27    115\n",
       "4  South Africa      20     20    107\n",
       "5      Pakistan      24     24     97\n",
       "6    Bangladesh      25     25     91\n",
       "7   West Indies      27     27     82\n",
       "8     Sri Lanka      22     22     77\n",
       "9   Afghanistan      17     17     62"
      ]
     },
     "execution_count": 160,
     "metadata": {},
     "output_type": "execute_result"
    }
   ],
   "source": [
    "df=pd.DataFrame(team_ranking[0:10])\n",
    "df.columns=['Team','Matches','Points','Rating']\n",
    "df"
   ]
  },
  {
   "cell_type": "markdown",
   "metadata": {},
   "source": [
    "#### 5.2 Top 10 ODI Batsmen in men along with the records of their team and rating"
   ]
  },
  {
   "cell_type": "code",
   "execution_count": 5,
   "metadata": {},
   "outputs": [
    {
     "data": {
      "text/plain": [
       "<Response [200]>"
      ]
     },
     "execution_count": 5,
     "metadata": {},
     "output_type": "execute_result"
    }
   ],
   "source": [
    "page=requests.get(\"https://www.icc-cricket.com/rankings/mens/player-rankings/odi/Batting\")\n",
    "page"
   ]
  },
  {
   "cell_type": "code",
   "execution_count": 6,
   "metadata": {},
   "outputs": [],
   "source": [
    "soup=BeautifulSoup(page.content)"
   ]
  },
  {
   "cell_type": "code",
   "execution_count": 15,
   "metadata": {},
   "outputs": [],
   "source": [
    "player1=soup.find_all('div',class_='rankings-block__banner--name-large')\n",
    "player=[]\n",
    "for i in player1:\n",
    "    player.append(i.text)  \n",
    "    \n",
    "player2=soup.find_all('td',class_='table-body__cell rankings-table__name name')\n",
    "for i in player2:\n",
    "    for j in i.find_all('a'):\n",
    "        player.append(j.text.strip())    "
   ]
  },
  {
   "cell_type": "code",
   "execution_count": 26,
   "metadata": {},
   "outputs": [],
   "source": [
    "country1=soup.find_all('div',class_='rankings-block__banner--nationality')\n",
    "country=[]\n",
    "for i in country1:\n",
    "    country.append(i.text.strip())\n",
    "country2=soup.find_all('span',class_='table-body__logo-text')\n",
    "for i in country2:\n",
    "    country.append(i.text.strip())\n",
    "  "
   ]
  },
  {
   "cell_type": "code",
   "execution_count": 30,
   "metadata": {},
   "outputs": [],
   "source": [
    "rating1=soup.find_all('div',class_='rankings-block__banner--rating')\n",
    "rating=[]\n",
    "for i in rating1:\n",
    "    rating.append(i.text.strip())\n",
    "rating2=soup.find_all('td',class_='table-body__cell rating')\n",
    "for i in rating2:\n",
    "    rating.append(i.text.strip())"
   ]
  },
  {
   "cell_type": "code",
   "execution_count": 34,
   "metadata": {},
   "outputs": [
    {
     "data": {
      "text/html": [
       "<div>\n",
       "<style scoped>\n",
       "    .dataframe tbody tr th:only-of-type {\n",
       "        vertical-align: middle;\n",
       "    }\n",
       "\n",
       "    .dataframe tbody tr th {\n",
       "        vertical-align: top;\n",
       "    }\n",
       "\n",
       "    .dataframe thead th {\n",
       "        text-align: right;\n",
       "    }\n",
       "</style>\n",
       "<table border=\"1\" class=\"dataframe\">\n",
       "  <thead>\n",
       "    <tr style=\"text-align: right;\">\n",
       "      <th></th>\n",
       "      <th>Name</th>\n",
       "      <th>Country</th>\n",
       "      <th>Rating</th>\n",
       "    </tr>\n",
       "  </thead>\n",
       "  <tbody>\n",
       "    <tr>\n",
       "      <th>0</th>\n",
       "      <td>Babar Azam</td>\n",
       "      <td>PAK</td>\n",
       "      <td>865</td>\n",
       "    </tr>\n",
       "    <tr>\n",
       "      <th>1</th>\n",
       "      <td>Virat Kohli</td>\n",
       "      <td>IND</td>\n",
       "      <td>857</td>\n",
       "    </tr>\n",
       "    <tr>\n",
       "      <th>2</th>\n",
       "      <td>Rohit Sharma</td>\n",
       "      <td>IND</td>\n",
       "      <td>825</td>\n",
       "    </tr>\n",
       "    <tr>\n",
       "      <th>3</th>\n",
       "      <td>Ross Taylor</td>\n",
       "      <td>NZ</td>\n",
       "      <td>801</td>\n",
       "    </tr>\n",
       "    <tr>\n",
       "      <th>4</th>\n",
       "      <td>Aaron Finch</td>\n",
       "      <td>AUS</td>\n",
       "      <td>791</td>\n",
       "    </tr>\n",
       "    <tr>\n",
       "      <th>5</th>\n",
       "      <td>Jonny Bairstow</td>\n",
       "      <td>ENG</td>\n",
       "      <td>785</td>\n",
       "    </tr>\n",
       "    <tr>\n",
       "      <th>6</th>\n",
       "      <td>Fakhar Zaman</td>\n",
       "      <td>PAK</td>\n",
       "      <td>778</td>\n",
       "    </tr>\n",
       "    <tr>\n",
       "      <th>7</th>\n",
       "      <td>Francois du Plessis</td>\n",
       "      <td>SA</td>\n",
       "      <td>778</td>\n",
       "    </tr>\n",
       "    <tr>\n",
       "      <th>8</th>\n",
       "      <td>David Warner</td>\n",
       "      <td>AUS</td>\n",
       "      <td>773</td>\n",
       "    </tr>\n",
       "    <tr>\n",
       "      <th>9</th>\n",
       "      <td>Shai Hope</td>\n",
       "      <td>WI</td>\n",
       "      <td>773</td>\n",
       "    </tr>\n",
       "  </tbody>\n",
       "</table>\n",
       "</div>"
      ],
      "text/plain": [
       "                  Name Country Rating\n",
       "0           Babar Azam     PAK    865\n",
       "1          Virat Kohli     IND    857\n",
       "2         Rohit Sharma     IND    825\n",
       "3          Ross Taylor      NZ    801\n",
       "4          Aaron Finch     AUS    791\n",
       "5       Jonny Bairstow     ENG    785\n",
       "6         Fakhar Zaman     PAK    778\n",
       "7  Francois du Plessis      SA    778\n",
       "8         David Warner     AUS    773\n",
       "9            Shai Hope      WI    773"
      ]
     },
     "execution_count": 34,
     "metadata": {},
     "output_type": "execute_result"
    }
   ],
   "source": [
    "Top_Batsmen=pd.DataFrame()\n",
    "Top_Batsmen['Name']=player[0:10]\n",
    "Top_Batsmen['Country']=country[0:10]\n",
    "Top_Batsmen['Rating']=rating[0:10]\n",
    "Top_Batsmen"
   ]
  },
  {
   "cell_type": "markdown",
   "metadata": {},
   "source": [
    "#### 5.3 Top 10 ODI bowlers along with the records of their team and rating"
   ]
  },
  {
   "cell_type": "code",
   "execution_count": 35,
   "metadata": {},
   "outputs": [
    {
     "data": {
      "text/plain": [
       "<Response [200]>"
      ]
     },
     "execution_count": 35,
     "metadata": {},
     "output_type": "execute_result"
    }
   ],
   "source": [
    "page=requests.get('https://www.icc-cricket.com/rankings/mens/player-rankings/odi/bowling')\n",
    "page"
   ]
  },
  {
   "cell_type": "code",
   "execution_count": 38,
   "metadata": {},
   "outputs": [],
   "source": [
    "soup=BeautifulSoup(page.content)"
   ]
  },
  {
   "cell_type": "code",
   "execution_count": 42,
   "metadata": {},
   "outputs": [],
   "source": [
    "player1=soup.find_all('div',class_='rankings-block__banner--name-large')\n",
    "player=[]\n",
    "for i in player1:\n",
    "    player.append(i.text.strip())\n",
    "player2=soup.find_all('td',class_='table-body__cell rankings-table__name name')\n",
    "for i in player2:\n",
    "    for j in i.find_all('a'):\n",
    "        player.append(j.text.strip())     "
   ]
  },
  {
   "cell_type": "code",
   "execution_count": 46,
   "metadata": {},
   "outputs": [],
   "source": [
    "country1=soup.find_all('div',class_='rankings-block__banner--nationality')\n",
    "country=[]\n",
    "for i in country1:\n",
    "    country.append(i.text.strip())\n",
    "country2=soup.find_all('span',class_='table-body__logo-text')\n",
    "for i in country2:\n",
    "    country.append(i.text.strip())"
   ]
  },
  {
   "cell_type": "code",
   "execution_count": 49,
   "metadata": {},
   "outputs": [],
   "source": [
    "rating1=soup.find_all('div',class_='rankings-block__banner--rating')\n",
    "rating=[]\n",
    "for i in rating1:\n",
    "    rating.append(i.text.strip())\n",
    "rating2=soup.find_all('td',class_='table-body__cell rating')\n",
    "for i in rating2:\n",
    "    rating.append(i.text.strip())\n"
   ]
  },
  {
   "cell_type": "code",
   "execution_count": 51,
   "metadata": {},
   "outputs": [
    {
     "data": {
      "text/html": [
       "<div>\n",
       "<style scoped>\n",
       "    .dataframe tbody tr th:only-of-type {\n",
       "        vertical-align: middle;\n",
       "    }\n",
       "\n",
       "    .dataframe tbody tr th {\n",
       "        vertical-align: top;\n",
       "    }\n",
       "\n",
       "    .dataframe thead th {\n",
       "        text-align: right;\n",
       "    }\n",
       "</style>\n",
       "<table border=\"1\" class=\"dataframe\">\n",
       "  <thead>\n",
       "    <tr style=\"text-align: right;\">\n",
       "      <th></th>\n",
       "      <th>Name</th>\n",
       "      <th>Country</th>\n",
       "      <th>Rating</th>\n",
       "    </tr>\n",
       "  </thead>\n",
       "  <tbody>\n",
       "    <tr>\n",
       "      <th>0</th>\n",
       "      <td>Trent Boult</td>\n",
       "      <td>NZ</td>\n",
       "      <td>737</td>\n",
       "    </tr>\n",
       "    <tr>\n",
       "      <th>1</th>\n",
       "      <td>Mujeeb Ur Rahman</td>\n",
       "      <td>AFG</td>\n",
       "      <td>708</td>\n",
       "    </tr>\n",
       "    <tr>\n",
       "      <th>2</th>\n",
       "      <td>Matt Henry</td>\n",
       "      <td>NZ</td>\n",
       "      <td>691</td>\n",
       "    </tr>\n",
       "    <tr>\n",
       "      <th>3</th>\n",
       "      <td>Jasprit Bumrah</td>\n",
       "      <td>IND</td>\n",
       "      <td>690</td>\n",
       "    </tr>\n",
       "    <tr>\n",
       "      <th>4</th>\n",
       "      <td>Mehedi Hasan</td>\n",
       "      <td>BAN</td>\n",
       "      <td>668</td>\n",
       "    </tr>\n",
       "    <tr>\n",
       "      <th>5</th>\n",
       "      <td>Kagiso Rabada</td>\n",
       "      <td>SA</td>\n",
       "      <td>666</td>\n",
       "    </tr>\n",
       "    <tr>\n",
       "      <th>6</th>\n",
       "      <td>Chris Woakes</td>\n",
       "      <td>ENG</td>\n",
       "      <td>665</td>\n",
       "    </tr>\n",
       "    <tr>\n",
       "      <th>7</th>\n",
       "      <td>Josh Hazlewood</td>\n",
       "      <td>AUS</td>\n",
       "      <td>660</td>\n",
       "    </tr>\n",
       "    <tr>\n",
       "      <th>8</th>\n",
       "      <td>Pat Cummins</td>\n",
       "      <td>AUS</td>\n",
       "      <td>646</td>\n",
       "    </tr>\n",
       "    <tr>\n",
       "      <th>9</th>\n",
       "      <td>Mohammad Amir</td>\n",
       "      <td>PAK</td>\n",
       "      <td>638</td>\n",
       "    </tr>\n",
       "  </tbody>\n",
       "</table>\n",
       "</div>"
      ],
      "text/plain": [
       "               Name Country Rating\n",
       "0       Trent Boult      NZ    737\n",
       "1  Mujeeb Ur Rahman     AFG    708\n",
       "2        Matt Henry      NZ    691\n",
       "3    Jasprit Bumrah     IND    690\n",
       "4      Mehedi Hasan     BAN    668\n",
       "5     Kagiso Rabada      SA    666\n",
       "6      Chris Woakes     ENG    665\n",
       "7    Josh Hazlewood     AUS    660\n",
       "8       Pat Cummins     AUS    646\n",
       "9     Mohammad Amir     PAK    638"
      ]
     },
     "execution_count": 51,
     "metadata": {},
     "output_type": "execute_result"
    }
   ],
   "source": [
    "Top_Bowlers=pd.DataFrame()\n",
    "Top_Bowlers['Name']=player[0:10]\n",
    "Top_Bowlers['Country']=country[0:10]\n",
    "Top_Bowlers['Rating']=rating[0:10]\n",
    "Top_Bowlers"
   ]
  },
  {
   "cell_type": "markdown",
   "metadata": {},
   "source": [
    "#### 6.1 Top 10 ODI teams in women’s cricket along with the records for matches, points and rating."
   ]
  },
  {
   "cell_type": "code",
   "execution_count": 2,
   "metadata": {},
   "outputs": [
    {
     "data": {
      "text/plain": [
       "<Response [200]>"
      ]
     },
     "execution_count": 2,
     "metadata": {},
     "output_type": "execute_result"
    }
   ],
   "source": [
    "page=requests.get('https://www.icc-cricket.com/rankings/womens/team-rankings/odi')\n",
    "page"
   ]
  },
  {
   "cell_type": "code",
   "execution_count": 3,
   "metadata": {},
   "outputs": [],
   "source": [
    "soup=BeautifulSoup(page.content)"
   ]
  },
  {
   "cell_type": "code",
   "execution_count": 7,
   "metadata": {},
   "outputs": [],
   "source": [
    "top=soup.find_all('tr',class_='rankings-block__banner')"
   ]
  },
  {
   "cell_type": "code",
   "execution_count": 10,
   "metadata": {},
   "outputs": [],
   "source": [
    "team_ranking=[]\n",
    "for i in top:\n",
    "    name=i.find('span',class_='u-hide-phablet')\n",
    "    matches=i.find('td',class_='rankings-block__banner--matches')\n",
    "    points=i.find('td',class_='rankings-block__banner--points')\n",
    "    rating=i.find('td',class_='rankings-block__banner--rating u-text-right')\n",
    "    team_ranking.append((name.text.replace('\\n',''),matches.text.replace('\\n',''),points.text.replace('\\n',''),rating.text.strip()))\n"
   ]
  },
  {
   "cell_type": "code",
   "execution_count": 11,
   "metadata": {},
   "outputs": [],
   "source": [
    "odi=soup.find_all('tr',class_='table-body')"
   ]
  },
  {
   "cell_type": "code",
   "execution_count": 12,
   "metadata": {},
   "outputs": [],
   "source": [
    "for i in odi:\n",
    "    name=i.find('span',class_='u-hide-phablet')\n",
    "    matches=i.find('td',class_='table-body__cell u-center-text')\n",
    "    points=i.find('td',class_='table-body__cell u-center-text')\n",
    "    rating=i.find('td',class_='table-body__cell u-text-right rating')\n",
    "    team_ranking.append((name.text.replace('\\n',''),matches.text.replace('\\n',''),points.text.replace('\\n',''),rating.text.strip()))\n"
   ]
  },
  {
   "cell_type": "code",
   "execution_count": 13,
   "metadata": {},
   "outputs": [
    {
     "data": {
      "text/html": [
       "<div>\n",
       "<style scoped>\n",
       "    .dataframe tbody tr th:only-of-type {\n",
       "        vertical-align: middle;\n",
       "    }\n",
       "\n",
       "    .dataframe tbody tr th {\n",
       "        vertical-align: top;\n",
       "    }\n",
       "\n",
       "    .dataframe thead th {\n",
       "        text-align: right;\n",
       "    }\n",
       "</style>\n",
       "<table border=\"1\" class=\"dataframe\">\n",
       "  <thead>\n",
       "    <tr style=\"text-align: right;\">\n",
       "      <th></th>\n",
       "      <th>Team</th>\n",
       "      <th>Matches</th>\n",
       "      <th>Points</th>\n",
       "      <th>Rating</th>\n",
       "    </tr>\n",
       "  </thead>\n",
       "  <tbody>\n",
       "    <tr>\n",
       "      <th>0</th>\n",
       "      <td>Australia</td>\n",
       "      <td>18</td>\n",
       "      <td>2,955</td>\n",
       "      <td>164</td>\n",
       "    </tr>\n",
       "    <tr>\n",
       "      <th>1</th>\n",
       "      <td>South Africa</td>\n",
       "      <td>24</td>\n",
       "      <td>24</td>\n",
       "      <td>118</td>\n",
       "    </tr>\n",
       "    <tr>\n",
       "      <th>2</th>\n",
       "      <td>England</td>\n",
       "      <td>17</td>\n",
       "      <td>17</td>\n",
       "      <td>117</td>\n",
       "    </tr>\n",
       "    <tr>\n",
       "      <th>3</th>\n",
       "      <td>India</td>\n",
       "      <td>20</td>\n",
       "      <td>20</td>\n",
       "      <td>111</td>\n",
       "    </tr>\n",
       "    <tr>\n",
       "      <th>4</th>\n",
       "      <td>New Zealand</td>\n",
       "      <td>21</td>\n",
       "      <td>21</td>\n",
       "      <td>93</td>\n",
       "    </tr>\n",
       "    <tr>\n",
       "      <th>5</th>\n",
       "      <td>West Indies</td>\n",
       "      <td>12</td>\n",
       "      <td>12</td>\n",
       "      <td>85</td>\n",
       "    </tr>\n",
       "    <tr>\n",
       "      <th>6</th>\n",
       "      <td>Pakistan</td>\n",
       "      <td>15</td>\n",
       "      <td>15</td>\n",
       "      <td>73</td>\n",
       "    </tr>\n",
       "    <tr>\n",
       "      <th>7</th>\n",
       "      <td>Bangladesh</td>\n",
       "      <td>5</td>\n",
       "      <td>5</td>\n",
       "      <td>61</td>\n",
       "    </tr>\n",
       "    <tr>\n",
       "      <th>8</th>\n",
       "      <td>Sri Lanka</td>\n",
       "      <td>11</td>\n",
       "      <td>11</td>\n",
       "      <td>47</td>\n",
       "    </tr>\n",
       "    <tr>\n",
       "      <th>9</th>\n",
       "      <td>Ireland</td>\n",
       "      <td>2</td>\n",
       "      <td>2</td>\n",
       "      <td>13</td>\n",
       "    </tr>\n",
       "  </tbody>\n",
       "</table>\n",
       "</div>"
      ],
      "text/plain": [
       "           Team Matches Points Rating\n",
       "0     Australia      18  2,955    164\n",
       "1  South Africa      24     24    118\n",
       "2       England      17     17    117\n",
       "3         India      20     20    111\n",
       "4   New Zealand      21     21     93\n",
       "5   West Indies      12     12     85\n",
       "6      Pakistan      15     15     73\n",
       "7    Bangladesh       5      5     61\n",
       "8     Sri Lanka      11     11     47\n",
       "9       Ireland       2      2     13"
      ]
     },
     "execution_count": 13,
     "metadata": {},
     "output_type": "execute_result"
    }
   ],
   "source": [
    "df=pd.DataFrame(team_ranking[0:10])\n",
    "df.columns=['Team','Matches','Points','Rating']\n",
    "df"
   ]
  },
  {
   "cell_type": "markdown",
   "metadata": {},
   "source": [
    "#### 6.2 Top 10 women’s ODI players along with the records of their team and rating. "
   ]
  },
  {
   "cell_type": "code",
   "execution_count": 14,
   "metadata": {},
   "outputs": [
    {
     "data": {
      "text/plain": [
       "<Response [200]>"
      ]
     },
     "execution_count": 14,
     "metadata": {},
     "output_type": "execute_result"
    }
   ],
   "source": [
    "page=requests.get('https://www.icc-cricket.com/rankings/womens/player-rankings/odi/batting')\n",
    "page"
   ]
  },
  {
   "cell_type": "code",
   "execution_count": 15,
   "metadata": {},
   "outputs": [],
   "source": [
    "soup=BeautifulSoup(page.content)"
   ]
  },
  {
   "cell_type": "code",
   "execution_count": 16,
   "metadata": {},
   "outputs": [],
   "source": [
    "player1=soup.find_all('div',class_='rankings-block__banner--name-large')\n",
    "player=[]\n",
    "for i in player1:\n",
    "    player.append(i.text)  \n",
    "    \n",
    "player2=soup.find_all('td',class_='table-body__cell rankings-table__name name')\n",
    "for i in player2:\n",
    "    for j in i.find_all('a'):\n",
    "        player.append(j.text.strip())    "
   ]
  },
  {
   "cell_type": "code",
   "execution_count": 17,
   "metadata": {},
   "outputs": [],
   "source": [
    "country1=soup.find_all('div',class_='rankings-block__banner--nationality')\n",
    "country=[]\n",
    "for i in country1:\n",
    "    country.append(i.text.strip())\n",
    "country2=soup.find_all('span',class_='table-body__logo-text')\n",
    "for i in country2:\n",
    "    country.append(i.text.strip())"
   ]
  },
  {
   "cell_type": "code",
   "execution_count": 18,
   "metadata": {},
   "outputs": [],
   "source": [
    "rating1=soup.find_all('div',class_='rankings-block__banner--rating')\n",
    "rating=[]\n",
    "for i in rating1:\n",
    "    rating.append(i.text.strip())\n",
    "rating2=soup.find_all('td',class_='table-body__cell rating')\n",
    "for i in rating2:\n",
    "    rating.append(i.text.strip())"
   ]
  },
  {
   "cell_type": "code",
   "execution_count": 20,
   "metadata": {},
   "outputs": [
    {
     "data": {
      "text/html": [
       "<div>\n",
       "<style scoped>\n",
       "    .dataframe tbody tr th:only-of-type {\n",
       "        vertical-align: middle;\n",
       "    }\n",
       "\n",
       "    .dataframe tbody tr th {\n",
       "        vertical-align: top;\n",
       "    }\n",
       "\n",
       "    .dataframe thead th {\n",
       "        text-align: right;\n",
       "    }\n",
       "</style>\n",
       "<table border=\"1\" class=\"dataframe\">\n",
       "  <thead>\n",
       "    <tr style=\"text-align: right;\">\n",
       "      <th></th>\n",
       "      <th>Name</th>\n",
       "      <th>Country</th>\n",
       "      <th>Rating</th>\n",
       "    </tr>\n",
       "  </thead>\n",
       "  <tbody>\n",
       "    <tr>\n",
       "      <th>0</th>\n",
       "      <td>Tammy Beaumont</td>\n",
       "      <td>ENG</td>\n",
       "      <td>765</td>\n",
       "    </tr>\n",
       "    <tr>\n",
       "      <th>1</th>\n",
       "      <td>Lizelle Lee</td>\n",
       "      <td>SA</td>\n",
       "      <td>758</td>\n",
       "    </tr>\n",
       "    <tr>\n",
       "      <th>2</th>\n",
       "      <td>Alyssa Healy</td>\n",
       "      <td>AUS</td>\n",
       "      <td>756</td>\n",
       "    </tr>\n",
       "    <tr>\n",
       "      <th>3</th>\n",
       "      <td>Stafanie Taylor</td>\n",
       "      <td>WI</td>\n",
       "      <td>746</td>\n",
       "    </tr>\n",
       "    <tr>\n",
       "      <th>4</th>\n",
       "      <td>Meg Lanning</td>\n",
       "      <td>AUS</td>\n",
       "      <td>723</td>\n",
       "    </tr>\n",
       "    <tr>\n",
       "      <th>5</th>\n",
       "      <td>Amy Satterthwaite</td>\n",
       "      <td>NZ</td>\n",
       "      <td>715</td>\n",
       "    </tr>\n",
       "    <tr>\n",
       "      <th>6</th>\n",
       "      <td>Smriti Mandhana</td>\n",
       "      <td>IND</td>\n",
       "      <td>710</td>\n",
       "    </tr>\n",
       "    <tr>\n",
       "      <th>7</th>\n",
       "      <td>Mithali Raj</td>\n",
       "      <td>IND</td>\n",
       "      <td>709</td>\n",
       "    </tr>\n",
       "    <tr>\n",
       "      <th>8</th>\n",
       "      <td>Natalie Sciver</td>\n",
       "      <td>ENG</td>\n",
       "      <td>685</td>\n",
       "    </tr>\n",
       "    <tr>\n",
       "      <th>9</th>\n",
       "      <td>Laura Wolvaardt</td>\n",
       "      <td>SA</td>\n",
       "      <td>683</td>\n",
       "    </tr>\n",
       "  </tbody>\n",
       "</table>\n",
       "</div>"
      ],
      "text/plain": [
       "                Name Country Rating\n",
       "0     Tammy Beaumont     ENG    765\n",
       "1        Lizelle Lee      SA    758\n",
       "2       Alyssa Healy     AUS    756\n",
       "3    Stafanie Taylor      WI    746\n",
       "4        Meg Lanning     AUS    723\n",
       "5  Amy Satterthwaite      NZ    715\n",
       "6    Smriti Mandhana     IND    710\n",
       "7        Mithali Raj     IND    709\n",
       "8     Natalie Sciver     ENG    685\n",
       "9    Laura Wolvaardt      SA    683"
      ]
     },
     "execution_count": 20,
     "metadata": {},
     "output_type": "execute_result"
    }
   ],
   "source": [
    "Top_Player=pd.DataFrame()\n",
    "Top_Player['Name']=player[0:10]\n",
    "Top_Player['Country']=country[0:10]\n",
    "Top_Player['Rating']=rating[0:10]\n",
    "Top_Player"
   ]
  },
  {
   "cell_type": "markdown",
   "metadata": {},
   "source": [
    "#### 6.3 Top 10 women’s ODI all-rounder along with the records of their team and rating. "
   ]
  },
  {
   "cell_type": "code",
   "execution_count": 21,
   "metadata": {},
   "outputs": [
    {
     "data": {
      "text/plain": [
       "<Response [200]>"
      ]
     },
     "execution_count": 21,
     "metadata": {},
     "output_type": "execute_result"
    }
   ],
   "source": [
    "page=requests.get('https://www.icc-cricket.com/rankings/womens/player-rankings/odi/all-rounder')\n",
    "page"
   ]
  },
  {
   "cell_type": "code",
   "execution_count": 22,
   "metadata": {},
   "outputs": [],
   "source": [
    "soup=BeautifulSoup(page.content)"
   ]
  },
  {
   "cell_type": "code",
   "execution_count": 23,
   "metadata": {},
   "outputs": [],
   "source": [
    "player1=soup.find_all('div',class_='rankings-block__banner--name-large')\n",
    "player=[]\n",
    "for i in player1:\n",
    "    player.append(i.text)  \n",
    "    \n",
    "player2=soup.find_all('td',class_='table-body__cell rankings-table__name name')\n",
    "for i in player2:\n",
    "    for j in i.find_all('a'):\n",
    "        player.append(j.text.strip())    "
   ]
  },
  {
   "cell_type": "code",
   "execution_count": 24,
   "metadata": {},
   "outputs": [],
   "source": [
    "country1=soup.find_all('div',class_='rankings-block__banner--nationality')\n",
    "country=[]\n",
    "for i in country1:\n",
    "    country.append(i.text.strip())\n",
    "country2=soup.find_all('span',class_='table-body__logo-text')\n",
    "for i in country2:\n",
    "    country.append(i.text.strip())"
   ]
  },
  {
   "cell_type": "code",
   "execution_count": 25,
   "metadata": {},
   "outputs": [],
   "source": [
    "rating1=soup.find_all('div',class_='rankings-block__banner--rating')\n",
    "rating=[]\n",
    "for i in rating1:\n",
    "    rating.append(i.text.strip())\n",
    "rating2=soup.find_all('td',class_='table-body__cell rating')\n",
    "for i in rating2:\n",
    "    rating.append(i.text.strip())"
   ]
  },
  {
   "cell_type": "code",
   "execution_count": 26,
   "metadata": {},
   "outputs": [
    {
     "data": {
      "text/html": [
       "<div>\n",
       "<style scoped>\n",
       "    .dataframe tbody tr th:only-of-type {\n",
       "        vertical-align: middle;\n",
       "    }\n",
       "\n",
       "    .dataframe tbody tr th {\n",
       "        vertical-align: top;\n",
       "    }\n",
       "\n",
       "    .dataframe thead th {\n",
       "        text-align: right;\n",
       "    }\n",
       "</style>\n",
       "<table border=\"1\" class=\"dataframe\">\n",
       "  <thead>\n",
       "    <tr style=\"text-align: right;\">\n",
       "      <th></th>\n",
       "      <th>Name</th>\n",
       "      <th>Country</th>\n",
       "      <th>Rating</th>\n",
       "    </tr>\n",
       "  </thead>\n",
       "  <tbody>\n",
       "    <tr>\n",
       "      <th>0</th>\n",
       "      <td>Marizanne Kapp</td>\n",
       "      <td>SA</td>\n",
       "      <td>418</td>\n",
       "    </tr>\n",
       "    <tr>\n",
       "      <th>1</th>\n",
       "      <td>Ellyse Perry</td>\n",
       "      <td>AUS</td>\n",
       "      <td>418</td>\n",
       "    </tr>\n",
       "    <tr>\n",
       "      <th>2</th>\n",
       "      <td>Stafanie Taylor</td>\n",
       "      <td>WI</td>\n",
       "      <td>410</td>\n",
       "    </tr>\n",
       "    <tr>\n",
       "      <th>3</th>\n",
       "      <td>Natalie Sciver</td>\n",
       "      <td>ENG</td>\n",
       "      <td>349</td>\n",
       "    </tr>\n",
       "    <tr>\n",
       "      <th>4</th>\n",
       "      <td>Deepti Sharma</td>\n",
       "      <td>IND</td>\n",
       "      <td>343</td>\n",
       "    </tr>\n",
       "    <tr>\n",
       "      <th>5</th>\n",
       "      <td>Jess Jonassen</td>\n",
       "      <td>AUS</td>\n",
       "      <td>307</td>\n",
       "    </tr>\n",
       "    <tr>\n",
       "      <th>6</th>\n",
       "      <td>Ashleigh Gardner</td>\n",
       "      <td>AUS</td>\n",
       "      <td>252</td>\n",
       "    </tr>\n",
       "    <tr>\n",
       "      <th>7</th>\n",
       "      <td>Dane van Niekerk</td>\n",
       "      <td>SA</td>\n",
       "      <td>243</td>\n",
       "    </tr>\n",
       "    <tr>\n",
       "      <th>8</th>\n",
       "      <td>Sophie Devine</td>\n",
       "      <td>NZ</td>\n",
       "      <td>242</td>\n",
       "    </tr>\n",
       "    <tr>\n",
       "      <th>9</th>\n",
       "      <td>Amelia Kerr</td>\n",
       "      <td>NZ</td>\n",
       "      <td>236</td>\n",
       "    </tr>\n",
       "  </tbody>\n",
       "</table>\n",
       "</div>"
      ],
      "text/plain": [
       "               Name Country Rating\n",
       "0    Marizanne Kapp      SA    418\n",
       "1      Ellyse Perry     AUS    418\n",
       "2   Stafanie Taylor      WI    410\n",
       "3    Natalie Sciver     ENG    349\n",
       "4     Deepti Sharma     IND    343\n",
       "5     Jess Jonassen     AUS    307\n",
       "6  Ashleigh Gardner     AUS    252\n",
       "7  Dane van Niekerk      SA    243\n",
       "8     Sophie Devine      NZ    242\n",
       "9       Amelia Kerr      NZ    236"
      ]
     },
     "execution_count": 26,
     "metadata": {},
     "output_type": "execute_result"
    }
   ],
   "source": [
    "Top_AllRounder=pd.DataFrame()\n",
    "Top_AllRounder['Name']=player[0:10]\n",
    "Top_AllRounder['Country']=country[0:10]\n",
    "Top_AllRounder['Rating']=rating[0:10]\n",
    "Top_AllRounder"
   ]
  },
  {
   "cell_type": "markdown",
   "metadata": {},
   "source": [
    "#### 7. Write a python program to scrape details of all the mobile phones under Rs. 20,000 listed on Amazon.in. The scraped data should include Product Name, Price, Image URL and Average Rating. "
   ]
  },
  {
   "cell_type": "code",
   "execution_count": 35,
   "metadata": {},
   "outputs": [],
   "source": [
    "headers = {\n",
    "    'User-Agent': 'Mozilla/5.0 (Windows NT 6.1) AppleWebKit/537.36 (KHTML, like Gecko) Chrome/41.0.2228.0 Safari/537.36'\n",
    "}"
   ]
  },
  {
   "cell_type": "code",
   "execution_count": 36,
   "metadata": {},
   "outputs": [
    {
     "data": {
      "text/plain": [
       "<Response [200]>"
      ]
     },
     "execution_count": 36,
     "metadata": {},
     "output_type": "execute_result"
    }
   ],
   "source": [
    "page=requests.get('https://www.amazon.in/s?bbn=1389401031&rh=n%3A1389401031%2Cp_36%3A1318506031&dc&qid=1622441062&rnid=1318502031&ref=lp_1389401031_nr_p_36_3',headers=headers)\n",
    "page"
   ]
  },
  {
   "cell_type": "code",
   "execution_count": 37,
   "metadata": {},
   "outputs": [],
   "source": [
    "soup=BeautifulSoup(page.content)"
   ]
  },
  {
   "cell_type": "code",
   "execution_count": 44,
   "metadata": {},
   "outputs": [],
   "source": [
    "name=soup.find_all('a', class_='a-link-normal a-text-normal')\n",
    "Mobile=[]\n",
    "for i in name:\n",
    "    Mobile.append(i.text.strip())\n",
    "price=soup.find_all('span',class_='a-price-whole')\n",
    "Price=[]\n",
    "for i in price:\n",
    "    Price.append(i.text.strip())\n",
    "rating=soup.find_all('span',class_='a-icon-alt')\n",
    "Rating=[]\n",
    "for i in rating:\n",
    "    Rating.append(i.text.strip())\n",
    "image=soup.find_all('img',class_='s-image')\n",
    "url=[]\n",
    "for i in image:\n",
    "    url.append(i.get('srcset'))"
   ]
  },
  {
   "cell_type": "code",
   "execution_count": 50,
   "metadata": {},
   "outputs": [
    {
     "data": {
      "text/html": [
       "<div>\n",
       "<style scoped>\n",
       "    .dataframe tbody tr th:only-of-type {\n",
       "        vertical-align: middle;\n",
       "    }\n",
       "\n",
       "    .dataframe tbody tr th {\n",
       "        vertical-align: top;\n",
       "    }\n",
       "\n",
       "    .dataframe thead th {\n",
       "        text-align: right;\n",
       "    }\n",
       "</style>\n",
       "<table border=\"1\" class=\"dataframe\">\n",
       "  <thead>\n",
       "    <tr style=\"text-align: right;\">\n",
       "      <th></th>\n",
       "      <th>Mobile</th>\n",
       "      <th>Price</th>\n",
       "      <th>Rating</th>\n",
       "      <th>Image</th>\n",
       "    </tr>\n",
       "  </thead>\n",
       "  <tbody>\n",
       "    <tr>\n",
       "      <th>0</th>\n",
       "      <td>Redmi Note 10 (Aqua Green, 4GB RAM, 64GB Storage)</td>\n",
       "      <td>12,499</td>\n",
       "      <td>4.0 out of 5 stars</td>\n",
       "      <td>https://m.media-amazon.com/images/I/71OGzLCrjZ...</td>\n",
       "    </tr>\n",
       "    <tr>\n",
       "      <th>1</th>\n",
       "      <td>Redmi Note 10 (Shadow Black, 4GB RAM, 64GB Sto...</td>\n",
       "      <td>12,499</td>\n",
       "      <td>4.0 out of 5 stars</td>\n",
       "      <td>https://m.media-amazon.com/images/I/71QY6JV6Fh...</td>\n",
       "    </tr>\n",
       "    <tr>\n",
       "      <th>2</th>\n",
       "      <td>Redmi Note 9 (Arctic White, 4GB RAM, 64GB Stor...</td>\n",
       "      <td>10,999</td>\n",
       "      <td>4.3 out of 5 stars</td>\n",
       "      <td>https://m.media-amazon.com/images/I/71X5I1cVfb...</td>\n",
       "    </tr>\n",
       "    <tr>\n",
       "      <th>3</th>\n",
       "      <td>Redmi Note 10 (Aqua Green, 6GB RAM, 128GB Stor...</td>\n",
       "      <td>14,499</td>\n",
       "      <td>4.0 out of 5 stars</td>\n",
       "      <td>https://m.media-amazon.com/images/I/71-BcSc9rh...</td>\n",
       "    </tr>\n",
       "    <tr>\n",
       "      <th>4</th>\n",
       "      <td>Redmi Note 9 (Pebble Grey, 4GB RAM 64GB Storag...</td>\n",
       "      <td>10,999</td>\n",
       "      <td>4.3 out of 5 stars</td>\n",
       "      <td>https://m.media-amazon.com/images/I/71X5I1cVfb...</td>\n",
       "    </tr>\n",
       "    <tr>\n",
       "      <th>5</th>\n",
       "      <td>Redmi Note 10 (Shadow Black, 6GB RAM, 128GB St...</td>\n",
       "      <td>14,499</td>\n",
       "      <td>4.0 out of 5 stars</td>\n",
       "      <td>https://m.media-amazon.com/images/I/715t-uJnjM...</td>\n",
       "    </tr>\n",
       "    <tr>\n",
       "      <th>6</th>\n",
       "      <td>Samsung Galaxy M31 (Ocean Blue, 6GB RAM, 128GB...</td>\n",
       "      <td>14,999</td>\n",
       "      <td>4.3 out of 5 stars</td>\n",
       "      <td>https://m.media-amazon.com/images/I/71-Su4Wr0H...</td>\n",
       "    </tr>\n",
       "    <tr>\n",
       "      <th>7</th>\n",
       "      <td>Oppo A31 (Fantasy White, 6GB RAM, 128GB Storag...</td>\n",
       "      <td>10,990</td>\n",
       "      <td>4.2 out of 5 stars</td>\n",
       "      <td>https://m.media-amazon.com/images/I/61IhTtJUXJ...</td>\n",
       "    </tr>\n",
       "    <tr>\n",
       "      <th>8</th>\n",
       "      <td>Redmi 9 Power (Blazing Blue, 4GB RAM, 64GB Sto...</td>\n",
       "      <td>10,499</td>\n",
       "      <td>4.2 out of 5 stars</td>\n",
       "      <td>https://m.media-amazon.com/images/I/71hEzQGO5q...</td>\n",
       "    </tr>\n",
       "    <tr>\n",
       "      <th>9</th>\n",
       "      <td>Oppo A31 (Mystery Black, 6GB RAM, 128GB Storag...</td>\n",
       "      <td>10,990</td>\n",
       "      <td>4.2 out of 5 stars</td>\n",
       "      <td>https://m.media-amazon.com/images/I/71KCwNV6Mu...</td>\n",
       "    </tr>\n",
       "  </tbody>\n",
       "</table>\n",
       "</div>"
      ],
      "text/plain": [
       "                                              Mobile   Price  \\\n",
       "0  Redmi Note 10 (Aqua Green, 4GB RAM, 64GB Storage)  12,499   \n",
       "1  Redmi Note 10 (Shadow Black, 4GB RAM, 64GB Sto...  12,499   \n",
       "2  Redmi Note 9 (Arctic White, 4GB RAM, 64GB Stor...  10,999   \n",
       "3  Redmi Note 10 (Aqua Green, 6GB RAM, 128GB Stor...  14,499   \n",
       "4  Redmi Note 9 (Pebble Grey, 4GB RAM 64GB Storag...  10,999   \n",
       "5  Redmi Note 10 (Shadow Black, 6GB RAM, 128GB St...  14,499   \n",
       "6  Samsung Galaxy M31 (Ocean Blue, 6GB RAM, 128GB...  14,999   \n",
       "7  Oppo A31 (Fantasy White, 6GB RAM, 128GB Storag...  10,990   \n",
       "8  Redmi 9 Power (Blazing Blue, 4GB RAM, 64GB Sto...  10,499   \n",
       "9  Oppo A31 (Mystery Black, 6GB RAM, 128GB Storag...  10,990   \n",
       "\n",
       "               Rating                                              Image  \n",
       "0  4.0 out of 5 stars  https://m.media-amazon.com/images/I/71OGzLCrjZ...  \n",
       "1  4.0 out of 5 stars  https://m.media-amazon.com/images/I/71QY6JV6Fh...  \n",
       "2  4.3 out of 5 stars  https://m.media-amazon.com/images/I/71X5I1cVfb...  \n",
       "3  4.0 out of 5 stars  https://m.media-amazon.com/images/I/71-BcSc9rh...  \n",
       "4  4.3 out of 5 stars  https://m.media-amazon.com/images/I/71X5I1cVfb...  \n",
       "5  4.0 out of 5 stars  https://m.media-amazon.com/images/I/715t-uJnjM...  \n",
       "6  4.3 out of 5 stars  https://m.media-amazon.com/images/I/71-Su4Wr0H...  \n",
       "7  4.2 out of 5 stars  https://m.media-amazon.com/images/I/61IhTtJUXJ...  \n",
       "8  4.2 out of 5 stars  https://m.media-amazon.com/images/I/71hEzQGO5q...  \n",
       "9  4.2 out of 5 stars  https://m.media-amazon.com/images/I/71KCwNV6Mu...  "
      ]
     },
     "execution_count": 50,
     "metadata": {},
     "output_type": "execute_result"
    }
   ],
   "source": [
    "Amazon_Mobile=pd.DataFrame()\n",
    "Amazon_Mobile['Mobile']=Mobile[0:10]\n",
    "Amazon_Mobile['Price']=Price[0:10]\n",
    "Amazon_Mobile['Rating']=Rating[0:10]\n",
    "Amazon_Mobile['Image']=url[0:10]\n",
    "Amazon_Mobile"
   ]
  },
  {
   "cell_type": "markdown",
   "metadata": {},
   "source": [
    "#### 8. Write a python program to extract information about the local weather from the National Weather Service website of USA, https://www.weather.gov/ for the city, San Francisco. You need to extract data about 7 day extended forecast display for the city. The data should include period, short description, temperature and description. "
   ]
  },
  {
   "cell_type": "code",
   "execution_count": 56,
   "metadata": {},
   "outputs": [
    {
     "data": {
      "text/plain": [
       "<Response [200]>"
      ]
     },
     "execution_count": 56,
     "metadata": {},
     "output_type": "execute_result"
    }
   ],
   "source": [
    "page=requests.get('https://weather.com/en-IN/weather/tenday/l/69bedc6a5b6e977993fb3e5344e3c06d8bc36a1fb6754c3ddfb5310a3c6d6c87')\n",
    "page"
   ]
  },
  {
   "cell_type": "code",
   "execution_count": 57,
   "metadata": {},
   "outputs": [],
   "source": [
    "soup=BeautifulSoup(page.content)"
   ]
  },
  {
   "cell_type": "code",
   "execution_count": 66,
   "metadata": {},
   "outputs": [],
   "source": [
    "Period=soup.find_all('h2',class_='DetailsSummary--daypartName--1Mebr')\n",
    "Day=[]\n",
    "for i in Period:\n",
    "    Day.append(i.text.strip())\n",
    "\n",
    "Desc=soup.find_all('span',class_='DetailsSummary--extendedData--aaFeV')    \n",
    "Description=[]\n",
    "for i in Desc:\n",
    "    Description.append(i.text.strip())\n",
    "\n",
    "Temp=soup.find_all('div',class_='DetailsSummary--temperature--3FMlw') \n",
    "Temperature=[]\n",
    "for i in Temp:\n",
    "    Temperature.append(i.text.strip())\n",
    "    \n",
    "    \n"
   ]
  },
  {
   "cell_type": "code",
   "execution_count": 67,
   "metadata": {},
   "outputs": [
    {
     "data": {
      "text/html": [
       "<div>\n",
       "<style scoped>\n",
       "    .dataframe tbody tr th:only-of-type {\n",
       "        vertical-align: middle;\n",
       "    }\n",
       "\n",
       "    .dataframe tbody tr th {\n",
       "        vertical-align: top;\n",
       "    }\n",
       "\n",
       "    .dataframe thead th {\n",
       "        text-align: right;\n",
       "    }\n",
       "</style>\n",
       "<table border=\"1\" class=\"dataframe\">\n",
       "  <thead>\n",
       "    <tr style=\"text-align: right;\">\n",
       "      <th></th>\n",
       "      <th>Day</th>\n",
       "      <th>Description</th>\n",
       "      <th>Temperature</th>\n",
       "    </tr>\n",
       "  </thead>\n",
       "  <tbody>\n",
       "    <tr>\n",
       "      <th>0</th>\n",
       "      <td>Mon 31</td>\n",
       "      <td>Sunny</td>\n",
       "      <td>19°/11°</td>\n",
       "    </tr>\n",
       "    <tr>\n",
       "      <th>1</th>\n",
       "      <td>Tue 01</td>\n",
       "      <td>Partly Cloudy</td>\n",
       "      <td>14°/10°</td>\n",
       "    </tr>\n",
       "    <tr>\n",
       "      <th>2</th>\n",
       "      <td>Wed 02</td>\n",
       "      <td>AM Clouds / PM Sun</td>\n",
       "      <td>14°/10°</td>\n",
       "    </tr>\n",
       "    <tr>\n",
       "      <th>3</th>\n",
       "      <td>Thu 03</td>\n",
       "      <td>Partly Cloudy</td>\n",
       "      <td>15°/10°</td>\n",
       "    </tr>\n",
       "    <tr>\n",
       "      <th>4</th>\n",
       "      <td>Fri 04</td>\n",
       "      <td>Partly Cloudy</td>\n",
       "      <td>16°/10°</td>\n",
       "    </tr>\n",
       "    <tr>\n",
       "      <th>5</th>\n",
       "      <td>Sat 05</td>\n",
       "      <td>Sunny</td>\n",
       "      <td>17°/10°</td>\n",
       "    </tr>\n",
       "  </tbody>\n",
       "</table>\n",
       "</div>"
      ],
      "text/plain": [
       "      Day         Description Temperature\n",
       "0  Mon 31               Sunny     19°/11°\n",
       "1  Tue 01       Partly Cloudy     14°/10°\n",
       "2  Wed 02  AM Clouds / PM Sun     14°/10°\n",
       "3  Thu 03       Partly Cloudy     15°/10°\n",
       "4  Fri 04       Partly Cloudy     16°/10°\n",
       "5  Sat 05               Sunny     17°/10°"
      ]
     },
     "execution_count": 67,
     "metadata": {},
     "output_type": "execute_result"
    }
   ],
   "source": [
    "Forecast=pd.DataFrame()\n",
    "Forecast['Day']=Day[1:7]\n",
    "Forecast['Description']=Description[1:7]\n",
    "Forecast['Temperature']=Temperature[1:7]\n",
    "\n",
    "Forecast"
   ]
  },
  {
   "cell_type": "markdown",
   "metadata": {},
   "source": [
    "#### 9.  Write a python program to scrape fresher job listings from ‘https://internshala.com/’. It should include job title, company name, CTC, and apply date"
   ]
  },
  {
   "cell_type": "code",
   "execution_count": 80,
   "metadata": {},
   "outputs": [
    {
     "data": {
      "text/plain": [
       "<Response [200]>"
      ]
     },
     "execution_count": 80,
     "metadata": {},
     "output_type": "execute_result"
    }
   ],
   "source": [
    "page=requests.get('https://internshala.com/fresher-jobs')\n",
    "page"
   ]
  },
  {
   "cell_type": "code",
   "execution_count": 81,
   "metadata": {},
   "outputs": [],
   "source": [
    "soup=BeautifulSoup(page.content)"
   ]
  },
  {
   "cell_type": "code",
   "execution_count": 88,
   "metadata": {},
   "outputs": [],
   "source": [
    "title=soup.find_all('div',class_='heading_4_5 profile')\n",
    "Position=[]\n",
    "for i in title:\n",
    "    Position.append(i.text.strip())\n",
    "    \n",
    "comp=soup.find_all('div',class_='heading_6 company_name')\n",
    "Company=[]\n",
    "for i in comp:\n",
    "    Company.append(i.text.strip())\n",
    "    \n",
    "Ctc=soup.find_all('div',class_='item_body')\n",
    "Salary=[]\n",
    "Date=[]\n",
    "temp=[]\n",
    "for i in Ctc:\n",
    "    temp.append(i.text.strip())\n",
    "for i in temp:\n",
    "    if 'LPA' in i:\n",
    "        Salary.append(i)\n",
    "    elif '21' in i:\n",
    "        Date.append(i)\n",
    "        "
   ]
  },
  {
   "cell_type": "code",
   "execution_count": 89,
   "metadata": {},
   "outputs": [
    {
     "data": {
      "text/html": [
       "<div>\n",
       "<style scoped>\n",
       "    .dataframe tbody tr th:only-of-type {\n",
       "        vertical-align: middle;\n",
       "    }\n",
       "\n",
       "    .dataframe tbody tr th {\n",
       "        vertical-align: top;\n",
       "    }\n",
       "\n",
       "    .dataframe thead th {\n",
       "        text-align: right;\n",
       "    }\n",
       "</style>\n",
       "<table border=\"1\" class=\"dataframe\">\n",
       "  <thead>\n",
       "    <tr style=\"text-align: right;\">\n",
       "      <th></th>\n",
       "      <th>Position</th>\n",
       "      <th>Company</th>\n",
       "      <th>Salary</th>\n",
       "      <th>Date</th>\n",
       "    </tr>\n",
       "  </thead>\n",
       "  <tbody>\n",
       "    <tr>\n",
       "      <th>0</th>\n",
       "      <td>Food Journalist</td>\n",
       "      <td>Truffle Nation</td>\n",
       "      <td>3 - 4.5 LPA</td>\n",
       "      <td>30 Jun' 21</td>\n",
       "    </tr>\n",
       "    <tr>\n",
       "      <th>1</th>\n",
       "      <td>Junior Software Developer</td>\n",
       "      <td>Habitate Technologies Private Limited</td>\n",
       "      <td>5.2 - 7 LPA</td>\n",
       "      <td>30 Jun' 21</td>\n",
       "    </tr>\n",
       "    <tr>\n",
       "      <th>2</th>\n",
       "      <td>Full Stack Developer</td>\n",
       "      <td>SoluLab</td>\n",
       "      <td>3 - 5 LPA</td>\n",
       "      <td>28 Jun' 21</td>\n",
       "    </tr>\n",
       "    <tr>\n",
       "      <th>3</th>\n",
       "      <td>Business Analyst</td>\n",
       "      <td>SoluLab</td>\n",
       "      <td>3 - 4.2 LPA</td>\n",
       "      <td>28 Jun' 21</td>\n",
       "    </tr>\n",
       "    <tr>\n",
       "      <th>4</th>\n",
       "      <td>Associate Full Stack Developer</td>\n",
       "      <td>REPOZITORY TECHNOLOGIES PRIVATE LIMITED</td>\n",
       "      <td>3 - 3.6 LPA</td>\n",
       "      <td>28 Jun' 21</td>\n",
       "    </tr>\n",
       "    <tr>\n",
       "      <th>5</th>\n",
       "      <td>Full Stack Engineer</td>\n",
       "      <td>Beehive Academy India</td>\n",
       "      <td>4.2 - 8.2 LPA</td>\n",
       "      <td>28 Jun' 21</td>\n",
       "    </tr>\n",
       "    <tr>\n",
       "      <th>6</th>\n",
       "      <td>Product Marketer</td>\n",
       "      <td>Bip</td>\n",
       "      <td>3 - 6 LPA</td>\n",
       "      <td>27 Jun' 21</td>\n",
       "    </tr>\n",
       "    <tr>\n",
       "      <th>7</th>\n",
       "      <td>Business Development Executive</td>\n",
       "      <td>Tabeazy</td>\n",
       "      <td>3 LPA</td>\n",
       "      <td>27 Jun' 21</td>\n",
       "    </tr>\n",
       "    <tr>\n",
       "      <th>8</th>\n",
       "      <td>Associate - Business Development</td>\n",
       "      <td>Leverage Edu</td>\n",
       "      <td>3.6 LPA</td>\n",
       "      <td>27 Jun' 21</td>\n",
       "    </tr>\n",
       "    <tr>\n",
       "      <th>9</th>\n",
       "      <td>Research Analyst (Economics)</td>\n",
       "      <td>DEX-DEFT Research And Consulting OPC Private L...</td>\n",
       "      <td>3 LPA</td>\n",
       "      <td>27 Jun' 21</td>\n",
       "    </tr>\n",
       "  </tbody>\n",
       "</table>\n",
       "</div>"
      ],
      "text/plain": [
       "                           Position  \\\n",
       "0                   Food Journalist   \n",
       "1         Junior Software Developer   \n",
       "2              Full Stack Developer   \n",
       "3                  Business Analyst   \n",
       "4    Associate Full Stack Developer   \n",
       "5               Full Stack Engineer   \n",
       "6                  Product Marketer   \n",
       "7    Business Development Executive   \n",
       "8  Associate - Business Development   \n",
       "9      Research Analyst (Economics)   \n",
       "\n",
       "                                             Company         Salary  \\\n",
       "0                                     Truffle Nation    3 - 4.5 LPA   \n",
       "1              Habitate Technologies Private Limited    5.2 - 7 LPA   \n",
       "2                                            SoluLab      3 - 5 LPA   \n",
       "3                                            SoluLab    3 - 4.2 LPA   \n",
       "4            REPOZITORY TECHNOLOGIES PRIVATE LIMITED    3 - 3.6 LPA   \n",
       "5                              Beehive Academy India  4.2 - 8.2 LPA   \n",
       "6                                                Bip      3 - 6 LPA   \n",
       "7                                            Tabeazy          3 LPA   \n",
       "8                                       Leverage Edu        3.6 LPA   \n",
       "9  DEX-DEFT Research And Consulting OPC Private L...          3 LPA   \n",
       "\n",
       "         Date  \n",
       "0  30 Jun' 21  \n",
       "1  30 Jun' 21  \n",
       "2  28 Jun' 21  \n",
       "3  28 Jun' 21  \n",
       "4  28 Jun' 21  \n",
       "5  28 Jun' 21  \n",
       "6  27 Jun' 21  \n",
       "7  27 Jun' 21  \n",
       "8  27 Jun' 21  \n",
       "9  27 Jun' 21  "
      ]
     },
     "execution_count": 89,
     "metadata": {},
     "output_type": "execute_result"
    }
   ],
   "source": [
    "Job=pd.DataFrame()\n",
    "Job['Position']=Position[0:10]\n",
    "Job['Company']=Company[0:10]\n",
    "Job['Salary']=Salary[0:10]\n",
    "Job['Date']=Date[0:10]\n",
    "\n",
    "Job"
   ]
  },
  {
   "cell_type": "code",
   "execution_count": null,
   "metadata": {},
   "outputs": [],
   "source": []
  }
 ],
 "metadata": {
  "kernelspec": {
   "display_name": "Python 3",
   "language": "python",
   "name": "python3"
  },
  "language_info": {
   "codemirror_mode": {
    "name": "ipython",
    "version": 3
   },
   "file_extension": ".py",
   "mimetype": "text/x-python",
   "name": "python",
   "nbconvert_exporter": "python",
   "pygments_lexer": "ipython3",
   "version": "3.8.5"
  }
 },
 "nbformat": 4,
 "nbformat_minor": 4
}

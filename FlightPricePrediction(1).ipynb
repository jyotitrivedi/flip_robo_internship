{
 "cells": [
  {
   "cell_type": "code",
   "execution_count": 255,
   "metadata": {},
   "outputs": [],
   "source": [
    "import pandas as pd\n",
    "import numpy as np\n",
    "import seaborn as sns\n",
    "import matplotlib.pyplot as plt\n",
    "import warnings\n",
    "warnings.filterwarnings('ignore')"
   ]
  },
  {
   "cell_type": "code",
   "execution_count": 332,
   "metadata": {},
   "outputs": [],
   "source": [
    "df=pd.read_csv(\"Flight.csv\")"
   ]
  },
  {
   "cell_type": "code",
   "execution_count": 257,
   "metadata": {},
   "outputs": [
    {
     "data": {
      "text/html": [
       "<div>\n",
       "<style scoped>\n",
       "    .dataframe tbody tr th:only-of-type {\n",
       "        vertical-align: middle;\n",
       "    }\n",
       "\n",
       "    .dataframe tbody tr th {\n",
       "        vertical-align: top;\n",
       "    }\n",
       "\n",
       "    .dataframe thead th {\n",
       "        text-align: right;\n",
       "    }\n",
       "</style>\n",
       "<table border=\"1\" class=\"dataframe\">\n",
       "  <thead>\n",
       "    <tr style=\"text-align: right;\">\n",
       "      <th></th>\n",
       "      <th>Unnamed: 0</th>\n",
       "      <th>Flight-Name</th>\n",
       "      <th>Date</th>\n",
       "      <th>Source</th>\n",
       "      <th>Destination</th>\n",
       "      <th>Departure Time</th>\n",
       "      <th>Arrival Time</th>\n",
       "      <th>Duration</th>\n",
       "      <th>Stops</th>\n",
       "      <th>Fare</th>\n",
       "    </tr>\n",
       "  </thead>\n",
       "  <tbody>\n",
       "    <tr>\n",
       "      <th>0</th>\n",
       "      <td>0</td>\n",
       "      <td>Air Asia</td>\n",
       "      <td>Wed, 20 Oct</td>\n",
       "      <td>New Delhi</td>\n",
       "      <td>Mumbai</td>\n",
       "      <td>18:40</td>\n",
       "      <td>06:20\\n+ 1 day</td>\n",
       "      <td>11h 40m</td>\n",
       "      <td>1 Stop</td>\n",
       "      <td>5,953</td>\n",
       "    </tr>\n",
       "    <tr>\n",
       "      <th>1</th>\n",
       "      <td>1</td>\n",
       "      <td>Go First</td>\n",
       "      <td>Wed, 20 Oct</td>\n",
       "      <td>New Delhi</td>\n",
       "      <td>Mumbai</td>\n",
       "      <td>18:50</td>\n",
       "      <td>20:45</td>\n",
       "      <td>1h 55m</td>\n",
       "      <td>Non Stop</td>\n",
       "      <td>5,954</td>\n",
       "    </tr>\n",
       "    <tr>\n",
       "      <th>2</th>\n",
       "      <td>2</td>\n",
       "      <td>Go First</td>\n",
       "      <td>Wed, 20 Oct</td>\n",
       "      <td>New Delhi</td>\n",
       "      <td>Mumbai</td>\n",
       "      <td>20:30</td>\n",
       "      <td>22:35</td>\n",
       "      <td>2h 05m</td>\n",
       "      <td>Non Stop</td>\n",
       "      <td>5,954</td>\n",
       "    </tr>\n",
       "    <tr>\n",
       "      <th>3</th>\n",
       "      <td>3</td>\n",
       "      <td>Go First</td>\n",
       "      <td>Wed, 20 Oct</td>\n",
       "      <td>New Delhi</td>\n",
       "      <td>Mumbai</td>\n",
       "      <td>21:30</td>\n",
       "      <td>23:35</td>\n",
       "      <td>2h 05m</td>\n",
       "      <td>Non Stop</td>\n",
       "      <td>5,954</td>\n",
       "    </tr>\n",
       "    <tr>\n",
       "      <th>4</th>\n",
       "      <td>4</td>\n",
       "      <td>Go First</td>\n",
       "      <td>Wed, 20 Oct</td>\n",
       "      <td>New Delhi</td>\n",
       "      <td>Mumbai</td>\n",
       "      <td>22:45</td>\n",
       "      <td>01:00\\n+ 1 day</td>\n",
       "      <td>2h 15m</td>\n",
       "      <td>Non Stop</td>\n",
       "      <td>5,954</td>\n",
       "    </tr>\n",
       "  </tbody>\n",
       "</table>\n",
       "</div>"
      ],
      "text/plain": [
       "   Unnamed: 0 Flight-Name         Date     Source Destination Departure Time  \\\n",
       "0           0    Air Asia  Wed, 20 Oct  New Delhi      Mumbai          18:40   \n",
       "1           1    Go First  Wed, 20 Oct  New Delhi      Mumbai          18:50   \n",
       "2           2    Go First  Wed, 20 Oct  New Delhi      Mumbai          20:30   \n",
       "3           3    Go First  Wed, 20 Oct  New Delhi      Mumbai          21:30   \n",
       "4           4    Go First  Wed, 20 Oct  New Delhi      Mumbai          22:45   \n",
       "\n",
       "     Arrival Time Duration     Stops   Fare  \n",
       "0  06:20\\n+ 1 day  11h 40m    1 Stop  5,953  \n",
       "1           20:45   1h 55m  Non Stop  5,954  \n",
       "2           22:35   2h 05m  Non Stop  5,954  \n",
       "3           23:35   2h 05m  Non Stop  5,954  \n",
       "4  01:00\\n+ 1 day   2h 15m  Non Stop  5,954  "
      ]
     },
     "execution_count": 257,
     "metadata": {},
     "output_type": "execute_result"
    }
   ],
   "source": [
    "df.head()"
   ]
  },
  {
   "cell_type": "markdown",
   "metadata": {},
   "source": [
    "## EDA"
   ]
  },
  {
   "cell_type": "code",
   "execution_count": 258,
   "metadata": {},
   "outputs": [
    {
     "data": {
      "text/plain": [
       "(1539, 10)"
      ]
     },
     "execution_count": 258,
     "metadata": {},
     "output_type": "execute_result"
    }
   ],
   "source": [
    "df.shape"
   ]
  },
  {
   "cell_type": "markdown",
   "metadata": {},
   "source": [
    "There are 1539 rows and 10 columns in our dataset."
   ]
  },
  {
   "cell_type": "code",
   "execution_count": 259,
   "metadata": {},
   "outputs": [
    {
     "data": {
      "text/plain": [
       "Unnamed: 0         int64\n",
       "Flight-Name       object\n",
       "Date              object\n",
       "Source            object\n",
       "Destination       object\n",
       "Departure Time    object\n",
       "Arrival Time      object\n",
       "Duration          object\n",
       "Stops             object\n",
       "Fare              object\n",
       "dtype: object"
      ]
     },
     "execution_count": 259,
     "metadata": {},
     "output_type": "execute_result"
    }
   ],
   "source": [
    "df.dtypes"
   ]
  },
  {
   "cell_type": "markdown",
   "metadata": {},
   "source": [
    "All the columns are object type"
   ]
  },
  {
   "cell_type": "code",
   "execution_count": 260,
   "metadata": {},
   "outputs": [
    {
     "name": "stdout",
     "output_type": "stream",
     "text": [
      "Unnamed: 0 1539\n",
      "Flight-Name 6\n",
      "Date 13\n",
      "Source 3\n",
      "Destination 3\n",
      "Departure Time 211\n",
      "Arrival Time 263\n",
      "Duration 293\n",
      "Stops 5\n",
      "Fare 667\n"
     ]
    }
   ],
   "source": [
    "#Unique values in each columns\n",
    "for i in df.columns:\n",
    "    print(i , df[i].nunique())"
   ]
  },
  {
   "cell_type": "code",
   "execution_count": 261,
   "metadata": {},
   "outputs": [
    {
     "data": {
      "text/plain": [
       "Unnamed: 0        0\n",
       "Flight-Name       0\n",
       "Date              0\n",
       "Source            0\n",
       "Destination       0\n",
       "Departure Time    0\n",
       "Arrival Time      0\n",
       "Duration          0\n",
       "Stops             0\n",
       "Fare              0\n",
       "dtype: int64"
      ]
     },
     "execution_count": 261,
     "metadata": {},
     "output_type": "execute_result"
    }
   ],
   "source": [
    "#checling for null values\n",
    "df.isnull().sum()"
   ]
  },
  {
   "cell_type": "markdown",
   "metadata": {},
   "source": [
    "There are no null values in our datatset."
   ]
  },
  {
   "cell_type": "code",
   "execution_count": 262,
   "metadata": {},
   "outputs": [
    {
     "data": {
      "text/plain": [
       "0"
      ]
     },
     "execution_count": 262,
     "metadata": {},
     "output_type": "execute_result"
    }
   ],
   "source": [
    "#checking for dupllicate values\n",
    "df.duplicated().sum()"
   ]
  },
  {
   "cell_type": "markdown",
   "metadata": {},
   "source": [
    "There are no duplicates"
   ]
  },
  {
   "cell_type": "code",
   "execution_count": 337,
   "metadata": {},
   "outputs": [
    {
     "data": {
      "text/html": [
       "<div>\n",
       "<style scoped>\n",
       "    .dataframe tbody tr th:only-of-type {\n",
       "        vertical-align: middle;\n",
       "    }\n",
       "\n",
       "    .dataframe tbody tr th {\n",
       "        vertical-align: top;\n",
       "    }\n",
       "\n",
       "    .dataframe thead th {\n",
       "        text-align: right;\n",
       "    }\n",
       "</style>\n",
       "<table border=\"1\" class=\"dataframe\">\n",
       "  <thead>\n",
       "    <tr style=\"text-align: right;\">\n",
       "      <th></th>\n",
       "      <th>Flight-Name</th>\n",
       "      <th>Date</th>\n",
       "      <th>Source</th>\n",
       "      <th>Destination</th>\n",
       "      <th>Departure Time</th>\n",
       "      <th>Arrival Time</th>\n",
       "      <th>Duration</th>\n",
       "      <th>Stops</th>\n",
       "      <th>Fare</th>\n",
       "    </tr>\n",
       "  </thead>\n",
       "  <tbody>\n",
       "    <tr>\n",
       "      <th>count</th>\n",
       "      <td>1539</td>\n",
       "      <td>1539</td>\n",
       "      <td>1539</td>\n",
       "      <td>1539</td>\n",
       "      <td>1539</td>\n",
       "      <td>1539</td>\n",
       "      <td>1539</td>\n",
       "      <td>1539</td>\n",
       "      <td>1539</td>\n",
       "    </tr>\n",
       "    <tr>\n",
       "      <th>unique</th>\n",
       "      <td>6</td>\n",
       "      <td>13</td>\n",
       "      <td>3</td>\n",
       "      <td>3</td>\n",
       "      <td>211</td>\n",
       "      <td>263</td>\n",
       "      <td>293</td>\n",
       "      <td>5</td>\n",
       "      <td>667</td>\n",
       "    </tr>\n",
       "    <tr>\n",
       "      <th>top</th>\n",
       "      <td>IndiGo</td>\n",
       "      <td>Fri, 19 Nov</td>\n",
       "      <td>Mumbai</td>\n",
       "      <td>Mumbai</td>\n",
       "      <td>19:00</td>\n",
       "      <td>12:55\\n+ 1 day</td>\n",
       "      <td>2h 10m</td>\n",
       "      <td>1 Stop</td>\n",
       "      <td>5,955</td>\n",
       "    </tr>\n",
       "    <tr>\n",
       "      <th>freq</th>\n",
       "      <td>447</td>\n",
       "      <td>245</td>\n",
       "      <td>691</td>\n",
       "      <td>535</td>\n",
       "      <td>34</td>\n",
       "      <td>39</td>\n",
       "      <td>65</td>\n",
       "      <td>1009</td>\n",
       "      <td>57</td>\n",
       "    </tr>\n",
       "  </tbody>\n",
       "</table>\n",
       "</div>"
      ],
      "text/plain": [
       "       Flight-Name         Date  Source Destination Departure Time  \\\n",
       "count         1539         1539    1539        1539           1539   \n",
       "unique           6           13       3           3            211   \n",
       "top         IndiGo  Fri, 19 Nov  Mumbai      Mumbai          19:00   \n",
       "freq           447          245     691         535             34   \n",
       "\n",
       "          Arrival Time Duration   Stops   Fare  \n",
       "count             1539     1539    1539   1539  \n",
       "unique             263      293       5    667  \n",
       "top     12:55\\n+ 1 day   2h 10m  1 Stop  5,955  \n",
       "freq                39       65    1009     57  "
      ]
     },
     "execution_count": 337,
     "metadata": {},
     "output_type": "execute_result"
    }
   ],
   "source": [
    "df.describe(include = 'object')"
   ]
  },
  {
   "cell_type": "markdown",
   "metadata": {},
   "source": [
    "## Feature Engineering:"
   ]
  },
  {
   "cell_type": "markdown",
   "metadata": {},
   "source": [
    "#### Converting duration in minutes:"
   ]
  },
  {
   "cell_type": "code",
   "execution_count": 263,
   "metadata": {},
   "outputs": [],
   "source": [
    "df= df.join(df['Duration'].str.split(' ', 1, expand=True).rename(columns={0:'hour', 1:'minute'}))"
   ]
  },
  {
   "cell_type": "code",
   "execution_count": 264,
   "metadata": {},
   "outputs": [],
   "source": [
    "df['hour']=df['hour'].str.replace(\"h\", '*60').apply(eval)"
   ]
  },
  {
   "cell_type": "code",
   "execution_count": 265,
   "metadata": {},
   "outputs": [],
   "source": [
    "df['minute']=df['minute'].str.replace(\"m\", '')"
   ]
  },
  {
   "cell_type": "code",
   "execution_count": 266,
   "metadata": {},
   "outputs": [],
   "source": [
    "df['minute']=df['minute'].astype(int)"
   ]
  },
  {
   "cell_type": "code",
   "execution_count": 267,
   "metadata": {},
   "outputs": [],
   "source": [
    "df.drop('Duration',axis=1,inplace=True)"
   ]
  },
  {
   "cell_type": "code",
   "execution_count": 268,
   "metadata": {},
   "outputs": [],
   "source": [
    "df['Duration'] = (df['hour'] + df['minute'])"
   ]
  },
  {
   "cell_type": "code",
   "execution_count": 269,
   "metadata": {},
   "outputs": [],
   "source": [
    "df.drop(['hour','minute'],axis=1,inplace=True)"
   ]
  },
  {
   "cell_type": "code",
   "execution_count": 271,
   "metadata": {},
   "outputs": [],
   "source": [
    "#Date of Journey in train data\n",
    "df[\"Journey_day\"] = df['Date'].str.split(' ').str[1].astype(int)\n",
    "df[\"Journey_month\"] = df['Date'].str.split(' ').str[2]\n",
    "df.drop([\"Date\"], axis = 1, inplace = True)"
   ]
  },
  {
   "cell_type": "code",
   "execution_count": 273,
   "metadata": {},
   "outputs": [],
   "source": [
    "#Departure Time in train data\n",
    "df[\"Departure_Hour\"] = pd.to_datetime(df[\"Departure Time\"]).dt.hour\n",
    "df[\"Departure_Min\"] = pd.to_datetime(df[\"Departure Time\"]).dt.minute\n",
    "df.drop([\"Departure Time\"], axis = 1, inplace = True)"
   ]
  },
  {
   "cell_type": "code",
   "execution_count": 275,
   "metadata": {},
   "outputs": [],
   "source": [
    "#Arrival Time in train data\n",
    "df[\"Arrival Time\"] = df[\"Arrival Time\"].str.split(\"+\").str[0]\n",
    "df[\"Arrival_hour\"] = pd.to_datetime(df[\"Arrival Time\"]).dt.hour\n",
    "df[\"Arrival_min\"] = pd.to_datetime(df[\"Arrival Time\"]).dt.minute\n",
    "df.drop([\"Arrival Time\"], axis = 1, inplace = True)"
   ]
  },
  {
   "cell_type": "markdown",
   "metadata": {},
   "source": [
    "### Visualization"
   ]
  },
  {
   "cell_type": "code",
   "execution_count": 277,
   "metadata": {},
   "outputs": [
    {
     "data": {
      "text/plain": [
       "Text(0, 0.5, 'Count of flights')"
      ]
     },
     "execution_count": 277,
     "metadata": {},
     "output_type": "execute_result"
    },
    {
     "data": {
      "image/png": "[encoded data removed]",
      "text/plain": [
       "<Figure size 720x360 with 1 Axes>"
      ]
     },
     "metadata": {
      "needs_background": "light"
     },
     "output_type": "display_data"
    }
   ],
   "source": [
    "plt.figure(figsize = (10, 5))\n",
    "plt.title('Count of flights month wise')\n",
    "sns.countplot(x = 'Journey_month', data = df)\n",
    "plt.xlabel('Month')\n",
    "plt.ylabel('Count of flights')"
   ]
  },
  {
   "cell_type": "markdown",
   "metadata": {},
   "source": [
    "Highest number of flights are in November month."
   ]
  },
  {
   "cell_type": "code",
   "execution_count": 278,
   "metadata": {},
   "outputs": [
    {
     "data": {
      "text/plain": [
       "IndiGo       447\n",
       "Air India    407\n",
       "Vistara      299\n",
       "Go First     206\n",
       "Air Asia     131\n",
       "SpiceJet      49\n",
       "Name: Flight-Name, dtype: int64"
      ]
     },
     "execution_count": 278,
     "metadata": {},
     "output_type": "execute_result"
    }
   ],
   "source": [
    "df[\"Flight-Name\"].value_counts()"
   ]
  },
  {
   "cell_type": "code",
   "execution_count": 279,
   "metadata": {},
   "outputs": [
    {
     "data": {
      "text/plain": [
       "(array([0, 1, 2, 3, 4, 5]),\n",
       " [Text(0, 0, 'Air Asia'),\n",
       "  Text(1, 0, 'Go First'),\n",
       "  Text(2, 0, 'SpiceJet'),\n",
       "  Text(3, 0, 'IndiGo'),\n",
       "  Text(4, 0, 'Vistara'),\n",
       "  Text(5, 0, 'Air India')])"
      ]
     },
     "execution_count": 279,
     "metadata": {},
     "output_type": "execute_result"
    },
    {
     "data": {
      "image/png": "[encoded data removed]",
      "text/plain": [
       "<Figure size 720x360 with 1 Axes>"
      ]
     },
     "metadata": {
      "needs_background": "light"
     },
     "output_type": "display_data"
    }
   ],
   "source": [
    "plt.figure(figsize = (10,5))\n",
    "plt.title('Count of flights with different Airlines')\n",
    "sns.countplot(x = 'Flight-Name', data =df)\n",
    "plt.xlabel('Airline')\n",
    "plt.ylabel('Count of flights')\n",
    "plt.xticks(rotation=90)"
   ]
  },
  {
   "cell_type": "markdown",
   "metadata": {},
   "source": [
    "Indigo and Air India have the highest number of flights while Air asia and Spicejet being the lowest."
   ]
  },
  {
   "cell_type": "code",
   "execution_count": 282,
   "metadata": {},
   "outputs": [],
   "source": [
    "#Removing the comma in Fare and coverting it to integer\n",
    "df['Fare']=df['Fare'].str.replace(\",\",\"\")"
   ]
  },
  {
   "cell_type": "code",
   "execution_count": 284,
   "metadata": {},
   "outputs": [],
   "source": [
    "df['Fare']=df['Fare'].astype(int)"
   ]
  },
  {
   "cell_type": "code",
   "execution_count": 227,
   "metadata": {},
   "outputs": [
    {
     "data": {
      "text/plain": [
       "Text(0, 0.5, 'Price of ticket')"
      ]
     },
     "execution_count": 227,
     "metadata": {},
     "output_type": "execute_result"
    },
    {
     "data": {
      "image/png": "[encoded data removed]",
      "text/plain": [
       "<Figure size 720x360 with 1 Axes>"
      ]
     },
     "metadata": {
      "needs_background": "light"
     },
     "output_type": "display_data"
    }
   ],
   "source": [
    "plt.figure(figsize = (10, 5))\n",
    "plt.title('Price VS Airlines')\n",
    "sns.barplot(x='Flight-Name',y='Fare',data=df)\n",
    "plt.xticks(rotation = 90)\n",
    "plt.xlabel('Airline')\n",
    "plt.ylabel('Price of ticket')"
   ]
  },
  {
   "cell_type": "markdown",
   "metadata": {},
   "source": [
    "Fare of Vistara is the highest, followed by Air India and lowest being Spicejet."
   ]
  },
  {
   "cell_type": "code",
   "execution_count": 285,
   "metadata": {},
   "outputs": [
    {
     "data": {
      "text/plain": [
       "1 Stop       1009\n",
       "Non Stop      305\n",
       "2 Stop(s)     188\n",
       "3 Stop(s)      34\n",
       "4 Stop(s)       3\n",
       "Name: Stops, dtype: int64"
      ]
     },
     "execution_count": 285,
     "metadata": {},
     "output_type": "execute_result"
    }
   ],
   "source": [
    "df[\"Stops\"].value_counts()"
   ]
  },
  {
   "cell_type": "code",
   "execution_count": 286,
   "metadata": {},
   "outputs": [],
   "source": [
    "#Encoding values of Stops column\n",
    "df['Stops'].replace({'1 Stop':1,'Non Stop':0,'2 Stop(s)':2,'3 Stop(s)':3,'4 Stop(s)':4},inplace=True)"
   ]
  },
  {
   "cell_type": "code",
   "execution_count": 287,
   "metadata": {},
   "outputs": [
    {
     "data": {
      "text/plain": [
       "Text(0, 0.5, 'Price of ticket')"
      ]
     },
     "execution_count": 287,
     "metadata": {},
     "output_type": "execute_result"
    },
    {
     "data": {
      "image/png": "[encoded data removed]",
      "text/plain": [
       "<Figure size 720x360 with 1 Axes>"
      ]
     },
     "metadata": {
      "needs_background": "light"
     },
     "output_type": "display_data"
    }
   ],
   "source": [
    "plt.figure(figsize = (10, 5))\n",
    "plt.title('Price VS Airlines')\n",
    "sns.barplot(x='Stops',y='Fare',data=df)\n",
    "plt.xticks(rotation = 90)\n",
    "plt.xlabel('No of Stops')\n",
    "plt.ylabel('Price of ticket')"
   ]
  },
  {
   "cell_type": "markdown",
   "metadata": {},
   "source": [
    "Flights having 2 stops have more fare than 3 and 4 stops. Reason can be people won't prefer such long duration flights."
   ]
  },
  {
   "cell_type": "code",
   "execution_count": 253,
   "metadata": {},
   "outputs": [
    {
     "data": {
      "text/plain": [
       "<AxesSubplot:xlabel='Duration', ylabel='Fare'>"
      ]
     },
     "execution_count": 253,
     "metadata": {},
     "output_type": "execute_result"
    },
    {
     "data": {
      "image/png": "[encoded data removed]",
      "text/plain": [
       "<Figure size 432x288 with 1 Axes>"
      ]
     },
     "metadata": {
      "needs_background": "light"
     },
     "output_type": "display_data"
    }
   ],
   "source": [
    "sns.scatterplot(x='Duration',y='Fare',data=df)"
   ]
  },
  {
   "cell_type": "markdown",
   "metadata": {},
   "source": [
    "Flights with either very less duration or very large duration have least fare."
   ]
  },
  {
   "cell_type": "code",
   "execution_count": 288,
   "metadata": {},
   "outputs": [
    {
     "data": {
      "text/plain": [
       "Text(0, 0.5, 'Price of ticket')"
      ]
     },
     "execution_count": 288,
     "metadata": {},
     "output_type": "execute_result"
    },
    {
     "data": {
      "image/png": "[encoded data removed]",
      "text/plain": [
       "<Figure size 720x360 with 1 Axes>"
      ]
     },
     "metadata": {
      "needs_background": "light"
     },
     "output_type": "display_data"
    }
   ],
   "source": [
    "plt.figure(figsize = (10, 5))\n",
    "plt.title('Price VS Departure Hour')\n",
    "sns.barplot(x='Departure_Hour',y='Fare',data=df)\n",
    "plt.xticks(rotation = 90)\n",
    "plt.xlabel('Departure Hour')\n",
    "plt.ylabel('Price of ticket')"
   ]
  },
  {
   "cell_type": "markdown",
   "metadata": {},
   "source": [
    "Looking at the plot, we can say flights in the midnight and early mornings are the cheapest"
   ]
  },
  {
   "cell_type": "code",
   "execution_count": 289,
   "metadata": {},
   "outputs": [
    {
     "data": {
      "text/plain": [
       "Text(0, 0.5, 'Price of ticket')"
      ]
     },
     "execution_count": 289,
     "metadata": {},
     "output_type": "execute_result"
    },
    {
     "data": {
      "image/png": "[encoded data removed]",
      "text/plain": [
       "<Figure size 720x360 with 1 Axes>"
      ]
     },
     "metadata": {
      "needs_background": "light"
     },
     "output_type": "display_data"
    }
   ],
   "source": [
    "plt.figure(figsize = (10, 5))\n",
    "plt.title('Price VS Arrival Hour')\n",
    "sns.barplot(x='Arrival_hour',y='Fare',data=df)\n",
    "plt.xticks(rotation = 90)\n",
    "plt.xlabel('Arrival Hour')\n",
    "plt.ylabel('Price of ticket')"
   ]
  },
  {
   "cell_type": "markdown",
   "metadata": {},
   "source": [
    "Flights arriving in late mornings and afternoon are comparatively expensive."
   ]
  },
  {
   "cell_type": "code",
   "execution_count": 290,
   "metadata": {},
   "outputs": [],
   "source": [
    "#Performing Label Encoding for categorical features\n",
    "from sklearn.preprocessing import LabelEncoder\n",
    "le=LabelEncoder()\n",
    "df['Flight-Name']=le.fit_transform(df['Flight-Name'])\n",
    "df['Source']=le.fit_transform(df['Source'])\n",
    "df['Destination']=le.fit_transform(df['Destination'])\n",
    "df['Journey_month']=le.fit_transform(df['Journey_month'])"
   ]
  },
  {
   "cell_type": "code",
   "execution_count": 319,
   "metadata": {},
   "outputs": [],
   "source": [
    "#Separating x and y for model evaluation\n",
    "x=df.drop(['Fare','Unnamed: 0','Source','Destination'],axis=1)\n",
    "y=df[['Fare']]"
   ]
  },
  {
   "cell_type": "code",
   "execution_count": 321,
   "metadata": {},
   "outputs": [
    {
     "data": {
      "text/html": [
       "<div>\n",
       "<style scoped>\n",
       "    .dataframe tbody tr th:only-of-type {\n",
       "        vertical-align: middle;\n",
       "    }\n",
       "\n",
       "    .dataframe tbody tr th {\n",
       "        vertical-align: top;\n",
       "    }\n",
       "\n",
       "    .dataframe thead th {\n",
       "        text-align: right;\n",
       "    }\n",
       "</style>\n",
       "<table border=\"1\" class=\"dataframe\">\n",
       "  <thead>\n",
       "    <tr style=\"text-align: right;\">\n",
       "      <th></th>\n",
       "      <th>Flight-Name</th>\n",
       "      <th>Stops</th>\n",
       "      <th>Duration</th>\n",
       "      <th>Journey_day</th>\n",
       "      <th>Journey_month</th>\n",
       "      <th>Departure_Hour</th>\n",
       "      <th>Departure_Min</th>\n",
       "      <th>Arrival_hour</th>\n",
       "      <th>Arrival_min</th>\n",
       "    </tr>\n",
       "  </thead>\n",
       "  <tbody>\n",
       "    <tr>\n",
       "      <th>0</th>\n",
       "      <td>-1.576597</td>\n",
       "      <td>0.039841</td>\n",
       "      <td>0.088742</td>\n",
       "      <td>0.259715</td>\n",
       "      <td>1.762170</td>\n",
       "      <td>0.951087</td>\n",
       "      <td>0.783132</td>\n",
       "      <td>-1.499799</td>\n",
       "      <td>-0.384348</td>\n",
       "    </tr>\n",
       "    <tr>\n",
       "      <th>1</th>\n",
       "      <td>-0.316466</td>\n",
       "      <td>-1.493052</td>\n",
       "      <td>-1.097277</td>\n",
       "      <td>0.259715</td>\n",
       "      <td>1.762170</td>\n",
       "      <td>0.951087</td>\n",
       "      <td>1.329230</td>\n",
       "      <td>0.872616</td>\n",
       "      <td>0.997044</td>\n",
       "    </tr>\n",
       "    <tr>\n",
       "      <th>2</th>\n",
       "      <td>-0.316466</td>\n",
       "      <td>-1.493052</td>\n",
       "      <td>-1.077003</td>\n",
       "      <td>0.259715</td>\n",
       "      <td>1.762170</td>\n",
       "      <td>1.315288</td>\n",
       "      <td>0.237033</td>\n",
       "      <td>1.211533</td>\n",
       "      <td>0.444487</td>\n",
       "    </tr>\n",
       "    <tr>\n",
       "      <th>3</th>\n",
       "      <td>-0.316466</td>\n",
       "      <td>-1.493052</td>\n",
       "      <td>-1.077003</td>\n",
       "      <td>0.259715</td>\n",
       "      <td>1.762170</td>\n",
       "      <td>1.497388</td>\n",
       "      <td>0.237033</td>\n",
       "      <td>1.380991</td>\n",
       "      <td>0.444487</td>\n",
       "    </tr>\n",
       "    <tr>\n",
       "      <th>4</th>\n",
       "      <td>-0.316466</td>\n",
       "      <td>-1.493052</td>\n",
       "      <td>-1.056729</td>\n",
       "      <td>0.259715</td>\n",
       "      <td>1.762170</td>\n",
       "      <td>1.679489</td>\n",
       "      <td>1.056181</td>\n",
       "      <td>-2.347090</td>\n",
       "      <td>-1.489462</td>\n",
       "    </tr>\n",
       "    <tr>\n",
       "      <th>...</th>\n",
       "      <td>...</td>\n",
       "      <td>...</td>\n",
       "      <td>...</td>\n",
       "      <td>...</td>\n",
       "      <td>...</td>\n",
       "      <td>...</td>\n",
       "      <td>...</td>\n",
       "      <td>...</td>\n",
       "      <td>...</td>\n",
       "    </tr>\n",
       "    <tr>\n",
       "      <th>1534</th>\n",
       "      <td>-0.946531</td>\n",
       "      <td>1.572734</td>\n",
       "      <td>0.778053</td>\n",
       "      <td>-2.000614</td>\n",
       "      <td>-1.882964</td>\n",
       "      <td>0.586886</td>\n",
       "      <td>-1.401263</td>\n",
       "      <td>-0.991424</td>\n",
       "      <td>-0.384348</td>\n",
       "    </tr>\n",
       "    <tr>\n",
       "      <th>1535</th>\n",
       "      <td>-0.946531</td>\n",
       "      <td>1.572734</td>\n",
       "      <td>1.507911</td>\n",
       "      <td>-2.000614</td>\n",
       "      <td>-1.882964</td>\n",
       "      <td>-0.505716</td>\n",
       "      <td>-1.401263</td>\n",
       "      <td>-0.991424</td>\n",
       "      <td>-0.384348</td>\n",
       "    </tr>\n",
       "    <tr>\n",
       "      <th>1536</th>\n",
       "      <td>-0.316466</td>\n",
       "      <td>0.039841</td>\n",
       "      <td>0.078606</td>\n",
       "      <td>-2.000614</td>\n",
       "      <td>-1.882964</td>\n",
       "      <td>1.497388</td>\n",
       "      <td>-1.401263</td>\n",
       "      <td>-1.160883</td>\n",
       "      <td>0.444487</td>\n",
       "    </tr>\n",
       "    <tr>\n",
       "      <th>1537</th>\n",
       "      <td>-0.316466</td>\n",
       "      <td>0.039841</td>\n",
       "      <td>0.119153</td>\n",
       "      <td>-2.000614</td>\n",
       "      <td>-1.882964</td>\n",
       "      <td>1.679489</td>\n",
       "      <td>1.329230</td>\n",
       "      <td>-0.821966</td>\n",
       "      <td>0.997044</td>\n",
       "    </tr>\n",
       "    <tr>\n",
       "      <th>1538</th>\n",
       "      <td>-0.316466</td>\n",
       "      <td>0.039841</td>\n",
       "      <td>0.342165</td>\n",
       "      <td>-2.000614</td>\n",
       "      <td>-1.882964</td>\n",
       "      <td>1.497388</td>\n",
       "      <td>-1.401263</td>\n",
       "      <td>-0.821966</td>\n",
       "      <td>0.997044</td>\n",
       "    </tr>\n",
       "  </tbody>\n",
       "</table>\n",
       "<p>1539 rows × 9 columns</p>\n",
       "</div>"
      ],
      "text/plain": [
       "      Flight-Name     Stops  Duration  Journey_day  Journey_month  \\\n",
       "0       -1.576597  0.039841  0.088742     0.259715       1.762170   \n",
       "1       -0.316466 -1.493052 -1.097277     0.259715       1.762170   \n",
       "2       -0.316466 -1.493052 -1.077003     0.259715       1.762170   \n",
       "3       -0.316466 -1.493052 -1.077003     0.259715       1.762170   \n",
       "4       -0.316466 -1.493052 -1.056729     0.259715       1.762170   \n",
       "...           ...       ...       ...          ...            ...   \n",
       "1534    -0.946531  1.572734  0.778053    -2.000614      -1.882964   \n",
       "1535    -0.946531  1.572734  1.507911    -2.000614      -1.882964   \n",
       "1536    -0.316466  0.039841  0.078606    -2.000614      -1.882964   \n",
       "1537    -0.316466  0.039841  0.119153    -2.000614      -1.882964   \n",
       "1538    -0.316466  0.039841  0.342165    -2.000614      -1.882964   \n",
       "\n",
       "      Departure_Hour  Departure_Min  Arrival_hour  Arrival_min  \n",
       "0           0.951087       0.783132     -1.499799    -0.384348  \n",
       "1           0.951087       1.329230      0.872616     0.997044  \n",
       "2           1.315288       0.237033      1.211533     0.444487  \n",
       "3           1.497388       0.237033      1.380991     0.444487  \n",
       "4           1.679489       1.056181     -2.347090    -1.489462  \n",
       "...              ...            ...           ...          ...  \n",
       "1534        0.586886      -1.401263     -0.991424    -0.384348  \n",
       "1535       -0.505716      -1.401263     -0.991424    -0.384348  \n",
       "1536        1.497388      -1.401263     -1.160883     0.444487  \n",
       "1537        1.679489       1.329230     -0.821966     0.997044  \n",
       "1538        1.497388      -1.401263     -0.821966     0.997044  \n",
       "\n",
       "[1539 rows x 9 columns]"
      ]
     },
     "execution_count": 321,
     "metadata": {},
     "output_type": "execute_result"
    }
   ],
   "source": [
    "#lets bring all features to a common scale\n",
    "from sklearn.preprocessing import StandardScaler\n",
    "ss=StandardScaler()\n",
    "x_=ss.fit_transform(x)\n",
    "x_=pd.DataFrame(x_,columns=x.columns)\n",
    "x_"
   ]
  },
  {
   "cell_type": "markdown",
   "metadata": {},
   "source": [
    "## Model Evaluation"
   ]
  },
  {
   "cell_type": "code",
   "execution_count": 322,
   "metadata": {},
   "outputs": [],
   "source": [
    "from sklearn.svm import SVR \n",
    "from sklearn.tree import DecisionTreeRegressor \n",
    "from sklearn.neighbors import KNeighborsRegressor \n",
    "from sklearn.ensemble import RandomForestRegressor "
   ]
  },
  {
   "cell_type": "code",
   "execution_count": 324,
   "metadata": {},
   "outputs": [],
   "source": [
    "# training testing and splitting the dataset\n",
    "from sklearn.model_selection import train_test_split\n",
    "x_train, x_test, y_train, y_test = train_test_split(x_, y, test_size = 0.2, random_state = 42)"
   ]
  },
  {
   "cell_type": "code",
   "execution_count": 325,
   "metadata": {},
   "outputs": [
    {
     "name": "stdout",
     "output_type": "stream",
     "text": [
      "DecisionTreeRegressor()\n",
      "0.9998161567147823\n",
      "error: \n",
      "Mean absolute error:  1552.2992424242423\n",
      "Mean squared error:  9392058.456800144\n",
      "Root mean squared error:  3064.6465467978755\n",
      "r2_score 0.487441984688499\n",
      "\n",
      "\n",
      "\n",
      "SVR()\n",
      "-0.049018598536997304\n",
      "error: \n",
      "Mean absolute error:  3181.426234423374\n",
      "Mean squared error:  19282125.904766683\n",
      "Root mean squared error:  4391.141754118931\n",
      "r2_score -0.05229415151030481\n",
      "\n",
      "\n",
      "\n",
      "KNeighborsRegressor()\n",
      "0.729401069734158\n",
      "error: \n",
      "Mean absolute error:  1828.3597402597404\n",
      "Mean squared error:  7940345.902077923\n",
      "Root mean squared error:  2817.861938079636\n",
      "r2_score 0.5666670991055062\n",
      "\n",
      "\n",
      "\n",
      "RandomForestRegressor()\n",
      "0.9632250351443612\n",
      "error: \n",
      "Mean absolute error:  1443.41003785302\n",
      "Mean squared error:  6289552.275674337\n",
      "Root mean squared error:  2507.8979795187715\n",
      "r2_score 0.6567567752643757\n",
      "\n",
      "\n",
      "\n",
      "LinearRegression()\n",
      "0.37637627148035446\n",
      "error: \n",
      "Mean absolute error:  2410.1205230006485\n",
      "Mean squared error:  11294217.381213505\n",
      "Root mean squared error:  3360.687040057956\n",
      "r2_score 0.38363441070577275\n",
      "\n",
      "\n",
      "\n"
     ]
    }
   ],
   "source": [
    "model=[DecisionTreeRegressor(),SVR(), KNeighborsRegressor(),RandomForestRegressor(),LinearRegression()]\n",
    "\n",
    "for m in model:\n",
    "    m.fit(x_train,y_train)\n",
    "    m.score(x_train,y_train)\n",
    "    predm=m.predict(x_test)\n",
    "    print(m)\n",
    "    print(m.score(x_train,y_train))\n",
    "    print(\"error: \")\n",
    "    print(\"Mean absolute error: \",mean_absolute_error(y_test,predm))\n",
    "    print(\"Mean squared error: \",mean_squared_error(y_test,predm))\n",
    "    print(\"Root mean squared error: \",np.sqrt(mean_squared_error(y_test,predm)))\n",
    "    print(\"r2_score\",r2_score(y_test,predm))\n",
    "    print(\"\\n\\n\")"
   ]
  },
  {
   "cell_type": "code",
   "execution_count": 326,
   "metadata": {},
   "outputs": [
    {
     "name": "stdout",
     "output_type": "stream",
     "text": [
      "XGBRegressor(base_score=0.5, booster='gbtree', colsample_bylevel=1,\n",
      "             colsample_bynode=1, colsample_bytree=1, gamma=0, gpu_id=-1,\n",
      "             importance_type='gain', interaction_constraints='',\n",
      "             learning_rate=0.300000012, max_delta_step=0, max_depth=6,\n",
      "             min_child_weight=1, missing=nan, monotone_constraints='()',\n",
      "             n_estimators=100, n_jobs=4, num_parallel_tree=1, random_state=0,\n",
      "             reg_alpha=0, reg_lambda=1, scale_pos_weight=1, subsample=1,\n",
      "             tree_method='exact', validate_parameters=1, verbosity=None)\n",
      "0.9948869945084359\n",
      "error: \n",
      "Mean absolute error:  1439.5827890371347\n",
      "Mean squared error:  6137724.859718233\n",
      "Root mean squared error:  2477.443210190343\n",
      "r2_score 0.6650425370438917\n",
      "\n",
      "\n",
      "\n"
     ]
    }
   ],
   "source": [
    "from xgboost import XGBRegressor\n",
    "m=XGBRegressor()\n",
    "m.fit(x_train,y_train)\n",
    "m.score(x_train,y_train)\n",
    "predm=m.predict(x_test)\n",
    "print(m)\n",
    "print(m.score(x_train,y_train))\n",
    "print(\"error: \")\n",
    "print(\"Mean absolute error: \",mean_absolute_error(y_test,predm))\n",
    "print(\"Mean squared error: \",mean_squared_error(y_test,predm))\n",
    "print(\"Root mean squared error: \",np.sqrt(mean_squared_error(y_test,predm)))\n",
    "print(\"r2_score\",r2_score(y_test,predm))\n",
    "print(\"\\n\\n\")"
   ]
  },
  {
   "cell_type": "markdown",
   "metadata": {},
   "source": [
    "Looking at the difference between accuracy and r2_score, xgboost and random forest are performing better than other algorithms. We will further perform hyperparameter tuning on them and find out the best parameters."
   ]
  },
  {
   "cell_type": "markdown",
   "metadata": {},
   "source": [
    "## Hyper Parameter Tuning"
   ]
  },
  {
   "cell_type": "code",
   "execution_count": 330,
   "metadata": {},
   "outputs": [
    {
     "name": "stdout",
     "output_type": "stream",
     "text": [
      "{'reg_lambda': 1.0, 'n_estimators': 400, 'min_child_weight': 5, 'max_depth': 4, 'learning_rate': 0.1, 'gamma': 0.3, 'colsample_bytree': 0.7}\n"
     ]
    }
   ],
   "source": [
    "from sklearn.model_selection import GridSearchCV,RandomizedSearchCV\n",
    "parameters = {'max_depth': [1, 2, 3, 4, 5], 'learning_rate': [0.01, 0.05, 0.1], 'n_estimators': [100, 200, 300, 400, 500], 'reg_lambda': [0.001, 0.1, 1.0, 10.0, 100.0],\"min_child_weight\" : [ 1, 3, 5, 7 ],\n",
    " \"gamma\"            : [ 0.0, 0.1, 0.2 , 0.3, 0.4 ],\n",
    " \"colsample_bytree\" : [ 0.3, 0.4, 0.5 , 0.7 ]}\n",
    "xg=XGBRegressor()\n",
    "clf=RandomizedSearchCV(xg,parameters)\n",
    "clf.fit(x_train,y_train)\n",
    "print(clf.best_params_)"
   ]
  },
  {
   "cell_type": "code",
   "execution_count": 248,
   "metadata": {},
   "outputs": [
    {
     "name": "stdout",
     "output_type": "stream",
     "text": [
      "R2 Score: 85.07492321014499\n",
      "error: \n",
      "Mean absolute error:  797.0295838195008\n",
      "Mean squared error:  2430286.7808834105\n",
      "Root mean squared error:  1558.9377091094468\n",
      "Cross val score: -47.02053128918803\n"
     ]
    }
   ],
   "source": [
    "xg=XGBRegressor(max_depth=3,learning_rate=0.1,n_estimators=500,min_child_weight=1,gamma=0.0,colsample_bytree=0.7,reg_lambda=0.001)\n",
    "xg.fit(x_train,y_train)\n",
    "xg.score(x_train,y_train)\n",
    "pred_xg=xg.predict(x_test)\n",
    "xgs=r2_score(y_test,pred_xg)\n",
    "print('R2 Score:',xgs*100)\n",
    "print(\"error: \")\n",
    "print(\"Mean absolute error: \",mean_absolute_error(y_test,pred_xg))\n",
    "print(\"Mean squared error: \",mean_squared_error(y_test,pred_xg))\n",
    "print(\"Root mean squared error: \",np.sqrt(mean_squared_error(y_test,pred_xg)))\n",
    "xgscore=cross_val_score(xg,X,y,cv=5)\n",
    "xgc=xgscore.mean()\n",
    "print('Cross val score:',xgc*100)"
   ]
  },
  {
   "cell_type": "code",
   "execution_count": 249,
   "metadata": {},
   "outputs": [
    {
     "name": "stdout",
     "output_type": "stream",
     "text": [
      "{'n_estimators': 500, 'max_features': 'auto', 'max_depth': 7, 'criterion': 'mae'}\n"
     ]
    }
   ],
   "source": [
    "parameters={'criterion':['mse','mae'],'max_features':[\"auto\",\"sqrt\",\"log2\"],'n_estimators':[100,500],'max_depth': [4,5,6,7,8]}\n",
    "rf=RandomForestRegressor()\n",
    "clf=RandomizedSearchCV(rf,parameters)\n",
    "clf.fit(x_train,y_train)\n",
    "print(clf.best_params_)"
   ]
  },
  {
   "cell_type": "code",
   "execution_count": 250,
   "metadata": {},
   "outputs": [
    {
     "name": "stdout",
     "output_type": "stream",
     "text": [
      "R2 Score: 75.35758259913065\n",
      "error: \n",
      "Mean absolute error:  1235.7325238095239\n",
      "Mean squared error:  4012585.134506758\n",
      "Root mean squared error:  2003.143812737058\n",
      "Cross val score: -50.5462417568458\n"
     ]
    }
   ],
   "source": [
    "rf=RandomForestRegressor(criterion=\"mae\",max_features=\"auto\",n_estimators=500,max_depth=7)\n",
    "rf.fit(x_train,y_train)\n",
    "rf.score(x_train,y_train)\n",
    "pred_decision=rf.predict(x_test)\n",
    "rfs=r2_score(y_test,pred_decision)\n",
    "print('R2 Score:',rfs*100)\n",
    "print(\"error: \")\n",
    "print(\"Mean absolute error: \",mean_absolute_error(y_test,pred_decision))\n",
    "print(\"Mean squared error: \",mean_squared_error(y_test,pred_decision))\n",
    "print(\"Root mean squared error: \",np.sqrt(mean_squared_error(y_test,pred_decision)))\n",
    "rfscore=cross_val_score(rf,X,y,cv=5)\n",
    "rfc=rfscore.mean()\n",
    "print('Cross val score:',rfc*100)"
   ]
  },
  {
   "cell_type": "markdown",
   "metadata": {},
   "source": [
    "XGBRegressor is performing best after hyperparameter tuning as it has better r2_score and MSE nd mAE."
   ]
  },
  {
   "cell_type": "markdown",
   "metadata": {},
   "source": [
    "## Saving the model"
   ]
  },
  {
   "cell_type": "code",
   "execution_count": 331,
   "metadata": {},
   "outputs": [
    {
     "data": {
      "text/plain": [
       "['Flightprice.obj']"
      ]
     },
     "execution_count": 331,
     "metadata": {},
     "output_type": "execute_result"
    }
   ],
   "source": [
    "import joblib\n",
    "joblib.dump(xg,'Flightprice.obj')"
   ]
  },
  {
   "cell_type": "code",
   "execution_count": null,
   "metadata": {},
   "outputs": [],
   "source": []
  }
 ],
 "metadata": {
  "kernelspec": {
   "display_name": "Python 3",
   "language": "python",
   "name": "python3"
  },
  "language_info": {
   "codemirror_mode": {
    "name": "ipython",
    "version": 3
   },
   "file_extension": ".py",
   "mimetype": "text/x-python",
   "name": "python",
   "nbconvert_exporter": "python",
   "pygments_lexer": "ipython3",
   "version": "3.8.5"
  }
 },
 "nbformat": 4,
 "nbformat_minor": 4
}

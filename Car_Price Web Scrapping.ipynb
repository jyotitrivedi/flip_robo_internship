{
 "cells": [
  {
   "cell_type": "code",
   "execution_count": 1,
   "metadata": {},
   "outputs": [],
   "source": [
    "import selenium\n",
    "import pandas as pd\n",
    "from selenium import webdriver\n",
    "import time\n",
    "from selenium.webdriver.common.keys import Keys\n",
    "from selenium.common.exceptions import NoSuchElementException,TimeoutException"
   ]
  },
  {
   "cell_type": "code",
   "execution_count": 2,
   "metadata": {},
   "outputs": [],
   "source": [
    "driver = webdriver.Firefox()"
   ]
  },
  {
   "cell_type": "code",
   "execution_count": 4,
   "metadata": {},
   "outputs": [],
   "source": [
    "Car_Name=[]\n",
    "Variant=[]\n",
    "KM=[]\n",
    "Owner=[]\n",
    "Fuel_Type=[]\n",
    "Price=[]"
   ]
  },
  {
   "cell_type": "code",
   "execution_count": 12,
   "metadata": {},
   "outputs": [],
   "source": [
    "def callUrl(url):\n",
    "    driver.get(url)\n",
    "    time.sleep(15)  # Allow 2 seconds for the web page to open\n",
    "    scroll_pause_time = 1 # You can set your own pause time. My laptop is a bit slow so I use 1 sec\n",
    "    screen_height = driver.execute_script(\"return window.screen.height;\")   # get the screen height of the web\n",
    "    i = 1\n",
    "\n",
    "    while True:\n",
    "        # scroll one screen height each time\n",
    "        driver.execute_script(\"window.scrollTo(0, {screen_height}*{i});\".format(screen_height=screen_height, i=i))  \n",
    "        i += 1\n",
    "        time.sleep(scroll_pause_time)\n",
    "        # update scroll height each time after scrolled, as the scroll height can change after we scrolled the page\n",
    "        scroll_height = driver.execute_script(\"return document.body.scrollHeight;\")  \n",
    "        # Break the loop when the height we need to scroll to is larger than the total scroll height\n",
    "        if (screen_height) * i > scroll_height:\n",
    "            break\n",
    "            \n",
    "    names=driver.find_elements_by_xpath(\"//h2[@class='_3FpCg']\")\n",
    "    for i in names:\n",
    "        Car_Name.append(i.text)\n",
    "    variant=driver.find_elements_by_xpath(\"//p[@class='cvakB']\")\n",
    "    for i in variant:\n",
    "        Variant.append(i.text)\n",
    "    kilo=driver.find_elements_by_xpath(\"//ul[@class='bVR0c']/li[1]\")\n",
    "    for i in kilo:\n",
    "        KM.append(i.text)\n",
    "    owner=driver.find_elements_by_xpath(\"//ul[@class='bVR0c']/li[2]\")\n",
    "    for i in owner:\n",
    "        Owner.append(i.text)\n",
    "    fuel=driver.find_elements_by_xpath(\"//ul[@class='bVR0c']/li[3]\")\n",
    "    for i in fuel:\n",
    "        Fuel_Type.append(i.text)\n",
    "    price=driver.find_elements_by_xpath(\"//div[@class='_7udZZ']/span\")\n",
    "    for i in price:\n",
    "        Price.append(i.text)"
   ]
  },
  {
   "cell_type": "code",
   "execution_count": 13,
   "metadata": {},
   "outputs": [],
   "source": [
    "callUrl(\"https://www.cars24.com/buy-used-cars-new-delhi/?itm_source=Cars24Website&itm_medium=sticky_header\")\n",
    "callUrl(\"https://www.cars24.com/buy-used-car?sort=P&storeCityId=2423&pinId=411001\")\n",
    "callUrl(\"https://www.cars24.com/buy-used-car?sort=P&storeCityId=2378&pinId=400001\")\n",
    "callUrl(\"https://www.cars24.com/buy-used-car?sort=P&storeCityId=3686&pinId=500001\")\n",
    "callUrl(\"https://www.cars24.com/buy-used-car?sort=P&storeCityId=4709&pinId=560001\")"
   ]
  },
  {
   "cell_type": "code",
   "execution_count": 19,
   "metadata": {},
   "outputs": [],
   "source": [
    "Car=pd.DataFrame()"
   ]
  },
  {
   "cell_type": "code",
   "execution_count": 20,
   "metadata": {},
   "outputs": [],
   "source": [
    "Car['Car_Name'] = Car_Name\n",
    "Car['Variant'] = Variant\n",
    "Car['Kilometer'] = KM\n",
    "Car['Owner'] = Owner\n",
    "Car['Fuel_Type'] = Fuel_Type\n",
    "Car['Price'] = Price"
   ]
  },
  {
   "cell_type": "code",
   "execution_count": 21,
   "metadata": {},
   "outputs": [
    {
     "data": {
      "text/html": [
       "<div>\n",
       "<style scoped>\n",
       "    .dataframe tbody tr th:only-of-type {\n",
       "        vertical-align: middle;\n",
       "    }\n",
       "\n",
       "    .dataframe tbody tr th {\n",
       "        vertical-align: top;\n",
       "    }\n",
       "\n",
       "    .dataframe thead th {\n",
       "        text-align: right;\n",
       "    }\n",
       "</style>\n",
       "<table border=\"1\" class=\"dataframe\">\n",
       "  <thead>\n",
       "    <tr style=\"text-align: right;\">\n",
       "      <th></th>\n",
       "      <th>Car_Name</th>\n",
       "      <th>Variant</th>\n",
       "      <th>Kilometer</th>\n",
       "      <th>Owner</th>\n",
       "      <th>Fuel_Type</th>\n",
       "      <th>Price</th>\n",
       "    </tr>\n",
       "  </thead>\n",
       "  <tbody>\n",
       "    <tr>\n",
       "      <th>0</th>\n",
       "      <td>2013 Maruti Alto 800</td>\n",
       "      <td>LXI Manual</td>\n",
       "      <td>14,466 km</td>\n",
       "      <td>1st Owner</td>\n",
       "      <td>Petrol</td>\n",
       "      <td>₹2,32,099</td>\n",
       "    </tr>\n",
       "    <tr>\n",
       "      <th>1</th>\n",
       "      <td>2020 Maruti New Wagon-R</td>\n",
       "      <td>LXI CNG 1.0 L Manual</td>\n",
       "      <td>6,207 km</td>\n",
       "      <td>1st Owner</td>\n",
       "      <td>Petrol + CNG</td>\n",
       "      <td>₹5,65,599</td>\n",
       "    </tr>\n",
       "    <tr>\n",
       "      <th>2</th>\n",
       "      <td>2020 Maruti Alto</td>\n",
       "      <td>LXI Manual</td>\n",
       "      <td>2,901 km</td>\n",
       "      <td>1st Owner</td>\n",
       "      <td>Petrol</td>\n",
       "      <td>₹3,73,099</td>\n",
       "    </tr>\n",
       "    <tr>\n",
       "      <th>3</th>\n",
       "      <td>2018 Maruti Baleno</td>\n",
       "      <td>DELTA 1.2 K12 Manual</td>\n",
       "      <td>6,905 km</td>\n",
       "      <td>1st Owner</td>\n",
       "      <td>Petrol</td>\n",
       "      <td>₹5,63,599</td>\n",
       "    </tr>\n",
       "    <tr>\n",
       "      <th>4</th>\n",
       "      <td>2015 Maruti Alto 800</td>\n",
       "      <td>LXI Manual</td>\n",
       "      <td>17,637 km</td>\n",
       "      <td>1st Owner</td>\n",
       "      <td>Petrol</td>\n",
       "      <td>₹2,69,899</td>\n",
       "    </tr>\n",
       "  </tbody>\n",
       "</table>\n",
       "</div>"
      ],
      "text/plain": [
       "                  Car_Name               Variant  Kilometer      Owner  \\\n",
       "0     2013 Maruti Alto 800            LXI Manual  14,466 km  1st Owner   \n",
       "1  2020 Maruti New Wagon-R  LXI CNG 1.0 L Manual   6,207 km  1st Owner   \n",
       "2         2020 Maruti Alto            LXI Manual   2,901 km  1st Owner   \n",
       "3       2018 Maruti Baleno  DELTA 1.2 K12 Manual   6,905 km  1st Owner   \n",
       "4     2015 Maruti Alto 800            LXI Manual  17,637 km  1st Owner   \n",
       "\n",
       "      Fuel_Type      Price  \n",
       "0        Petrol  ₹2,32,099  \n",
       "1  Petrol + CNG  ₹5,65,599  \n",
       "2        Petrol  ₹3,73,099  \n",
       "3        Petrol  ₹5,63,599  \n",
       "4        Petrol  ₹2,69,899  "
      ]
     },
     "execution_count": 21,
     "metadata": {},
     "output_type": "execute_result"
    }
   ],
   "source": [
    "Car.head()"
   ]
  },
  {
   "cell_type": "code",
   "execution_count": 22,
   "metadata": {},
   "outputs": [],
   "source": [
    "Car.to_csv(\"Car.csv\")"
   ]
  },
  {
   "cell_type": "code",
   "execution_count": null,
   "metadata": {},
   "outputs": [],
   "source": []
  }
 ],
 "metadata": {
  "kernelspec": {
   "display_name": "Python 3",
   "language": "python",
   "name": "python3"
  },
  "language_info": {
   "codemirror_mode": {
    "name": "ipython",
    "version": 3
   },
   "file_extension": ".py",
   "mimetype": "text/x-python",
   "name": "python",
   "nbconvert_exporter": "python",
   "pygments_lexer": "ipython3",
   "version": "3.8.5"
  }
 },
 "nbformat": 4,
 "nbformat_minor": 4
}

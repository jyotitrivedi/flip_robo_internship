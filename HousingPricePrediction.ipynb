{
 "cells": [
  {
   "cell_type": "code",
   "execution_count": 1,
   "metadata": {},
   "outputs": [],
   "source": [
    "import pandas as pd\n",
    "import numpy as np\n",
    "import matplotlib.pyplot as plt\n",
    "import seaborn as sns\n",
    "import warnings \n",
    "warnings.filterwarnings(\"ignore\")"
   ]
  },
  {
   "cell_type": "code",
   "execution_count": 2,
   "metadata": {},
   "outputs": [],
   "source": [
    "# Read in the data\n",
    "train=pd.read_csv('train.csv')\n",
    "test=pd.read_csv('test.csv')"
   ]
  },
  {
   "cell_type": "markdown",
   "metadata": {},
   "source": [
    "### EDA"
   ]
  },
  {
   "cell_type": "code",
   "execution_count": 3,
   "metadata": {},
   "outputs": [
    {
     "data": {
      "text/plain": [
       "((1168, 81), (292, 80))"
      ]
     },
     "execution_count": 3,
     "metadata": {},
     "output_type": "execute_result"
    }
   ],
   "source": [
    "# Check the shapes\n",
    "train.shape, test.shape"
   ]
  },
  {
   "cell_type": "code",
   "execution_count": 4,
   "metadata": {},
   "outputs": [
    {
     "data": {
      "text/html": [
       "<div>\n",
       "<style scoped>\n",
       "    .dataframe tbody tr th:only-of-type {\n",
       "        vertical-align: middle;\n",
       "    }\n",
       "\n",
       "    .dataframe tbody tr th {\n",
       "        vertical-align: top;\n",
       "    }\n",
       "\n",
       "    .dataframe thead th {\n",
       "        text-align: right;\n",
       "    }\n",
       "</style>\n",
       "<table border=\"1\" class=\"dataframe\">\n",
       "  <thead>\n",
       "    <tr style=\"text-align: right;\">\n",
       "      <th></th>\n",
       "      <th>Id</th>\n",
       "      <th>MSSubClass</th>\n",
       "      <th>MSZoning</th>\n",
       "      <th>LotFrontage</th>\n",
       "      <th>LotArea</th>\n",
       "      <th>Street</th>\n",
       "      <th>Alley</th>\n",
       "      <th>LotShape</th>\n",
       "      <th>LandContour</th>\n",
       "      <th>Utilities</th>\n",
       "      <th>...</th>\n",
       "      <th>PoolArea</th>\n",
       "      <th>PoolQC</th>\n",
       "      <th>Fence</th>\n",
       "      <th>MiscFeature</th>\n",
       "      <th>MiscVal</th>\n",
       "      <th>MoSold</th>\n",
       "      <th>YrSold</th>\n",
       "      <th>SaleType</th>\n",
       "      <th>SaleCondition</th>\n",
       "      <th>SalePrice</th>\n",
       "    </tr>\n",
       "  </thead>\n",
       "  <tbody>\n",
       "    <tr>\n",
       "      <th>0</th>\n",
       "      <td>127</td>\n",
       "      <td>120</td>\n",
       "      <td>RL</td>\n",
       "      <td>NaN</td>\n",
       "      <td>4928</td>\n",
       "      <td>Pave</td>\n",
       "      <td>NaN</td>\n",
       "      <td>IR1</td>\n",
       "      <td>Lvl</td>\n",
       "      <td>AllPub</td>\n",
       "      <td>...</td>\n",
       "      <td>0</td>\n",
       "      <td>NaN</td>\n",
       "      <td>NaN</td>\n",
       "      <td>NaN</td>\n",
       "      <td>0</td>\n",
       "      <td>2</td>\n",
       "      <td>2007</td>\n",
       "      <td>WD</td>\n",
       "      <td>Normal</td>\n",
       "      <td>128000</td>\n",
       "    </tr>\n",
       "    <tr>\n",
       "      <th>1</th>\n",
       "      <td>889</td>\n",
       "      <td>20</td>\n",
       "      <td>RL</td>\n",
       "      <td>95.0</td>\n",
       "      <td>15865</td>\n",
       "      <td>Pave</td>\n",
       "      <td>NaN</td>\n",
       "      <td>IR1</td>\n",
       "      <td>Lvl</td>\n",
       "      <td>AllPub</td>\n",
       "      <td>...</td>\n",
       "      <td>0</td>\n",
       "      <td>NaN</td>\n",
       "      <td>NaN</td>\n",
       "      <td>NaN</td>\n",
       "      <td>0</td>\n",
       "      <td>10</td>\n",
       "      <td>2007</td>\n",
       "      <td>WD</td>\n",
       "      <td>Normal</td>\n",
       "      <td>268000</td>\n",
       "    </tr>\n",
       "    <tr>\n",
       "      <th>2</th>\n",
       "      <td>793</td>\n",
       "      <td>60</td>\n",
       "      <td>RL</td>\n",
       "      <td>92.0</td>\n",
       "      <td>9920</td>\n",
       "      <td>Pave</td>\n",
       "      <td>NaN</td>\n",
       "      <td>IR1</td>\n",
       "      <td>Lvl</td>\n",
       "      <td>AllPub</td>\n",
       "      <td>...</td>\n",
       "      <td>0</td>\n",
       "      <td>NaN</td>\n",
       "      <td>NaN</td>\n",
       "      <td>NaN</td>\n",
       "      <td>0</td>\n",
       "      <td>6</td>\n",
       "      <td>2007</td>\n",
       "      <td>WD</td>\n",
       "      <td>Normal</td>\n",
       "      <td>269790</td>\n",
       "    </tr>\n",
       "    <tr>\n",
       "      <th>3</th>\n",
       "      <td>110</td>\n",
       "      <td>20</td>\n",
       "      <td>RL</td>\n",
       "      <td>105.0</td>\n",
       "      <td>11751</td>\n",
       "      <td>Pave</td>\n",
       "      <td>NaN</td>\n",
       "      <td>IR1</td>\n",
       "      <td>Lvl</td>\n",
       "      <td>AllPub</td>\n",
       "      <td>...</td>\n",
       "      <td>0</td>\n",
       "      <td>NaN</td>\n",
       "      <td>MnPrv</td>\n",
       "      <td>NaN</td>\n",
       "      <td>0</td>\n",
       "      <td>1</td>\n",
       "      <td>2010</td>\n",
       "      <td>COD</td>\n",
       "      <td>Normal</td>\n",
       "      <td>190000</td>\n",
       "    </tr>\n",
       "    <tr>\n",
       "      <th>4</th>\n",
       "      <td>422</td>\n",
       "      <td>20</td>\n",
       "      <td>RL</td>\n",
       "      <td>NaN</td>\n",
       "      <td>16635</td>\n",
       "      <td>Pave</td>\n",
       "      <td>NaN</td>\n",
       "      <td>IR1</td>\n",
       "      <td>Lvl</td>\n",
       "      <td>AllPub</td>\n",
       "      <td>...</td>\n",
       "      <td>0</td>\n",
       "      <td>NaN</td>\n",
       "      <td>NaN</td>\n",
       "      <td>NaN</td>\n",
       "      <td>0</td>\n",
       "      <td>6</td>\n",
       "      <td>2009</td>\n",
       "      <td>WD</td>\n",
       "      <td>Normal</td>\n",
       "      <td>215000</td>\n",
       "    </tr>\n",
       "  </tbody>\n",
       "</table>\n",
       "<p>5 rows × 81 columns</p>\n",
       "</div>"
      ],
      "text/plain": [
       "    Id  MSSubClass MSZoning  LotFrontage  LotArea Street Alley LotShape  \\\n",
       "0  127         120       RL          NaN     4928   Pave   NaN      IR1   \n",
       "1  889          20       RL         95.0    15865   Pave   NaN      IR1   \n",
       "2  793          60       RL         92.0     9920   Pave   NaN      IR1   \n",
       "3  110          20       RL        105.0    11751   Pave   NaN      IR1   \n",
       "4  422          20       RL          NaN    16635   Pave   NaN      IR1   \n",
       "\n",
       "  LandContour Utilities  ... PoolArea PoolQC  Fence MiscFeature MiscVal  \\\n",
       "0         Lvl    AllPub  ...        0    NaN    NaN         NaN       0   \n",
       "1         Lvl    AllPub  ...        0    NaN    NaN         NaN       0   \n",
       "2         Lvl    AllPub  ...        0    NaN    NaN         NaN       0   \n",
       "3         Lvl    AllPub  ...        0    NaN  MnPrv         NaN       0   \n",
       "4         Lvl    AllPub  ...        0    NaN    NaN         NaN       0   \n",
       "\n",
       "  MoSold YrSold  SaleType  SaleCondition  SalePrice  \n",
       "0      2   2007        WD         Normal     128000  \n",
       "1     10   2007        WD         Normal     268000  \n",
       "2      6   2007        WD         Normal     269790  \n",
       "3      1   2010       COD         Normal     190000  \n",
       "4      6   2009        WD         Normal     215000  \n",
       "\n",
       "[5 rows x 81 columns]"
      ]
     },
     "execution_count": 4,
     "metadata": {},
     "output_type": "execute_result"
    }
   ],
   "source": [
    "train.head()"
   ]
  },
  {
   "cell_type": "code",
   "execution_count": 5,
   "metadata": {},
   "outputs": [
    {
     "data": {
      "text/html": [
       "<div>\n",
       "<style scoped>\n",
       "    .dataframe tbody tr th:only-of-type {\n",
       "        vertical-align: middle;\n",
       "    }\n",
       "\n",
       "    .dataframe tbody tr th {\n",
       "        vertical-align: top;\n",
       "    }\n",
       "\n",
       "    .dataframe thead th {\n",
       "        text-align: right;\n",
       "    }\n",
       "</style>\n",
       "<table border=\"1\" class=\"dataframe\">\n",
       "  <thead>\n",
       "    <tr style=\"text-align: right;\">\n",
       "      <th></th>\n",
       "      <th>Id</th>\n",
       "      <th>MSSubClass</th>\n",
       "      <th>LotFrontage</th>\n",
       "      <th>LotArea</th>\n",
       "      <th>OverallQual</th>\n",
       "      <th>OverallCond</th>\n",
       "      <th>YearBuilt</th>\n",
       "      <th>YearRemodAdd</th>\n",
       "      <th>MasVnrArea</th>\n",
       "      <th>BsmtFinSF1</th>\n",
       "      <th>...</th>\n",
       "      <th>WoodDeckSF</th>\n",
       "      <th>OpenPorchSF</th>\n",
       "      <th>EnclosedPorch</th>\n",
       "      <th>3SsnPorch</th>\n",
       "      <th>ScreenPorch</th>\n",
       "      <th>PoolArea</th>\n",
       "      <th>MiscVal</th>\n",
       "      <th>MoSold</th>\n",
       "      <th>YrSold</th>\n",
       "      <th>SalePrice</th>\n",
       "    </tr>\n",
       "  </thead>\n",
       "  <tbody>\n",
       "    <tr>\n",
       "      <th>count</th>\n",
       "      <td>1168.000000</td>\n",
       "      <td>1168.000000</td>\n",
       "      <td>954.00000</td>\n",
       "      <td>1168.000000</td>\n",
       "      <td>1168.000000</td>\n",
       "      <td>1168.000000</td>\n",
       "      <td>1168.000000</td>\n",
       "      <td>1168.000000</td>\n",
       "      <td>1161.000000</td>\n",
       "      <td>1168.000000</td>\n",
       "      <td>...</td>\n",
       "      <td>1168.000000</td>\n",
       "      <td>1168.000000</td>\n",
       "      <td>1168.000000</td>\n",
       "      <td>1168.000000</td>\n",
       "      <td>1168.000000</td>\n",
       "      <td>1168.000000</td>\n",
       "      <td>1168.000000</td>\n",
       "      <td>1168.000000</td>\n",
       "      <td>1168.000000</td>\n",
       "      <td>1168.000000</td>\n",
       "    </tr>\n",
       "    <tr>\n",
       "      <th>mean</th>\n",
       "      <td>724.136130</td>\n",
       "      <td>56.767979</td>\n",
       "      <td>70.98847</td>\n",
       "      <td>10484.749144</td>\n",
       "      <td>6.104452</td>\n",
       "      <td>5.595890</td>\n",
       "      <td>1970.930651</td>\n",
       "      <td>1984.758562</td>\n",
       "      <td>102.310078</td>\n",
       "      <td>444.726027</td>\n",
       "      <td>...</td>\n",
       "      <td>96.206336</td>\n",
       "      <td>46.559932</td>\n",
       "      <td>23.015411</td>\n",
       "      <td>3.639555</td>\n",
       "      <td>15.051370</td>\n",
       "      <td>3.448630</td>\n",
       "      <td>47.315068</td>\n",
       "      <td>6.344178</td>\n",
       "      <td>2007.804795</td>\n",
       "      <td>181477.005993</td>\n",
       "    </tr>\n",
       "    <tr>\n",
       "      <th>std</th>\n",
       "      <td>416.159877</td>\n",
       "      <td>41.940650</td>\n",
       "      <td>24.82875</td>\n",
       "      <td>8957.442311</td>\n",
       "      <td>1.390153</td>\n",
       "      <td>1.124343</td>\n",
       "      <td>30.145255</td>\n",
       "      <td>20.785185</td>\n",
       "      <td>182.595606</td>\n",
       "      <td>462.664785</td>\n",
       "      <td>...</td>\n",
       "      <td>126.158988</td>\n",
       "      <td>66.381023</td>\n",
       "      <td>63.191089</td>\n",
       "      <td>29.088867</td>\n",
       "      <td>55.080816</td>\n",
       "      <td>44.896939</td>\n",
       "      <td>543.264432</td>\n",
       "      <td>2.686352</td>\n",
       "      <td>1.329738</td>\n",
       "      <td>79105.586863</td>\n",
       "    </tr>\n",
       "    <tr>\n",
       "      <th>min</th>\n",
       "      <td>1.000000</td>\n",
       "      <td>20.000000</td>\n",
       "      <td>21.00000</td>\n",
       "      <td>1300.000000</td>\n",
       "      <td>1.000000</td>\n",
       "      <td>1.000000</td>\n",
       "      <td>1875.000000</td>\n",
       "      <td>1950.000000</td>\n",
       "      <td>0.000000</td>\n",
       "      <td>0.000000</td>\n",
       "      <td>...</td>\n",
       "      <td>0.000000</td>\n",
       "      <td>0.000000</td>\n",
       "      <td>0.000000</td>\n",
       "      <td>0.000000</td>\n",
       "      <td>0.000000</td>\n",
       "      <td>0.000000</td>\n",
       "      <td>0.000000</td>\n",
       "      <td>1.000000</td>\n",
       "      <td>2006.000000</td>\n",
       "      <td>34900.000000</td>\n",
       "    </tr>\n",
       "    <tr>\n",
       "      <th>25%</th>\n",
       "      <td>360.500000</td>\n",
       "      <td>20.000000</td>\n",
       "      <td>60.00000</td>\n",
       "      <td>7621.500000</td>\n",
       "      <td>5.000000</td>\n",
       "      <td>5.000000</td>\n",
       "      <td>1954.000000</td>\n",
       "      <td>1966.000000</td>\n",
       "      <td>0.000000</td>\n",
       "      <td>0.000000</td>\n",
       "      <td>...</td>\n",
       "      <td>0.000000</td>\n",
       "      <td>0.000000</td>\n",
       "      <td>0.000000</td>\n",
       "      <td>0.000000</td>\n",
       "      <td>0.000000</td>\n",
       "      <td>0.000000</td>\n",
       "      <td>0.000000</td>\n",
       "      <td>5.000000</td>\n",
       "      <td>2007.000000</td>\n",
       "      <td>130375.000000</td>\n",
       "    </tr>\n",
       "    <tr>\n",
       "      <th>50%</th>\n",
       "      <td>714.500000</td>\n",
       "      <td>50.000000</td>\n",
       "      <td>70.00000</td>\n",
       "      <td>9522.500000</td>\n",
       "      <td>6.000000</td>\n",
       "      <td>5.000000</td>\n",
       "      <td>1972.000000</td>\n",
       "      <td>1993.000000</td>\n",
       "      <td>0.000000</td>\n",
       "      <td>385.500000</td>\n",
       "      <td>...</td>\n",
       "      <td>0.000000</td>\n",
       "      <td>24.000000</td>\n",
       "      <td>0.000000</td>\n",
       "      <td>0.000000</td>\n",
       "      <td>0.000000</td>\n",
       "      <td>0.000000</td>\n",
       "      <td>0.000000</td>\n",
       "      <td>6.000000</td>\n",
       "      <td>2008.000000</td>\n",
       "      <td>163995.000000</td>\n",
       "    </tr>\n",
       "    <tr>\n",
       "      <th>75%</th>\n",
       "      <td>1079.500000</td>\n",
       "      <td>70.000000</td>\n",
       "      <td>80.00000</td>\n",
       "      <td>11515.500000</td>\n",
       "      <td>7.000000</td>\n",
       "      <td>6.000000</td>\n",
       "      <td>2000.000000</td>\n",
       "      <td>2004.000000</td>\n",
       "      <td>160.000000</td>\n",
       "      <td>714.500000</td>\n",
       "      <td>...</td>\n",
       "      <td>171.000000</td>\n",
       "      <td>70.000000</td>\n",
       "      <td>0.000000</td>\n",
       "      <td>0.000000</td>\n",
       "      <td>0.000000</td>\n",
       "      <td>0.000000</td>\n",
       "      <td>0.000000</td>\n",
       "      <td>8.000000</td>\n",
       "      <td>2009.000000</td>\n",
       "      <td>215000.000000</td>\n",
       "    </tr>\n",
       "    <tr>\n",
       "      <th>max</th>\n",
       "      <td>1460.000000</td>\n",
       "      <td>190.000000</td>\n",
       "      <td>313.00000</td>\n",
       "      <td>164660.000000</td>\n",
       "      <td>10.000000</td>\n",
       "      <td>9.000000</td>\n",
       "      <td>2010.000000</td>\n",
       "      <td>2010.000000</td>\n",
       "      <td>1600.000000</td>\n",
       "      <td>5644.000000</td>\n",
       "      <td>...</td>\n",
       "      <td>857.000000</td>\n",
       "      <td>547.000000</td>\n",
       "      <td>552.000000</td>\n",
       "      <td>508.000000</td>\n",
       "      <td>480.000000</td>\n",
       "      <td>738.000000</td>\n",
       "      <td>15500.000000</td>\n",
       "      <td>12.000000</td>\n",
       "      <td>2010.000000</td>\n",
       "      <td>755000.000000</td>\n",
       "    </tr>\n",
       "  </tbody>\n",
       "</table>\n",
       "<p>8 rows × 38 columns</p>\n",
       "</div>"
      ],
      "text/plain": [
       "                Id   MSSubClass  LotFrontage        LotArea  OverallQual  \\\n",
       "count  1168.000000  1168.000000    954.00000    1168.000000  1168.000000   \n",
       "mean    724.136130    56.767979     70.98847   10484.749144     6.104452   \n",
       "std     416.159877    41.940650     24.82875    8957.442311     1.390153   \n",
       "min       1.000000    20.000000     21.00000    1300.000000     1.000000   \n",
       "25%     360.500000    20.000000     60.00000    7621.500000     5.000000   \n",
       "50%     714.500000    50.000000     70.00000    9522.500000     6.000000   \n",
       "75%    1079.500000    70.000000     80.00000   11515.500000     7.000000   \n",
       "max    1460.000000   190.000000    313.00000  164660.000000    10.000000   \n",
       "\n",
       "       OverallCond    YearBuilt  YearRemodAdd   MasVnrArea   BsmtFinSF1  ...  \\\n",
       "count  1168.000000  1168.000000   1168.000000  1161.000000  1168.000000  ...   \n",
       "mean      5.595890  1970.930651   1984.758562   102.310078   444.726027  ...   \n",
       "std       1.124343    30.145255     20.785185   182.595606   462.664785  ...   \n",
       "min       1.000000  1875.000000   1950.000000     0.000000     0.000000  ...   \n",
       "25%       5.000000  1954.000000   1966.000000     0.000000     0.000000  ...   \n",
       "50%       5.000000  1972.000000   1993.000000     0.000000   385.500000  ...   \n",
       "75%       6.000000  2000.000000   2004.000000   160.000000   714.500000  ...   \n",
       "max       9.000000  2010.000000   2010.000000  1600.000000  5644.000000  ...   \n",
       "\n",
       "        WoodDeckSF  OpenPorchSF  EnclosedPorch    3SsnPorch  ScreenPorch  \\\n",
       "count  1168.000000  1168.000000    1168.000000  1168.000000  1168.000000   \n",
       "mean     96.206336    46.559932      23.015411     3.639555    15.051370   \n",
       "std     126.158988    66.381023      63.191089    29.088867    55.080816   \n",
       "min       0.000000     0.000000       0.000000     0.000000     0.000000   \n",
       "25%       0.000000     0.000000       0.000000     0.000000     0.000000   \n",
       "50%       0.000000    24.000000       0.000000     0.000000     0.000000   \n",
       "75%     171.000000    70.000000       0.000000     0.000000     0.000000   \n",
       "max     857.000000   547.000000     552.000000   508.000000   480.000000   \n",
       "\n",
       "          PoolArea       MiscVal       MoSold       YrSold      SalePrice  \n",
       "count  1168.000000   1168.000000  1168.000000  1168.000000    1168.000000  \n",
       "mean      3.448630     47.315068     6.344178  2007.804795  181477.005993  \n",
       "std      44.896939    543.264432     2.686352     1.329738   79105.586863  \n",
       "min       0.000000      0.000000     1.000000  2006.000000   34900.000000  \n",
       "25%       0.000000      0.000000     5.000000  2007.000000  130375.000000  \n",
       "50%       0.000000      0.000000     6.000000  2008.000000  163995.000000  \n",
       "75%       0.000000      0.000000     8.000000  2009.000000  215000.000000  \n",
       "max     738.000000  15500.000000    12.000000  2010.000000  755000.000000  \n",
       "\n",
       "[8 rows x 38 columns]"
      ]
     },
     "execution_count": 5,
     "metadata": {},
     "output_type": "execute_result"
    }
   ],
   "source": [
    "# Get a rough overview of the training data\n",
    "train.describe()"
   ]
  },
  {
   "cell_type": "code",
   "execution_count": 6,
   "metadata": {},
   "outputs": [
    {
     "name": "stdout",
     "output_type": "stream",
     "text": [
      "<class 'pandas.core.frame.DataFrame'>\n",
      "RangeIndex: 1168 entries, 0 to 1167\n",
      "Data columns (total 81 columns):\n",
      " #   Column         Non-Null Count  Dtype  \n",
      "---  ------         --------------  -----  \n",
      " 0   Id             1168 non-null   int64  \n",
      " 1   MSSubClass     1168 non-null   int64  \n",
      " 2   MSZoning       1168 non-null   object \n",
      " 3   LotFrontage    954 non-null    float64\n",
      " 4   LotArea        1168 non-null   int64  \n",
      " 5   Street         1168 non-null   object \n",
      " 6   Alley          77 non-null     object \n",
      " 7   LotShape       1168 non-null   object \n",
      " 8   LandContour    1168 non-null   object \n",
      " 9   Utilities      1168 non-null   object \n",
      " 10  LotConfig      1168 non-null   object \n",
      " 11  LandSlope      1168 non-null   object \n",
      " 12  Neighborhood   1168 non-null   object \n",
      " 13  Condition1     1168 non-null   object \n",
      " 14  Condition2     1168 non-null   object \n",
      " 15  BldgType       1168 non-null   object \n",
      " 16  HouseStyle     1168 non-null   object \n",
      " 17  OverallQual    1168 non-null   int64  \n",
      " 18  OverallCond    1168 non-null   int64  \n",
      " 19  YearBuilt      1168 non-null   int64  \n",
      " 20  YearRemodAdd   1168 non-null   int64  \n",
      " 21  RoofStyle      1168 non-null   object \n",
      " 22  RoofMatl       1168 non-null   object \n",
      " 23  Exterior1st    1168 non-null   object \n",
      " 24  Exterior2nd    1168 non-null   object \n",
      " 25  MasVnrType     1161 non-null   object \n",
      " 26  MasVnrArea     1161 non-null   float64\n",
      " 27  ExterQual      1168 non-null   object \n",
      " 28  ExterCond      1168 non-null   object \n",
      " 29  Foundation     1168 non-null   object \n",
      " 30  BsmtQual       1138 non-null   object \n",
      " 31  BsmtCond       1138 non-null   object \n",
      " 32  BsmtExposure   1137 non-null   object \n",
      " 33  BsmtFinType1   1138 non-null   object \n",
      " 34  BsmtFinSF1     1168 non-null   int64  \n",
      " 35  BsmtFinType2   1137 non-null   object \n",
      " 36  BsmtFinSF2     1168 non-null   int64  \n",
      " 37  BsmtUnfSF      1168 non-null   int64  \n",
      " 38  TotalBsmtSF    1168 non-null   int64  \n",
      " 39  Heating        1168 non-null   object \n",
      " 40  HeatingQC      1168 non-null   object \n",
      " 41  CentralAir     1168 non-null   object \n",
      " 42  Electrical     1168 non-null   object \n",
      " 43  1stFlrSF       1168 non-null   int64  \n",
      " 44  2ndFlrSF       1168 non-null   int64  \n",
      " 45  LowQualFinSF   1168 non-null   int64  \n",
      " 46  GrLivArea      1168 non-null   int64  \n",
      " 47  BsmtFullBath   1168 non-null   int64  \n",
      " 48  BsmtHalfBath   1168 non-null   int64  \n",
      " 49  FullBath       1168 non-null   int64  \n",
      " 50  HalfBath       1168 non-null   int64  \n",
      " 51  BedroomAbvGr   1168 non-null   int64  \n",
      " 52  KitchenAbvGr   1168 non-null   int64  \n",
      " 53  KitchenQual    1168 non-null   object \n",
      " 54  TotRmsAbvGrd   1168 non-null   int64  \n",
      " 55  Functional     1168 non-null   object \n",
      " 56  Fireplaces     1168 non-null   int64  \n",
      " 57  FireplaceQu    617 non-null    object \n",
      " 58  GarageType     1104 non-null   object \n",
      " 59  GarageYrBlt    1104 non-null   float64\n",
      " 60  GarageFinish   1104 non-null   object \n",
      " 61  GarageCars     1168 non-null   int64  \n",
      " 62  GarageArea     1168 non-null   int64  \n",
      " 63  GarageQual     1104 non-null   object \n",
      " 64  GarageCond     1104 non-null   object \n",
      " 65  PavedDrive     1168 non-null   object \n",
      " 66  WoodDeckSF     1168 non-null   int64  \n",
      " 67  OpenPorchSF    1168 non-null   int64  \n",
      " 68  EnclosedPorch  1168 non-null   int64  \n",
      " 69  3SsnPorch      1168 non-null   int64  \n",
      " 70  ScreenPorch    1168 non-null   int64  \n",
      " 71  PoolArea       1168 non-null   int64  \n",
      " 72  PoolQC         7 non-null      object \n",
      " 73  Fence          237 non-null    object \n",
      " 74  MiscFeature    44 non-null     object \n",
      " 75  MiscVal        1168 non-null   int64  \n",
      " 76  MoSold         1168 non-null   int64  \n",
      " 77  YrSold         1168 non-null   int64  \n",
      " 78  SaleType       1168 non-null   object \n",
      " 79  SaleCondition  1168 non-null   object \n",
      " 80  SalePrice      1168 non-null   int64  \n",
      "dtypes: float64(3), int64(35), object(43)\n",
      "memory usage: 739.2+ KB\n"
     ]
    }
   ],
   "source": [
    "# Get a look at the column names and object types\n",
    "train.info()"
   ]
  },
  {
   "cell_type": "markdown",
   "metadata": {},
   "source": [
    "We don't need the Id column for the Training Set so we drop it (it'd act as an unnecessary feature otherwise)."
   ]
  },
  {
   "cell_type": "code",
   "execution_count": 7,
   "metadata": {},
   "outputs": [],
   "source": [
    "# Drop the ID column\n",
    "train.drop('Id', axis=1, inplace=True)"
   ]
  },
  {
   "cell_type": "code",
   "execution_count": 9,
   "metadata": {},
   "outputs": [],
   "source": [
    "# Collect the names of the Categorical and Numeric Variables seperately\n",
    "num_columns = train.select_dtypes(include=np.number).columns.tolist()\n",
    "num_columns.remove(\"SalePrice\") # Capturing feature names exclusively\n",
    "cat_columns = train.select_dtypes(exclude=np.number).columns.tolist()"
   ]
  },
  {
   "cell_type": "markdown",
   "metadata": {},
   "source": [
    "Other than collecting the names of features based on what kind of data they store, we can also find a number of features with similar names. Specifically there are four keywords that are repeated a few times so they may require similar Engineering or special treatment."
   ]
  },
  {
   "cell_type": "code",
   "execution_count": 10,
   "metadata": {},
   "outputs": [
    {
     "name": "stdout",
     "output_type": "stream",
     "text": [
      "Looking for highly similar variable names\n",
      "------------------------------------------------------------\n",
      "BsmtFinSF1\n",
      "BsmtFinSF2\n",
      "BsmtUnfSF\n",
      "TotalBsmtSF\n",
      "BsmtFullBath\n",
      "BsmtHalfBath\n",
      "KitchenAbvGr\n",
      "GarageYrBlt\n",
      "GarageCars\n",
      "GarageArea\n",
      "BsmtQual\n",
      "BsmtCond\n",
      "BsmtExposure\n",
      "BsmtFinType1\n",
      "BsmtFinType2\n",
      "KitchenQual\n",
      "GarageType\n",
      "GarageFinish\n",
      "GarageQual\n",
      "GarageCond\n",
      "SaleType\n",
      "SaleCondition\n"
     ]
    }
   ],
   "source": [
    "# Explore Categorical Columns\n",
    "# Explore overlapping variable names\n",
    "repetitive = [\"Bsmt\", \"Garage\", \"Sale\", \"Kitchen\"]\n",
    "similar_cols = []\n",
    "print(\"Looking for highly similar variable names\")\n",
    "print('--'*30)\n",
    "for col in (num_columns + cat_columns):\n",
    "    if any(x in col for x in repetitive):\n",
    "        print(col)\n",
    "        similar_cols.append(col)\n"
   ]
  },
  {
   "cell_type": "markdown",
   "metadata": {},
   "source": [
    "The Cardinality of a Feature refers to the number of Unique Values in that set. We should be on the lookout for:\n",
    "\n",
    "-High Cardinality Categorical Variables: for example, if Zipcodes were not stored as numbers, it could cause a Transformer like OneHotEncoder to explode\n",
    "-Low Cardinality Numeric Variables: for instance, if a feature had values [1,2,3,4,5], we could create new useful features out of it"
   ]
  },
  {
   "cell_type": "code",
   "execution_count": 11,
   "metadata": {},
   "outputs": [
    {
     "name": "stdout",
     "output_type": "stream",
     "text": [
      "Looking at Categorical Variable Cardinalities\n",
      "------------------------------------------------------------\n",
      "5 values in MSZoning: ['RL' 'RM' 'FV' 'RH' 'C (all)']\n",
      "2 values in Street: ['Pave' 'Grvl']\n",
      "3 values in Alley: [nan 'Grvl' 'Pave']\n",
      "4 values in LotShape: ['IR1' 'Reg' 'IR2' 'IR3']\n",
      "4 values in LandContour: ['Lvl' 'Bnk' 'HLS' 'Low']\n",
      "1 values in Utilities: ['AllPub']\n",
      "5 values in LotConfig: ['Inside' 'CulDSac' 'FR2' 'Corner' 'FR3']\n",
      "3 values in LandSlope: ['Gtl' 'Mod' 'Sev']\n",
      "25 values in Neighborhood\n",
      "9 values in Condition1: ['Norm' 'Feedr' 'RRAn' 'PosA' 'RRAe' 'Artery' 'PosN' 'RRNe' 'RRNn']\n",
      "8 values in Condition2: ['Norm' 'RRAe' 'Feedr' 'PosN' 'Artery' 'RRNn' 'PosA' 'RRAn']\n",
      "5 values in BldgType: ['TwnhsE' '1Fam' 'Duplex' 'Twnhs' '2fmCon']\n",
      "8 values in HouseStyle: ['1Story' '2Story' '1.5Fin' 'SFoyer' '1.5Unf' 'SLvl' '2.5Fin' '2.5Unf']\n",
      "6 values in RoofStyle: ['Gable' 'Flat' 'Hip' 'Shed' 'Gambrel' 'Mansard']\n",
      "8 values in RoofMatl: ['CompShg' 'Tar&Grv' 'WdShngl' 'WdShake' 'Roll' 'ClyTile' 'Metal'\n",
      " 'Membran']\n",
      "14 values in Exterior1st\n",
      "15 values in Exterior2nd\n",
      "5 values in MasVnrType: ['None' 'BrkFace' 'Stone' 'BrkCmn' nan]\n",
      "4 values in ExterQual: ['TA' 'Gd' 'Ex' 'Fa']\n",
      "5 values in ExterCond: ['TA' 'Gd' 'Fa' 'Po' 'Ex']\n",
      "6 values in Foundation: ['CBlock' 'PConc' 'BrkTil' 'Slab' 'Stone' 'Wood']\n",
      "5 values in BsmtQual: ['Gd' 'TA' 'Ex' nan 'Fa']\n",
      "5 values in BsmtCond: ['TA' 'Gd' 'Fa' nan 'Po']\n",
      "5 values in BsmtExposure: ['No' 'Gd' 'Av' 'Mn' nan]\n",
      "7 values in BsmtFinType1: ['ALQ' 'GLQ' 'BLQ' 'Unf' 'Rec' 'LwQ' nan]\n",
      "7 values in BsmtFinType2: ['Unf' 'Rec' 'BLQ' 'GLQ' nan 'ALQ' 'LwQ']\n",
      "6 values in Heating: ['GasA' 'GasW' 'Floor' 'OthW' 'Wall' 'Grav']\n",
      "5 values in HeatingQC: ['TA' 'Ex' 'Gd' 'Fa' 'Po']\n",
      "2 values in CentralAir: ['Y' 'N']\n",
      "5 values in Electrical: ['SBrkr' 'FuseA' 'FuseF' 'FuseP' 'Mix']\n",
      "4 values in KitchenQual: ['TA' 'Gd' 'Ex' 'Fa']\n",
      "7 values in Functional: ['Typ' 'Mod' 'Maj1' 'Min1' 'Min2' 'Sev' 'Maj2']\n",
      "6 values in FireplaceQu: ['TA' 'Gd' nan 'Fa' 'Ex' 'Po']\n",
      "7 values in GarageType: ['Attchd' 'BuiltIn' 'Detchd' 'Basment' nan '2Types' 'CarPort']\n",
      "4 values in GarageFinish: ['RFn' 'Unf' 'Fin' nan]\n",
      "6 values in GarageQual: ['TA' 'Fa' nan 'Gd' 'Ex' 'Po']\n",
      "6 values in GarageCond: ['TA' 'Fa' 'Gd' nan 'Po' 'Ex']\n",
      "3 values in PavedDrive: ['Y' 'N' 'P']\n",
      "4 values in PoolQC: [nan 'Ex' 'Gd' 'Fa']\n",
      "5 values in Fence: [nan 'MnPrv' 'GdPrv' 'GdWo' 'MnWw']\n",
      "5 values in MiscFeature: [nan 'Shed' 'Gar2' 'TenC' 'Othr']\n",
      "9 values in SaleType: ['WD' 'COD' 'New' 'ConLI' 'ConLw' 'Con' 'ConLD' 'Oth' 'CWD']\n",
      "6 values in SaleCondition: ['Normal' 'Partial' 'Abnorml' 'Family' 'Alloca' 'AdjLand']\n"
     ]
    }
   ],
   "source": [
    "# Check the cardinality of each of these variables\n",
    "print(\"Looking at Categorical Variable Cardinalities\")\n",
    "print('--'*30)\n",
    "for col in cat_columns:\n",
    "    uniques = train[col].unique()\n",
    "    if len(uniques) > 10:\n",
    "        print(f\"{len(uniques)} values in {col}\")\n",
    "    else:\n",
    "        print(f\"{len(uniques)} values in {col}: {uniques}\")"
   ]
  },
  {
   "cell_type": "code",
   "execution_count": 12,
   "metadata": {},
   "outputs": [
    {
     "name": "stdout",
     "output_type": "stream",
     "text": [
      "Checking for Low Cardinality Numeric Variables\n",
      "------------------------------------------------------------\n",
      "15 unique values in MSSubClass: [20, 30, 40, 45, 50, 60, 70, 75, 80, 85, 90, 120, 160, 180, 190]\n",
      "10 unique values in OverallQual: [1, 2, 3, 4, 5, 6, 7, 8, 9, 10]\n",
      "9 unique values in OverallCond: [1, 2, 3, 4, 5, 6, 7, 8, 9]\n",
      "4 unique values in BsmtFullBath: [0, 1, 2, 3]\n",
      "3 unique values in BsmtHalfBath: [0, 1, 2]\n",
      "4 unique values in FullBath: [0, 1, 2, 3]\n",
      "3 unique values in HalfBath: [0, 1, 2]\n",
      "8 unique values in BedroomAbvGr: [0, 1, 2, 3, 4, 5, 6, 8]\n",
      "4 unique values in KitchenAbvGr: [0, 1, 2, 3]\n",
      "12 unique values in TotRmsAbvGrd: [2, 3, 4, 5, 6, 7, 8, 9, 10, 11, 12, 14]\n",
      "4 unique values in Fireplaces: [0, 1, 2, 3]\n",
      "5 unique values in GarageCars: [0, 1, 2, 3, 4]\n",
      "18 unique values in 3SsnPorch: [0, 23, 96, 130, 140, 144, 153, 162, 168, 180, 182, 196, 216, 238, 245, 290, 304, 508]\n",
      "8 unique values in PoolArea: [0, 480, 512, 519, 555, 576, 648, 738]\n",
      "12 unique values in MoSold: [1, 2, 3, 4, 5, 6, 7, 8, 9, 10, 11, 12]\n",
      "5 unique values in YrSold: [2006, 2007, 2008, 2009, 2010]\n"
     ]
    }
   ],
   "source": [
    "# Are there any low cardinality numeric variables?\n",
    "print(\"Checking for Low Cardinality Numeric Variables\")\n",
    "print(\"--\"*30)\n",
    "for col in num_columns:\n",
    "    uniques = train[col].unique()\n",
    "    if len(uniques) < 20:\n",
    "        print(f\"{len(uniques)} unique values in {col}: {sorted(uniques)}\")"
   ]
  },
  {
   "cell_type": "raw",
   "metadata": {},
   "source": [
    "Even though some features like YrSold are discrete enough to become Categorical Variables, we can leave them this way since their hierarchy being preserved makes sense.\n",
    "\n",
    "Exploring the Linear Correlation between Features is helpful since it can\n",
    "\n",
    "-Highlight which features look to be the most useful for predicting the target variable\n",
    "-Shed some light on which features are highly correlated together in which case they could be mutually redundant (this helps in Feature Selection)"
   ]
  },
  {
   "cell_type": "code",
   "execution_count": 13,
   "metadata": {},
   "outputs": [
    {
     "data": {
      "text/plain": [
       "<AxesSubplot:>"
      ]
     },
     "execution_count": 13,
     "metadata": {},
     "output_type": "execute_result"
    },
    {
     "data": {
      "image/png": "[encoded data removed]",
      "text/plain": [
       "<Figure size 864x576 with 2 Axes>"
      ]
     },
     "metadata": {
      "needs_background": "light"
     },
     "output_type": "display_data"
    }
   ],
   "source": [
    "# Explore which numeric columns have high linear correlation\n",
    "corr_matrix = train.corr()\n",
    "plt.figure(figsize=(12,8))\n",
    "sns.heatmap(corr_matrix, cmap='Blues')"
   ]
  },
  {
   "cell_type": "code",
   "execution_count": 14,
   "metadata": {},
   "outputs": [
    {
     "data": {
      "text/plain": [
       "SalePrice        1.000000\n",
       "OverallQual      0.789185\n",
       "GrLivArea        0.707300\n",
       "GarageCars       0.628329\n",
       "GarageArea       0.619000\n",
       "TotalBsmtSF      0.595042\n",
       "1stFlrSF         0.587642\n",
       "FullBath         0.554988\n",
       "TotRmsAbvGrd     0.528363\n",
       "YearBuilt        0.514408\n",
       "YearRemodAdd     0.507831\n",
       "GarageYrBlt      0.474346\n",
       "MasVnrArea       0.466386\n",
       "Fireplaces       0.459611\n",
       "BsmtFinSF1       0.362874\n",
       "LotFrontage      0.341294\n",
       "OpenPorchSF      0.339500\n",
       "2ndFlrSF         0.330386\n",
       "WoodDeckSF       0.315444\n",
       "HalfBath         0.295592\n",
       "LotArea          0.249499\n",
       "BsmtUnfSF        0.215724\n",
       "BsmtFullBath     0.212924\n",
       "BedroomAbvGr     0.158281\n",
       "KitchenAbvGr     0.132108\n",
       "EnclosedPorch    0.115004\n",
       "PoolArea         0.103280\n",
       "ScreenPorch      0.100284\n",
       "MoSold           0.072764\n",
       "OverallCond      0.065642\n",
       "MSSubClass       0.060775\n",
       "3SsnPorch        0.060119\n",
       "YrSold           0.045508\n",
       "LowQualFinSF     0.032381\n",
       "MiscVal          0.013071\n",
       "BsmtHalfBath     0.011109\n",
       "BsmtFinSF2       0.010151\n",
       "Name: SalePrice, dtype: float64"
      ]
     },
     "execution_count": 14,
     "metadata": {},
     "output_type": "execute_result"
    }
   ],
   "source": [
    "# Sort the highest linear correlations with target variable\n",
    "target_var = \"SalePrice\"\n",
    "corr_matrix[target_var].apply(lambda x: abs(x)).sort_values(ascending=False)"
   ]
  },
  {
   "cell_type": "markdown",
   "metadata": {},
   "source": [
    "We find that the two features OverallQual and GrLivArea are the most linearly correlated with our target so we can choose to explore them a bit further."
   ]
  },
  {
   "cell_type": "code",
   "execution_count": 15,
   "metadata": {},
   "outputs": [
    {
     "data": {
      "text/plain": [
       "<AxesSubplot:xlabel='OverallQual', ylabel='SalePrice'>"
      ]
     },
     "execution_count": 15,
     "metadata": {},
     "output_type": "execute_result"
    },
    {
     "data": {
      "image/png": "[encoded data removed]",
      "text/plain": [
       "<Figure size 432x288 with 1 Axes>"
      ]
     },
     "metadata": {
      "needs_background": "light"
     },
     "output_type": "display_data"
    }
   ],
   "source": [
    "# Explore the second variable (notice the significant Linear Correlation)\n",
    "sns.scatterplot(x=\"OverallQual\", y=\"SalePrice\", data=train)"
   ]
  },
  {
   "cell_type": "raw",
   "metadata": {},
   "source": [
    "The following cells explore the distribution of the Target Variable and it can be seen that it is left-skewed and has Outliers (as seen from the Percentiles and the critical values). Some ways to deal with such distributions are to:\n",
    "\n",
    "-Perform a logarithmic transformation on the values (Normalization and Standardization do not alter the skewness, just the scale)\n",
    "-Explore the Percentiles to come up with some upper/lower thresholds beyond which the values are set to something more common (Boxplots also help here)\n",
    "\n",
    "We use a Log Transform here: it is simple and the resulting distribution is visually very similar to a Gaussian."
   ]
  },
  {
   "cell_type": "code",
   "execution_count": 16,
   "metadata": {},
   "outputs": [
    {
     "data": {
      "text/plain": [
       "<AxesSubplot:xlabel='SalePrice', ylabel='Density'>"
      ]
     },
     "execution_count": 16,
     "metadata": {},
     "output_type": "execute_result"
    },
    {
     "data": {
      "image/png": "[encoded data removed]",
      "text/plain": [
       "<Figure size 432x288 with 1 Axes>"
      ]
     },
     "metadata": {
      "needs_background": "light"
     },
     "output_type": "display_data"
    }
   ],
   "source": [
    "# Explore the Distribution of the Target Variable\n",
    "sns.distplot(train[target_var])"
   ]
  },
  {
   "cell_type": "code",
   "execution_count": 17,
   "metadata": {},
   "outputs": [
    {
     "name": "stdout",
     "output_type": "stream",
     "text": [
      "95% of the target values lie under: 325000\n",
      "96% of the target values lie under: 339830\n",
      "97% of the target values lie under: 361899\n",
      "98% of the target values lie under: 392330\n",
      "99% of the target values lie under: 443943\n",
      "Critical Values:\n",
      "\tMax:755000\n",
      "\tMin:34900\n"
     ]
    }
   ],
   "source": [
    "# Where do most values lie under? Explore the Percentiles.\n",
    "for i in range(95,100):\n",
    "    print(f\"{i}% of the target values lie under: {int(np.percentile(train[target_var], i))}\")\n",
    "print(f\"Critical Values:\\n\\tMax:{train[target_var].max()}\\n\\tMin:{train[target_var].min()}\")"
   ]
  },
  {
   "cell_type": "code",
   "execution_count": 18,
   "metadata": {},
   "outputs": [],
   "source": [
    "# We can get rid of Outliers by setting some thresholds\n",
    "upper_thresh = 38500\n",
    "train[train[target_var] > upper_thresh][target_var] = upper_thresh"
   ]
  },
  {
   "cell_type": "code",
   "execution_count": 20,
   "metadata": {},
   "outputs": [
    {
     "name": "stdout",
     "output_type": "stream",
     "text": [
      "Before Log Transform: Skewness 1.951367548938153\n",
      "After Log Transform: Skewness 0.07351540489641191\n",
      "Applying Inverse Transformation: Skewness 1.9513675489381535\n",
      "Final Skewness: 0.07351540489641191\n"
     ]
    },
    {
     "data": {
      "text/plain": [
       "<AxesSubplot:xlabel='SalePrice', ylabel='Density'>"
      ]
     },
     "execution_count": 20,
     "metadata": {},
     "output_type": "execute_result"
    },
    {
     "data": {
      "image/png": "[encoded data removed]",
      "text/plain": [
       "<Figure size 432x288 with 1 Axes>"
      ]
     },
     "metadata": {
      "needs_background": "light"
     },
     "output_type": "display_data"
    }
   ],
   "source": [
    "# Log Transform to reduce skewness of the Target Distribution\n",
    "from scipy import stats\n",
    "\n",
    "print(f\"Before Log Transform: Skewness {stats.skew(train.SalePrice)}\")\n",
    "train[\"SalePrice\"] = np.log1p(train[\"SalePrice\"])\n",
    "print(f\"After Log Transform: Skewness {stats.skew(train.SalePrice)}\")\n",
    "# y = np.expm1(y)\n",
    "print(f\"Applying Inverse Transformation: Skewness {stats.skew(np.expm1(train.SalePrice))}\") \n",
    "print(f\"Final Skewness: {stats.skew(train.SalePrice)}\")\n",
    "sns.distplot(train[\"SalePrice\"])"
   ]
  },
  {
   "cell_type": "code",
   "execution_count": 22,
   "metadata": {},
   "outputs": [
    {
     "data": {
      "text/plain": [
       "((1168, 79), (1168,))"
      ]
     },
     "execution_count": 22,
     "metadata": {},
     "output_type": "execute_result"
    }
   ],
   "source": [
    "X = train.drop(target_var, axis=1)\n",
    "y = train[target_var]\n",
    "X.shape, y.shape"
   ]
  },
  {
   "cell_type": "raw",
   "metadata": {},
   "source": [
    "The only two necessary steps for preparing Data for Modeling are:\n",
    "\n",
    "1. Dealing with Missing values (nan)\n",
    "2. Finding some numerical representation for Categorical/Non-numeric Variables\n",
    "\n",
    "In Data Cleaning, the focus is on the first step."
   ]
  },
  {
   "cell_type": "code",
   "execution_count": 24,
   "metadata": {},
   "outputs": [
    {
     "data": {
      "text/plain": [
       "<AxesSubplot:>"
      ]
     },
     "execution_count": 24,
     "metadata": {},
     "output_type": "execute_result"
    },
    {
     "data": {
      "image/png": "[encoded data removed]",
      "text/plain": [
       "<Figure size 864x576 with 1 Axes>"
      ]
     },
     "metadata": {
      "needs_background": "light"
     },
     "output_type": "display_data"
    }
   ],
   "source": [
    "# Get a visual of how many values are missing\n",
    "missing_count = X.isnull().sum()\n",
    "missing_count = missing_count[missing_count > 0]\n",
    "missing_cols = pd.DataFrame(missing_count).index.tolist()\n",
    "plt.figure(figsize=(12,8))\n",
    "sns.heatmap(X[missing_cols].isnull(), cmap='viridis', cbar=False)"
   ]
  },
  {
   "cell_type": "code",
   "execution_count": 25,
   "metadata": {},
   "outputs": [
    {
     "data": {
      "text/plain": [
       "PoolQC          99.400685\n",
       "MiscFeature     96.232877\n",
       "Alley           93.407534\n",
       "Fence           79.708904\n",
       "FireplaceQu     47.174658\n",
       "LotFrontage     18.321918\n",
       "GarageYrBlt      5.479452\n",
       "GarageType       5.479452\n",
       "GarageFinish     5.479452\n",
       "GarageQual       5.479452\n",
       "GarageCond       5.479452\n",
       "BsmtExposure     2.654110\n",
       "BsmtFinType2     2.654110\n",
       "BsmtFinType1     2.568493\n",
       "BsmtCond         2.568493\n",
       "BsmtQual         2.568493\n",
       "MasVnrArea       0.599315\n",
       "MasVnrType       0.599315\n",
       "dtype: float64"
      ]
     },
     "execution_count": 25,
     "metadata": {},
     "output_type": "execute_result"
    }
   ],
   "source": [
    "# Get actual numbers \n",
    "missing_count.sort_values(ascending=False) / len(X) * 100"
   ]
  },
  {
   "cell_type": "markdown",
   "metadata": {},
   "source": [
    "The variable PoolQC has enough values that we could be lazy and drop the entire column, but it may be of benefit to us if we fill the missing values with 0 since the values may just not exist.\n",
    "\n",
    "We can apply similar thinking to the features related to the Garage and Basements of these houses."
   ]
  },
  {
   "cell_type": "code",
   "execution_count": 26,
   "metadata": {},
   "outputs": [
    {
     "name": "stdout",
     "output_type": "stream",
     "text": [
      "LotFrontage     float64\n",
      "Alley            object\n",
      "MasVnrType       object\n",
      "MasVnrArea      float64\n",
      "BsmtQual         object\n",
      "BsmtCond         object\n",
      "BsmtExposure     object\n",
      "BsmtFinType1     object\n",
      "BsmtFinType2     object\n",
      "FireplaceQu      object\n",
      "GarageType       object\n",
      "GarageYrBlt     float64\n",
      "GarageFinish     object\n",
      "GarageQual       object\n",
      "GarageCond       object\n",
      "PoolQC           object\n",
      "Fence            object\n",
      "MiscFeature      object\n",
      "dtype: object\n"
     ]
    },
    {
     "data": {
      "text/html": [
       "<div>\n",
       "<style scoped>\n",
       "    .dataframe tbody tr th:only-of-type {\n",
       "        vertical-align: middle;\n",
       "    }\n",
       "\n",
       "    .dataframe tbody tr th {\n",
       "        vertical-align: top;\n",
       "    }\n",
       "\n",
       "    .dataframe thead th {\n",
       "        text-align: right;\n",
       "    }\n",
       "</style>\n",
       "<table border=\"1\" class=\"dataframe\">\n",
       "  <thead>\n",
       "    <tr style=\"text-align: right;\">\n",
       "      <th></th>\n",
       "      <th>LotFrontage</th>\n",
       "      <th>Alley</th>\n",
       "      <th>MasVnrType</th>\n",
       "      <th>MasVnrArea</th>\n",
       "      <th>BsmtQual</th>\n",
       "      <th>BsmtCond</th>\n",
       "      <th>BsmtExposure</th>\n",
       "      <th>BsmtFinType1</th>\n",
       "      <th>BsmtFinType2</th>\n",
       "      <th>FireplaceQu</th>\n",
       "      <th>GarageType</th>\n",
       "      <th>GarageYrBlt</th>\n",
       "      <th>GarageFinish</th>\n",
       "      <th>GarageQual</th>\n",
       "      <th>GarageCond</th>\n",
       "      <th>PoolQC</th>\n",
       "      <th>Fence</th>\n",
       "      <th>MiscFeature</th>\n",
       "    </tr>\n",
       "  </thead>\n",
       "  <tbody>\n",
       "    <tr>\n",
       "      <th>0</th>\n",
       "      <td>NaN</td>\n",
       "      <td>NaN</td>\n",
       "      <td>None</td>\n",
       "      <td>0.0</td>\n",
       "      <td>Gd</td>\n",
       "      <td>TA</td>\n",
       "      <td>No</td>\n",
       "      <td>ALQ</td>\n",
       "      <td>Unf</td>\n",
       "      <td>TA</td>\n",
       "      <td>Attchd</td>\n",
       "      <td>1977.0</td>\n",
       "      <td>RFn</td>\n",
       "      <td>TA</td>\n",
       "      <td>TA</td>\n",
       "      <td>NaN</td>\n",
       "      <td>NaN</td>\n",
       "      <td>NaN</td>\n",
       "    </tr>\n",
       "    <tr>\n",
       "      <th>1</th>\n",
       "      <td>95.0</td>\n",
       "      <td>NaN</td>\n",
       "      <td>None</td>\n",
       "      <td>0.0</td>\n",
       "      <td>TA</td>\n",
       "      <td>Gd</td>\n",
       "      <td>Gd</td>\n",
       "      <td>ALQ</td>\n",
       "      <td>Rec</td>\n",
       "      <td>TA</td>\n",
       "      <td>Attchd</td>\n",
       "      <td>1970.0</td>\n",
       "      <td>Unf</td>\n",
       "      <td>TA</td>\n",
       "      <td>TA</td>\n",
       "      <td>NaN</td>\n",
       "      <td>NaN</td>\n",
       "      <td>NaN</td>\n",
       "    </tr>\n",
       "    <tr>\n",
       "      <th>2</th>\n",
       "      <td>92.0</td>\n",
       "      <td>NaN</td>\n",
       "      <td>None</td>\n",
       "      <td>0.0</td>\n",
       "      <td>Gd</td>\n",
       "      <td>TA</td>\n",
       "      <td>Av</td>\n",
       "      <td>GLQ</td>\n",
       "      <td>Unf</td>\n",
       "      <td>TA</td>\n",
       "      <td>Attchd</td>\n",
       "      <td>1997.0</td>\n",
       "      <td>Unf</td>\n",
       "      <td>TA</td>\n",
       "      <td>TA</td>\n",
       "      <td>NaN</td>\n",
       "      <td>NaN</td>\n",
       "      <td>NaN</td>\n",
       "    </tr>\n",
       "    <tr>\n",
       "      <th>3</th>\n",
       "      <td>105.0</td>\n",
       "      <td>NaN</td>\n",
       "      <td>BrkFace</td>\n",
       "      <td>480.0</td>\n",
       "      <td>Gd</td>\n",
       "      <td>TA</td>\n",
       "      <td>No</td>\n",
       "      <td>BLQ</td>\n",
       "      <td>Unf</td>\n",
       "      <td>TA</td>\n",
       "      <td>Attchd</td>\n",
       "      <td>1977.0</td>\n",
       "      <td>RFn</td>\n",
       "      <td>TA</td>\n",
       "      <td>TA</td>\n",
       "      <td>NaN</td>\n",
       "      <td>MnPrv</td>\n",
       "      <td>NaN</td>\n",
       "    </tr>\n",
       "    <tr>\n",
       "      <th>4</th>\n",
       "      <td>NaN</td>\n",
       "      <td>NaN</td>\n",
       "      <td>Stone</td>\n",
       "      <td>126.0</td>\n",
       "      <td>Gd</td>\n",
       "      <td>TA</td>\n",
       "      <td>No</td>\n",
       "      <td>ALQ</td>\n",
       "      <td>Unf</td>\n",
       "      <td>TA</td>\n",
       "      <td>Attchd</td>\n",
       "      <td>1977.0</td>\n",
       "      <td>Fin</td>\n",
       "      <td>TA</td>\n",
       "      <td>TA</td>\n",
       "      <td>NaN</td>\n",
       "      <td>NaN</td>\n",
       "      <td>NaN</td>\n",
       "    </tr>\n",
       "    <tr>\n",
       "      <th>5</th>\n",
       "      <td>58.0</td>\n",
       "      <td>NaN</td>\n",
       "      <td>None</td>\n",
       "      <td>0.0</td>\n",
       "      <td>Gd</td>\n",
       "      <td>TA</td>\n",
       "      <td>Av</td>\n",
       "      <td>Unf</td>\n",
       "      <td>Unf</td>\n",
       "      <td>Gd</td>\n",
       "      <td>BuiltIn</td>\n",
       "      <td>2006.0</td>\n",
       "      <td>Fin</td>\n",
       "      <td>TA</td>\n",
       "      <td>TA</td>\n",
       "      <td>NaN</td>\n",
       "      <td>NaN</td>\n",
       "      <td>NaN</td>\n",
       "    </tr>\n",
       "    <tr>\n",
       "      <th>6</th>\n",
       "      <td>NaN</td>\n",
       "      <td>NaN</td>\n",
       "      <td>BrkFace</td>\n",
       "      <td>180.0</td>\n",
       "      <td>Gd</td>\n",
       "      <td>TA</td>\n",
       "      <td>No</td>\n",
       "      <td>ALQ</td>\n",
       "      <td>Unf</td>\n",
       "      <td>Gd</td>\n",
       "      <td>Detchd</td>\n",
       "      <td>1957.0</td>\n",
       "      <td>Unf</td>\n",
       "      <td>TA</td>\n",
       "      <td>TA</td>\n",
       "      <td>NaN</td>\n",
       "      <td>NaN</td>\n",
       "      <td>NaN</td>\n",
       "    </tr>\n",
       "    <tr>\n",
       "      <th>7</th>\n",
       "      <td>88.0</td>\n",
       "      <td>NaN</td>\n",
       "      <td>BrkCmn</td>\n",
       "      <td>67.0</td>\n",
       "      <td>TA</td>\n",
       "      <td>TA</td>\n",
       "      <td>No</td>\n",
       "      <td>Rec</td>\n",
       "      <td>BLQ</td>\n",
       "      <td>TA</td>\n",
       "      <td>Attchd</td>\n",
       "      <td>1957.0</td>\n",
       "      <td>RFn</td>\n",
       "      <td>TA</td>\n",
       "      <td>TA</td>\n",
       "      <td>NaN</td>\n",
       "      <td>GdPrv</td>\n",
       "      <td>NaN</td>\n",
       "    </tr>\n",
       "    <tr>\n",
       "      <th>8</th>\n",
       "      <td>70.0</td>\n",
       "      <td>NaN</td>\n",
       "      <td>None</td>\n",
       "      <td>0.0</td>\n",
       "      <td>TA</td>\n",
       "      <td>TA</td>\n",
       "      <td>No</td>\n",
       "      <td>ALQ</td>\n",
       "      <td>GLQ</td>\n",
       "      <td>NaN</td>\n",
       "      <td>Detchd</td>\n",
       "      <td>1965.0</td>\n",
       "      <td>Unf</td>\n",
       "      <td>Fa</td>\n",
       "      <td>Fa</td>\n",
       "      <td>NaN</td>\n",
       "      <td>GdPrv</td>\n",
       "      <td>Shed</td>\n",
       "    </tr>\n",
       "    <tr>\n",
       "      <th>9</th>\n",
       "      <td>80.0</td>\n",
       "      <td>NaN</td>\n",
       "      <td>None</td>\n",
       "      <td>0.0</td>\n",
       "      <td>TA</td>\n",
       "      <td>TA</td>\n",
       "      <td>No</td>\n",
       "      <td>Rec</td>\n",
       "      <td>Unf</td>\n",
       "      <td>NaN</td>\n",
       "      <td>Detchd</td>\n",
       "      <td>1947.0</td>\n",
       "      <td>Unf</td>\n",
       "      <td>TA</td>\n",
       "      <td>TA</td>\n",
       "      <td>NaN</td>\n",
       "      <td>NaN</td>\n",
       "      <td>NaN</td>\n",
       "    </tr>\n",
       "  </tbody>\n",
       "</table>\n",
       "</div>"
      ],
      "text/plain": [
       "   LotFrontage Alley MasVnrType  MasVnrArea BsmtQual BsmtCond BsmtExposure  \\\n",
       "0          NaN   NaN       None         0.0       Gd       TA           No   \n",
       "1         95.0   NaN       None         0.0       TA       Gd           Gd   \n",
       "2         92.0   NaN       None         0.0       Gd       TA           Av   \n",
       "3        105.0   NaN    BrkFace       480.0       Gd       TA           No   \n",
       "4          NaN   NaN      Stone       126.0       Gd       TA           No   \n",
       "5         58.0   NaN       None         0.0       Gd       TA           Av   \n",
       "6          NaN   NaN    BrkFace       180.0       Gd       TA           No   \n",
       "7         88.0   NaN     BrkCmn        67.0       TA       TA           No   \n",
       "8         70.0   NaN       None         0.0       TA       TA           No   \n",
       "9         80.0   NaN       None         0.0       TA       TA           No   \n",
       "\n",
       "  BsmtFinType1 BsmtFinType2 FireplaceQu GarageType  GarageYrBlt GarageFinish  \\\n",
       "0          ALQ          Unf          TA     Attchd       1977.0          RFn   \n",
       "1          ALQ          Rec          TA     Attchd       1970.0          Unf   \n",
       "2          GLQ          Unf          TA     Attchd       1997.0          Unf   \n",
       "3          BLQ          Unf          TA     Attchd       1977.0          RFn   \n",
       "4          ALQ          Unf          TA     Attchd       1977.0          Fin   \n",
       "5          Unf          Unf          Gd    BuiltIn       2006.0          Fin   \n",
       "6          ALQ          Unf          Gd     Detchd       1957.0          Unf   \n",
       "7          Rec          BLQ          TA     Attchd       1957.0          RFn   \n",
       "8          ALQ          GLQ         NaN     Detchd       1965.0          Unf   \n",
       "9          Rec          Unf         NaN     Detchd       1947.0          Unf   \n",
       "\n",
       "  GarageQual GarageCond PoolQC  Fence MiscFeature  \n",
       "0         TA         TA    NaN    NaN         NaN  \n",
       "1         TA         TA    NaN    NaN         NaN  \n",
       "2         TA         TA    NaN    NaN         NaN  \n",
       "3         TA         TA    NaN  MnPrv         NaN  \n",
       "4         TA         TA    NaN    NaN         NaN  \n",
       "5         TA         TA    NaN    NaN         NaN  \n",
       "6         TA         TA    NaN    NaN         NaN  \n",
       "7         TA         TA    NaN  GdPrv         NaN  \n",
       "8         Fa         Fa    NaN  GdPrv        Shed  \n",
       "9         TA         TA    NaN    NaN         NaN  "
      ]
     },
     "execution_count": 26,
     "metadata": {},
     "output_type": "execute_result"
    }
   ],
   "source": [
    "# Which missing value columns are numeric and which are categorical\n",
    "print(X[missing_cols].dtypes)\n",
    "X[missing_cols].head(10)"
   ]
  },
  {
   "cell_type": "code",
   "execution_count": 27,
   "metadata": {},
   "outputs": [
    {
     "data": {
      "text/plain": [
       "Series([], dtype: int64)"
      ]
     },
     "execution_count": 27,
     "metadata": {},
     "output_type": "execute_result"
    }
   ],
   "source": [
    "# Define a function for Data Cleaning\n",
    "def handle_missing(df):\n",
    "    # LotFrontage, MasVnrArea are generic numeric features so we can fill with the median\n",
    "    cols = ['LotFrontage', 'MasVnrArea']\n",
    "    for col in cols:\n",
    "        df[col] = df[col].fillna(df[col].median())\n",
    "    \n",
    "    # Some features have missing values because one does not exist for that instance\n",
    "    none_fill_cols = \"Alley BsmtQual BsmtCond BsmtExposure BsmtFinType1 BsmtFinType2 Electrical FireplaceQu GarageType GarageFinish GarageQual GarageCond PoolQC Fence MiscFeature\".split()\n",
    "    df[none_fill_cols] = df[none_fill_cols].fillna('NONE')\n",
    "    \n",
    "    # Deal with Electrical, MasVnrType and GarageYrBlt\n",
    "    df['Electrical'] = df['Electrical'].fillna(\"SBrkr\") # This is the average\n",
    "    df['MasVnrType'] = df['MasVnrType'].fillna(df.MasVnrType.mode()) # The mode makes more sense based on feature description\n",
    "    df['GarageYrBlt'] = df['GarageYrBlt'].fillna(0) # This house instance has no garage\n",
    "    \n",
    "    # If the testing data has any surprises, we can apply a generic strategy\n",
    "    num_cols = df.select_dtypes(include=np.number).columns\n",
    "    cat_cols = df.select_dtypes(exclude=np.number).columns\n",
    "    for col in num_cols:\n",
    "        df[col] = df[col].fillna(df[col].median())\n",
    "    for col in cat_cols:\n",
    "        df[col] = df[col].fillna('NONE')\n",
    "    \n",
    "    return df\n",
    "    \n",
    "# Apply this to a copy of the DataFrame and check\n",
    "tmp = X.copy()\n",
    "tmp = handle_missing(tmp)\n",
    "tmp.isnull().sum()[tmp.isnull().sum() > 0]"
   ]
  },
  {
   "cell_type": "code",
   "execution_count": 28,
   "metadata": {},
   "outputs": [
    {
     "data": {
      "text/plain": [
       "0"
      ]
     },
     "execution_count": 28,
     "metadata": {},
     "output_type": "execute_result"
    }
   ],
   "source": [
    "# Apply this to the actual data\n",
    "X = handle_missing(X)\n",
    "X.isnull().sum().max()"
   ]
  },
  {
   "cell_type": "markdown",
   "metadata": {},
   "source": [
    "Feature Engineering and Feature Selection\n",
    "Some aspects of Feature Engineering include:\n",
    "\n",
    "Create Aggregated Features (can result in more robust models, as will be seen later)\n",
    "Dealing with heavily Skewed features (either dropping them, transforming them or doing nothing)\n",
    "Scaling/Normalizing numeric variables (really only required for non-Tree-based algorithms like SVMs, Linear Regression, MLP etc.)\n",
    "Encodings for Categorical Variables (the only thing that's necessary to carry out here)"
   ]
  },
  {
   "cell_type": "code",
   "execution_count": 29,
   "metadata": {},
   "outputs": [
    {
     "data": {
      "text/plain": [
       "92"
      ]
     },
     "execution_count": 29,
     "metadata": {},
     "output_type": "execute_result"
    }
   ],
   "source": [
    "# Some interesting features we can create\n",
    "def new_features(X):\n",
    "    X['HasWoodDeck'] = (X['WoodDeckSF'] == 0) * 1\n",
    "\n",
    "    X['HasOpenPorch'] = (X['OpenPorchSF'] == 0) * 1\n",
    "    X['HasEnclosedPorch'] = (X['EnclosedPorch'] == 0) * 1\n",
    "    X['Has3SsnPorch'] = (X['3SsnPorch'] == 0) * 1\n",
    "    X['HasScreenPorch'] = (X['ScreenPorch'] == 0) * 1\n",
    "\n",
    "    X['Total_Home_Quality'] = X['OverallQual'] + X['OverallCond']\n",
    "    X['TotalSF'] = X['TotalBsmtSF'] + X['1stFlrSF'] + X['2ndFlrSF']\n",
    "    X['TotalSquareFootage'] = (X['BsmtFinSF1'] + X['BsmtFinSF2'] + X['1stFlrSF'] + X['2ndFlrSF'])\n",
    "\n",
    "    X['HasPool'] = X['PoolArea'].apply(lambda x: 1 if x > 0 else 0)\n",
    "    X['Has2ndFloor'] = X['2ndFlrSF'].apply(lambda x: 1 if x > 0 else 0)\n",
    "    X['HasGarage'] = X['GarageArea'].apply(lambda x: 1 if x > 0 else 0)\n",
    "    X['HasBsmt'] = X['TotalBsmtSF'].apply(lambda x: 1 if x > 0 else 0)\n",
    "    X['HasFireplace'] = X['Fireplaces'].apply(lambda x: 1 if x > 0 else 0)\n",
    "    \n",
    "    return X\n",
    "\n",
    "X  = new_features(X)\n",
    "len(X.columns)"
   ]
  },
  {
   "cell_type": "code",
   "execution_count": 30,
   "metadata": {},
   "outputs": [
    {
     "data": {
      "text/plain": [
       "MiscVal               23.036310\n",
       "PoolArea              13.226697\n",
       "HasPool               12.800905\n",
       "LotArea               10.645591\n",
       "3SsnPorch              9.758059\n",
       "LowQualFinSF           8.655009\n",
       "Has3SsnPorch           7.078849\n",
       "HasBsmt                5.996640\n",
       "BsmtFinSF2             4.360220\n",
       "KitchenAbvGr           4.359651\n",
       "BsmtHalfBath           4.258924\n",
       "ScreenPorch            4.100466\n",
       "HasGarage              3.912540\n",
       "GarageYrBlt            3.893686\n",
       "HasScreenPorch         3.063213\n",
       "EnclosedPorch          3.039700\n",
       "MasVnrArea             2.832075\n",
       "LotFrontage            2.729928\n",
       "OpenPorchSF            2.407743\n",
       "TotalSquareFootage     2.388755\n",
       "HasEnclosedPorch       2.020003\n",
       "TotalSF                2.009080\n",
       "BsmtFinSF1             1.869201\n",
       "TotalBsmtSF            1.742350\n",
       "1stFlrSF               1.511763\n",
       "WoodDeckSF             1.502996\n",
       "GrLivArea              1.448089\n",
       "MSSubClass             1.420192\n",
       "BsmtUnfSF              0.907889\n",
       "2ndFlrSF               0.822421\n",
       "Fireplaces             0.671102\n",
       "HalfBath               0.655648\n",
       "TotRmsAbvGrd           0.643828\n",
       "BsmtFullBath           0.626300\n",
       "OverallCond            0.579968\n",
       "YearBuilt              0.578459\n",
       "dtype: float64"
      ]
     },
     "execution_count": 30,
     "metadata": {},
     "output_type": "execute_result"
    }
   ],
   "source": [
    "# Find the heavily skewed features\n",
    "num_columns = X.select_dtypes(include=np.number).columns\n",
    "skewed_features = X[num_columns].apply(lambda x: abs(stats.skew(x))).sort_values(ascending=False)\n",
    "high_skewed = skewed_features[skewed_features > 0.5]\n",
    "high_skewed "
   ]
  },
  {
   "cell_type": "markdown",
   "metadata": {},
   "source": [
    "We can set some threshold above which the filtered features will undergo a Logarithmic Transformation but a couple of the features justify their high skewness; e.g. only a few luxury homes have pools so there would naturally be outliers and a pulled distribution."
   ]
  },
  {
   "cell_type": "code",
   "execution_count": 31,
   "metadata": {},
   "outputs": [],
   "source": [
    "# Label Encode a copy of the data\n",
    "from sklearn import preprocessing\n",
    "cat_columns = X.select_dtypes(exclude=np.number).columns\n",
    "fi_data = X.copy()\n",
    "for feat in cat_columns:\n",
    "    fi_data[feat] = preprocessing.LabelEncoder().fit_transform(fi_data[feat])\n",
    "# Use a RandomForest model to look at the Feature Importances \n",
    "from sklearn.ensemble import RandomForestRegressor\n",
    "forest_fi = RandomForestRegressor(n_estimators=100,\n",
    "                                 min_samples_leaf=5,\n",
    "                                 min_samples_split=5,\n",
    "                                 n_jobs=-1).fit(fi_data, y)"
   ]
  },
  {
   "cell_type": "code",
   "execution_count": 32,
   "metadata": {},
   "outputs": [
    {
     "data": {
      "text/plain": [
       "MSSubClass      0.000943\n",
       "MSZoning        0.003387\n",
       "LotFrontage     0.004031\n",
       "LotArea         0.007033\n",
       "Street          0.000000\n",
       "                  ...   \n",
       "HasPool         0.000000\n",
       "Has2ndFloor     0.000039\n",
       "HasGarage       0.000001\n",
       "HasBsmt         0.000000\n",
       "HasFireplace    0.001104\n",
       "Length: 92, dtype: float64"
      ]
     },
     "execution_count": 32,
     "metadata": {},
     "output_type": "execute_result"
    }
   ],
   "source": [
    "# Extract and visualize the importances\n",
    "importances = forest_fi.feature_importances_\n",
    "feat_imps = pd.Series(importances, index=fi_data.columns)\n",
    "feat_imps"
   ]
  },
  {
   "cell_type": "code",
   "execution_count": 33,
   "metadata": {},
   "outputs": [
    {
     "data": {
      "text/plain": [
       "OverallQual           0.462293\n",
       "TotalSF               0.279072\n",
       "TotalSquareFootage    0.083787\n",
       "Total_Home_Quality    0.025532\n",
       "CentralAir            0.011978\n",
       "YearBuilt             0.010415\n",
       "GarageArea            0.010406\n",
       "GrLivArea             0.010016\n",
       "GarageYrBlt           0.008542\n",
       "YearRemodAdd          0.008415\n",
       "dtype: float64"
      ]
     },
     "execution_count": 33,
     "metadata": {},
     "output_type": "execute_result"
    }
   ],
   "source": [
    "# Check the top 10 most relevant features to the target variable\n",
    "feat_imps = feat_imps.sort_values(ascending=False)\n",
    "feat_imps[:10]"
   ]
  },
  {
   "cell_type": "code",
   "execution_count": 34,
   "metadata": {},
   "outputs": [
    {
     "data": {
      "text/plain": [
       "<AxesSubplot:title={'center':'Feature Importances after Engineering'}>"
      ]
     },
     "execution_count": 34,
     "metadata": {},
     "output_type": "execute_result"
    },
    {
     "data": {
      "image/png": "[encoded data removed]",
      "text/plain": [
       "<Figure size 792x648 with 1 Axes>"
      ]
     },
     "metadata": {
      "needs_background": "light"
     },
     "output_type": "display_data"
    }
   ],
   "source": [
    "# Visualize the importances\n",
    "plt.figure(figsize=(11,9))\n",
    "plt.title(\"Feature Importances after Engineering\")\n",
    "feat_imps[:15].plot.bar()"
   ]
  },
  {
   "cell_type": "markdown",
   "metadata": {},
   "source": [
    "Incredible. Three of our aggregated features are among the best that can be used for predicting the Target Variable.\n",
    "\n",
    "The OverallQual feature still reigns the highest and by a significant margin at that. Other than that we can also see the YearBuilt feature among the top predictors which implies that the later a house was built, the price tended to increase a lot more.\n",
    "\n",
    "Another interesting note is that there are no Basement related features in this top-15 list, but there are a number of Garage related features. This could imply that in practice, Garages are more valuable than Basements which makes sense."
   ]
  },
  {
   "cell_type": "code",
   "execution_count": 55,
   "metadata": {},
   "outputs": [],
   "source": [
    "from sklearn.compose import ColumnTransformer\n",
    "from sklearn import preprocessing\n",
    "train_data = pd.read_csv('train.csv')\n",
    "test_data = pd.read_csv('test.csv')\n",
    "test_ids = test_data.Id # TEST IDS STORED HERE!\n",
    "\n",
    "# Scale and seperate Target Variable\n",
    "target_var = 'SalePrice'\n",
    "train_data[target_var] = np.log1p(train_data[target_var]) # TARGET SCALED HERE!\n",
    "X = train_data.drop(['Id', target_var], axis=1)\n",
    "y = train_data[target_var]\n",
    "X_test = test_data.drop('Id', axis=1,inplace=True)\n",
    "\n",
    "# Data Cleaning\n",
    "X = handle_missing(X)\n",
    "X_test = handle_missing(test_data)\n",
    "\n",
    "# Feature Engineering\n",
    "X = new_features(X)\n",
    "X_test = new_features(X_test)\n",
    "\n",
    "# Pipelines\n",
    "num_columns = X.select_dtypes(include=np.number).columns\n",
    "cat_columns = X.select_dtypes(exclude=np.number).columns\n",
    "pipeline = ColumnTransformer([\n",
    "    (\"one_hot_encoder\", preprocessing.OneHotEncoder(sparse=False, handle_unknown='ignore'), cat_columns),\n",
    "    (\"standard_scaler\", preprocessing.StandardScaler(), num_columns)\n",
    "])\n",
    "X = pipeline.fit_transform(X)\n",
    "X_test = pipeline.transform(X_test) # Making sure to not fit to the testing set"
   ]
  },
  {
   "cell_type": "code",
   "execution_count": 56,
   "metadata": {},
   "outputs": [
    {
     "data": {
      "text/plain": [
       "((1168, 313), (1168,), (292, 313))"
      ]
     },
     "execution_count": 56,
     "metadata": {},
     "output_type": "execute_result"
    }
   ],
   "source": [
    "X.shape, y.shape, X_test.shape"
   ]
  },
  {
   "cell_type": "markdown",
   "metadata": {},
   "source": [
    "### Finding the Best Random State"
   ]
  },
  {
   "cell_type": "code",
   "execution_count": 39,
   "metadata": {},
   "outputs": [
    {
     "name": "stdout",
     "output_type": "stream",
     "text": [
      "Best accuracy is  0.905880709370983  on Random_state  135\n"
     ]
    }
   ],
   "source": [
    "from sklearn.linear_model import LinearRegression\n",
    "from sklearn.metrics import r2_score,mean_squared_error,mean_absolute_error\n",
    "maxAccu=0\n",
    "maxRS=0\n",
    "for i in range(1,200):\n",
    "    x_train,x_test,y_train,y_test=train_test_split(X,y,test_size=.30,random_state=i)\n",
    "    lg=LinearRegression()\n",
    "    lg.fit(x_train,y_train)\n",
    "    predrf=lg.predict(x_test)\n",
    "    acc=r2_score(y_test,predrf)\n",
    "    if acc>maxAccu:\n",
    "        maxAccu=acc\n",
    "        maxRS=i\n",
    "print(\"Best accuracy is \",maxAccu,\" on Random_state \",maxRS)    "
   ]
  },
  {
   "cell_type": "code",
   "execution_count": 40,
   "metadata": {},
   "outputs": [],
   "source": [
    "#Splitting the data into training and testing datasets\n",
    "x_train,x_test,y_train,y_test=train_test_split(X,y,test_size=.30,random_state=maxRS)"
   ]
  },
  {
   "cell_type": "code",
   "execution_count": 41,
   "metadata": {},
   "outputs": [],
   "source": [
    "from sklearn.svm import SVR \n",
    "from sklearn.tree import DecisionTreeRegressor \n",
    "from sklearn.neighbors import KNeighborsRegressor \n",
    "from sklearn.ensemble import RandomForestRegressor "
   ]
  },
  {
   "cell_type": "markdown",
   "metadata": {},
   "source": [
    "### Model Evaluation"
   ]
  },
  {
   "cell_type": "code",
   "execution_count": 42,
   "metadata": {},
   "outputs": [
    {
     "name": "stdout",
     "output_type": "stream",
     "text": [
      "DecisionTreeRegressor()\n",
      "1.0\n",
      "error: \n",
      "Mean absolute error:  0.13696991124085584\n",
      "Mean squared error:  0.037568817732021476\n",
      "Root mean squared error:  0.19382677248517935\n",
      "r2_score 0.8141046430356241\n",
      "\n",
      "\n",
      "\n",
      "KNeighborsRegressor()\n",
      "0.8521820071641155\n",
      "error: \n",
      "Mean absolute error:  0.13550054994198135\n",
      "Mean squared error:  0.039799973297178284\n",
      "Root mean squared error:  0.19949930650801342\n",
      "r2_score 0.803064597453504\n",
      "\n",
      "\n",
      "\n",
      "SVR()\n",
      "0.957275060066545\n",
      "error: \n",
      "Mean absolute error:  0.1066701532501172\n",
      "Mean squared error:  0.029996839388595053\n",
      "Root mean squared error:  0.17319595661733866\n",
      "r2_score 0.8515717687545691\n",
      "\n",
      "\n",
      "\n",
      "RandomForestRegressor()\n",
      "0.9775421294038258\n",
      "error: \n",
      "Mean absolute error:  0.09540183418773314\n",
      "Mean squared error:  0.0222482972552489\n",
      "Root mean squared error:  0.14915863117918754\n",
      "r2_score 0.8899125548848753\n",
      "\n",
      "\n",
      "\n",
      "LinearRegression()\n",
      "0.9449973115651308\n",
      "error: \n",
      "Mean absolute error:  0.09892496522927209\n",
      "Mean squared error:  0.019021187685641393\n",
      "Root mean squared error:  0.13791732192020476\n",
      "r2_score 0.905880709370983\n",
      "\n",
      "\n",
      "\n"
     ]
    }
   ],
   "source": [
    "model=[DecisionTreeRegressor(),KNeighborsRegressor(),SVR(),RandomForestRegressor(),LinearRegression()]\n",
    "\n",
    "for m in model:\n",
    "    m.fit(x_train,y_train)\n",
    "    m.score(x_train,y_train)\n",
    "    predm=m.predict(x_test)\n",
    "    print(m)\n",
    "    print(m.score(x_train,y_train))\n",
    "    print(\"error: \")\n",
    "    print(\"Mean absolute error: \",mean_absolute_error(y_test,predm))\n",
    "    print(\"Mean squared error: \",mean_squared_error(y_test,predm))\n",
    "    print(\"Root mean squared error: \",np.sqrt(mean_squared_error(y_test,predm)))\n",
    "    print(\"r2_score\",r2_score(y_test,predm))\n",
    "    print(\"\\n\\n\")"
   ]
  },
  {
   "cell_type": "markdown",
   "metadata": {},
   "source": [
    "### Cross-Val Score"
   ]
  },
  {
   "cell_type": "code",
   "execution_count": 43,
   "metadata": {},
   "outputs": [
    {
     "name": "stdout",
     "output_type": "stream",
     "text": [
      "DecisionTreeRegressor()\n",
      "At cross fold 2 the cv score is 0.7048388734469566\n",
      "\n",
      "\n",
      "DecisionTreeRegressor()\n",
      "At cross fold 3 the cv score is 0.7245387189285711\n",
      "\n",
      "\n",
      "DecisionTreeRegressor()\n",
      "At cross fold 4 the cv score is 0.7192230130625068\n",
      "\n",
      "\n",
      "DecisionTreeRegressor()\n",
      "At cross fold 5 the cv score is 0.7649482033071893\n",
      "\n",
      "\n",
      "DecisionTreeRegressor()\n",
      "At cross fold 6 the cv score is 0.7555435086688109\n",
      "\n",
      "\n",
      "DecisionTreeRegressor()\n",
      "At cross fold 7 the cv score is 0.7577526251715775\n",
      "\n",
      "\n",
      "DecisionTreeRegressor()\n",
      "At cross fold 8 the cv score is 0.7461946111698395\n",
      "\n",
      "\n",
      "DecisionTreeRegressor()\n",
      "At cross fold 9 the cv score is 0.7290757159564746\n",
      "\n",
      "\n",
      "KNeighborsRegressor()\n",
      "At cross fold 2 the cv score is 0.7819225104694383\n",
      "\n",
      "\n",
      "KNeighborsRegressor()\n",
      "At cross fold 3 the cv score is 0.789507732462055\n",
      "\n",
      "\n",
      "KNeighborsRegressor()\n",
      "At cross fold 4 the cv score is 0.7900293464505608\n",
      "\n",
      "\n",
      "KNeighborsRegressor()\n",
      "At cross fold 5 the cv score is 0.7953919242532954\n",
      "\n",
      "\n",
      "KNeighborsRegressor()\n",
      "At cross fold 6 the cv score is 0.7940401898010729\n",
      "\n",
      "\n",
      "KNeighborsRegressor()\n",
      "At cross fold 7 the cv score is 0.7896119268677132\n",
      "\n",
      "\n",
      "KNeighborsRegressor()\n",
      "At cross fold 8 the cv score is 0.7945709041848505\n",
      "\n",
      "\n",
      "KNeighborsRegressor()\n",
      "At cross fold 9 the cv score is 0.7897399831191169\n",
      "\n",
      "\n",
      "SVR()\n",
      "At cross fold 2 the cv score is 0.8447247092697288\n",
      "\n",
      "\n",
      "SVR()\n",
      "At cross fold 3 the cv score is 0.8562328443294266\n",
      "\n",
      "\n",
      "SVR()\n",
      "At cross fold 4 the cv score is 0.8541031355668031\n",
      "\n",
      "\n",
      "SVR()\n",
      "At cross fold 5 the cv score is 0.8578366778950304\n",
      "\n",
      "\n",
      "SVR()\n",
      "At cross fold 6 the cv score is 0.8603395193482345\n",
      "\n",
      "\n",
      "SVR()\n",
      "At cross fold 7 the cv score is 0.8599736421875193\n",
      "\n",
      "\n",
      "SVR()\n",
      "At cross fold 8 the cv score is 0.860882626355904\n",
      "\n",
      "\n",
      "SVR()\n",
      "At cross fold 9 the cv score is 0.861134396810621\n",
      "\n",
      "\n",
      "RandomForestRegressor()\n",
      "At cross fold 2 the cv score is 0.846766169918436\n",
      "\n",
      "\n",
      "RandomForestRegressor()\n",
      "At cross fold 3 the cv score is 0.8662060059757627\n",
      "\n",
      "\n",
      "RandomForestRegressor()\n",
      "At cross fold 4 the cv score is 0.8599359528761861\n",
      "\n",
      "\n",
      "RandomForestRegressor()\n",
      "At cross fold 5 the cv score is 0.866824832108439\n",
      "\n",
      "\n",
      "RandomForestRegressor()\n",
      "At cross fold 6 the cv score is 0.8660506938603532\n",
      "\n",
      "\n",
      "RandomForestRegressor()\n",
      "At cross fold 7 the cv score is 0.8670980439266585\n",
      "\n",
      "\n",
      "RandomForestRegressor()\n",
      "At cross fold 8 the cv score is 0.8689394828768843\n",
      "\n",
      "\n",
      "RandomForestRegressor()\n",
      "At cross fold 9 the cv score is 0.8638383067525632\n",
      "\n",
      "\n",
      "LinearRegression()\n",
      "At cross fold 2 the cv score is -5.325200035639485e+21\n",
      "\n",
      "\n",
      "LinearRegression()\n",
      "At cross fold 3 the cv score is -1.877161582625074e+18\n",
      "\n",
      "\n",
      "LinearRegression()\n",
      "At cross fold 4 the cv score is -6.098122554125201e+20\n",
      "\n",
      "\n",
      "LinearRegression()\n",
      "At cross fold 5 the cv score is -7.720705003140119e+20\n",
      "\n",
      "\n",
      "LinearRegression()\n",
      "At cross fold 6 the cv score is -1.596402823065342e+20\n",
      "\n",
      "\n",
      "LinearRegression()\n",
      "At cross fold 7 the cv score is -3.9107700642686756e+20\n",
      "\n",
      "\n",
      "LinearRegression()\n",
      "At cross fold 8 the cv score is -4.323484545007178e+19\n",
      "\n",
      "\n",
      "LinearRegression()\n",
      "At cross fold 9 the cv score is -2.020332229802546e+19\n",
      "\n",
      "\n"
     ]
    }
   ],
   "source": [
    "#Checking the cross val score\n",
    "from sklearn.model_selection import cross_val_score\n",
    "for m in model:\n",
    "    for j in range(2,10):\n",
    "        cv_score=cross_val_score(m,X,y,cv=j)\n",
    "        cv_mean=cv_score.mean()\n",
    "        print(m)\n",
    "        print(f'At cross fold {j} the cv score is {cv_mean}')\n",
    "        print(\"\\n\")"
   ]
  },
  {
   "cell_type": "markdown",
   "metadata": {},
   "source": [
    "### Regularization"
   ]
  },
  {
   "cell_type": "code",
   "execution_count": 44,
   "metadata": {},
   "outputs": [
    {
     "name": "stdout",
     "output_type": "stream",
     "text": [
      "{'alpha': 0.001, 'random_state': 0}\n"
     ]
    }
   ],
   "source": [
    "from sklearn.model_selection import GridSearchCV\n",
    "from sklearn.linear_model import Lasso\n",
    "parameters={'alpha':[.0001,.001,.01,.1,1,10],'random_state':list(range(0,10))}\n",
    "ls=Lasso()\n",
    "clf=GridSearchCV(ls,parameters)\n",
    "clf.fit(x_train,y_train)\n",
    "print(clf.best_params_)"
   ]
  },
  {
   "cell_type": "code",
   "execution_count": 45,
   "metadata": {},
   "outputs": [
    {
     "name": "stdout",
     "output_type": "stream",
     "text": [
      "r2_score: 0.9045709552681456\n",
      "error: \n",
      "Mean absolute error:  0.08878002099116579\n",
      "Mean squared error:  0.01928588452351183\n",
      "Root mean squared error:  0.138873627890654\n"
     ]
    }
   ],
   "source": [
    "ls=Lasso(alpha=0.001,random_state=0)\n",
    "ls.fit(x_train,y_train)\n",
    "ls.score(x_train,y_train)\n",
    "predls=ls.predict(x_test)\n",
    "lss=r2_score(y_test,predls)\n",
    "print('r2_score:', lss)\n",
    "print(\"error: \")\n",
    "print(\"Mean absolute error: \",mean_absolute_error(y_test,predls))\n",
    "print(\"Mean squared error: \",mean_squared_error(y_test,predls))\n",
    "print(\"Root mean squared error: \",np.sqrt(mean_squared_error(y_test,predls)))"
   ]
  },
  {
   "cell_type": "code",
   "execution_count": 46,
   "metadata": {},
   "outputs": [
    {
     "data": {
      "text/plain": [
       "0.8429888692569256"
      ]
     },
     "execution_count": 46,
     "metadata": {},
     "output_type": "execute_result"
    }
   ],
   "source": [
    "cv_score=cross_val_score(ls,X,y,cv=2)\n",
    "cv_mean=cv_score.mean()\n",
    "cv_mean"
   ]
  },
  {
   "cell_type": "markdown",
   "metadata": {},
   "source": [
    "### Hyperparameter Tuning"
   ]
  },
  {
   "cell_type": "code",
   "execution_count": 47,
   "metadata": {},
   "outputs": [
    {
     "name": "stdout",
     "output_type": "stream",
     "text": [
      "{'criterion': 'mse', 'max_depth': 8, 'max_features': 'sqrt', 'n_estimators': 500}\n"
     ]
    }
   ],
   "source": [
    "parameters={'criterion':['mse','mae'],'max_features':[\"auto\",\"sqrt\",\"log2\"],'n_estimators':[100,500],'max_depth': [4,5,6,7,8]}\n",
    "rf=RandomForestRegressor()\n",
    "clf=GridSearchCV(rf,parameters)\n",
    "clf.fit(x_train,y_train)\n",
    "print(clf.best_params_)"
   ]
  },
  {
   "cell_type": "code",
   "execution_count": 48,
   "metadata": {},
   "outputs": [
    {
     "name": "stdout",
     "output_type": "stream",
     "text": [
      "R2 Score: 84.98459465437446\n",
      "error: \n",
      "Mean absolute error:  0.10878600557184277\n",
      "Mean squared error:  0.030345622172281077\n",
      "Root mean squared error:  0.1741999488297315\n",
      "Cross val score: 85.53602614113379\n"
     ]
    }
   ],
   "source": [
    "rf=RandomForestRegressor(criterion=\"mse\",max_features=\"sqrt\",n_estimators=500,max_depth=8)\n",
    "rf.fit(x_train,y_train)\n",
    "rf.score(x_train,y_train)\n",
    "pred_decision=rf.predict(x_test)\n",
    "rfs=r2_score(y_test,pred_decision)\n",
    "print('R2 Score:',rfs*100)\n",
    "print(\"error: \")\n",
    "print(\"Mean absolute error: \",mean_absolute_error(y_test,pred_decision))\n",
    "print(\"Mean squared error: \",mean_squared_error(y_test,pred_decision))\n",
    "print(\"Root mean squared error: \",np.sqrt(mean_squared_error(y_test,pred_decision)))\n",
    "rfscore=cross_val_score(rf,X,y,cv=9)\n",
    "rfc=rfscore.mean()\n",
    "print('Cross val score:',rfc*100)"
   ]
  },
  {
   "cell_type": "code",
   "execution_count": 49,
   "metadata": {},
   "outputs": [
    {
     "name": "stdout",
     "output_type": "stream",
     "text": [
      "{'max_depth': 7, 'max_features': None, 'max_leaf_nodes': 10, 'min_samples_leaf': 10, 'min_weight_fraction_leaf': 0.1, 'splitter': 'best'}\n"
     ]
    }
   ],
   "source": [
    "parameters={\"splitter\":[\"best\",\"random\"],\n",
    "            \"max_depth\" : [1,3,5,7,9,11,12],\n",
    "           \"min_samples_leaf\":[1,2,3,4,5,6,7,8,9,10],\n",
    "           \"min_weight_fraction_leaf\":[0.1,0.2,0.3,0.4,0.5,0.6,0.7,0.8,0.9],\n",
    "           \"max_features\":[\"auto\",\"log2\",\"sqrt\",None],\n",
    "           \"max_leaf_nodes\":[None,10,20,30,40,50,60,70,80,90] }\n",
    "dt=DecisionTreeRegressor()\n",
    "clf=GridSearchCV(dt,parameters)\n",
    "clf.fit(x_train,y_train)\n",
    "print(clf.best_params_)"
   ]
  },
  {
   "cell_type": "code",
   "execution_count": 51,
   "metadata": {},
   "outputs": [
    {
     "name": "stdout",
     "output_type": "stream",
     "text": [
      "R2 Score: 74.86272276340209\n",
      "error: \n",
      "Mean absolute error:  0.15680724736109783\n",
      "Mean squared error:  0.05080158010412361\n",
      "Root mean squared error:  0.22539205865363493\n",
      "Cross val score: 71.04136208149076\n"
     ]
    }
   ],
   "source": [
    "dt=DecisionTreeRegressor(splitter='best',max_features=None,max_depth=7,min_samples_leaf=10,\n",
    "                        min_weight_fraction_leaf=0.1,max_leaf_nodes=10)\n",
    "dt.fit(x_train,y_train)\n",
    "dt.score(x_train,y_train)\n",
    "pred_dt=dt.predict(x_test)\n",
    "dts=r2_score(y_test,pred_dt)\n",
    "print('R2 Score:',dts*100)\n",
    "print(\"error: \")\n",
    "print(\"Mean absolute error: \",mean_absolute_error(y_test,pred_dt))\n",
    "print(\"Mean squared error: \",mean_squared_error(y_test,pred_dt))\n",
    "print(\"Root mean squared error: \",np.sqrt(mean_squared_error(y_test,pred_dt)))\n",
    "dtscore=cross_val_score(dt,X,y,cv=5)\n",
    "dtc=dtscore.mean()\n",
    "print('Cross val score:',dtc*100)"
   ]
  },
  {
   "cell_type": "code",
   "execution_count": 50,
   "metadata": {},
   "outputs": [
    {
     "name": "stdout",
     "output_type": "stream",
     "text": [
      "{'algorithm': 'ball_tree', 'leaf_size': 1, 'n_jobs': -1, 'n_neighbors': 10, 'weights': 'distance'}\n"
     ]
    }
   ],
   "source": [
    "params = {'n_neighbors':[5,6,7,8,9,10],\n",
    "          'leaf_size':[1,2,3,5],\n",
    "          'weights':['uniform', 'distance'],\n",
    "          'algorithm':['auto', 'ball_tree','kd_tree','brute'],\n",
    "          'n_jobs':[-1]}\n",
    "kn=KNeighborsRegressor()\n",
    "clf=GridSearchCV(kn,params)\n",
    "clf.fit(x_train,y_train)\n",
    "print(clf.best_params_)"
   ]
  },
  {
   "cell_type": "code",
   "execution_count": 52,
   "metadata": {},
   "outputs": [
    {
     "name": "stdout",
     "output_type": "stream",
     "text": [
      "R2 Score: 81.33169658822848\n",
      "error: \n",
      "Mean absolute error:  0.13179252876964465\n",
      "Mean squared error:  0.03772800459870128\n",
      "Root mean squared error:  0.19423698051272645\n",
      "Cross val score: 80.77060896596208\n"
     ]
    }
   ],
   "source": [
    "kn=KNeighborsRegressor(n_neighbors=10,leaf_size=1,weights='distance',algorithm='ball_tree',n_jobs=-1)\n",
    "kn.fit(x_train,y_train)\n",
    "kn.score(x_train,y_train)\n",
    "pred_kn=kn.predict(x_test)\n",
    "kns=r2_score(y_test,pred_kn)\n",
    "print('R2 Score:',kns*100)\n",
    "print(\"error: \")\n",
    "print(\"Mean absolute error: \",mean_absolute_error(y_test,pred_kn))\n",
    "print(\"Mean squared error: \",mean_squared_error(y_test,pred_kn))\n",
    "print(\"Root mean squared error: \",np.sqrt(mean_squared_error(y_test,pred_kn)))\n",
    "knscore=cross_val_score(kn,X,y,cv=8)\n",
    "knc=knscore.mean()\n",
    "print('Cross val score:',knc*100)"
   ]
  },
  {
   "cell_type": "markdown",
   "metadata": {},
   "source": [
    "After hyper parameter tuning, we can see random forest has least difference between r2_score and cross val score. Also in terms of error, Random Forest have least MAE and RMSE. So, Random Forest Regressor is our best Model\n"
   ]
  },
  {
   "cell_type": "markdown",
   "metadata": {},
   "source": [
    "### Prediction for Test Dataset"
   ]
  },
  {
   "cell_type": "code",
   "execution_count": 57,
   "metadata": {},
   "outputs": [],
   "source": [
    "pred=rf.predict(X_test)"
   ]
  },
  {
   "cell_type": "code",
   "execution_count": 58,
   "metadata": {},
   "outputs": [],
   "source": [
    "df=pd.DataFrame(pred)\n",
    "df.to_csv('sales_price.csv')"
   ]
  },
  {
   "cell_type": "code",
   "execution_count": null,
   "metadata": {},
   "outputs": [],
   "source": []
  }
 ],
 "metadata": {
  "kernelspec": {
   "display_name": "Python 3",
   "language": "python",
   "name": "python3"
  },
  "language_info": {
   "codemirror_mode": {
    "name": "ipython",
    "version": 3
   },
   "file_extension": ".py",
   "mimetype": "text/x-python",
   "name": "python",
   "nbconvert_exporter": "python",
   "pygments_lexer": "ipython3",
   "version": "3.8.5"
  }
 },
 "nbformat": 4,
 "nbformat_minor": 4
}
